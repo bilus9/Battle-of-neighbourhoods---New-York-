{
 "cells": [
  {
   "cell_type": "code",
   "execution_count": null,
   "metadata": {},
   "outputs": [],
   "source": []
  },
  {
   "cell_type": "markdown",
   "metadata": {
    "collapsed": true
   },
   "source": [
    "THE BATTLE OF NEIGHBORHOODS\n",
    "Introduction:New York City's demographics show that it is a large and ethnically diverse metropolis. With it's diverse culture , comes diverse food items. There are many resturants in New york City, each beloning to different categories like Chinese , Indian , Italian, French etc.\n",
    "\n",
    "In this project , we will list and visualize all major parts of New York City that has great French restaurants."
   ]
  },
  {
   "cell_type": "markdown",
   "metadata": {},
   "source": [
    "Data:\n",
    "For this project we need the following data:\n",
    "\n",
    "1. New York City data that contains list Boroughs, Neighborhoods along with their latitude and longitude.\n",
    "2. French resturants in each neighborhood of new york city.\n",
    "3. GeoSpace data"
   ]
  },
  {
   "cell_type": "markdown",
   "metadata": {},
   "source": [
    "Questions that will be answers at the end of this project :¶\n",
    "1. What are best location in New York City for French Cuisine?\n",
    "2. Which areas have potential French Restaurant Market?\n",
    "3. Which all areas lack French Restaurants?\n",
    "4. Which is the best place to stay if you prefer French Cuisine?"
   ]
  },
  {
   "cell_type": "markdown",
   "metadata": {},
   "source": [
    "Methodology:\n",
    "1.We begin by collecting the New York city data from \"https://cocl.us/new_york_dataset\".\n",
    "2.We will find all venues for each neighborhood using FourSquare API.\n",
    "3.We will then filter out all Indian Restuarant venues.\n",
    "4.Next using FourSquare API, we will find the Ratings, Tips, and Like count for all the Indian Resturants.\n",
    "5.Next we will sort the data keeping Ratings as the constraint.\n",
    "6.Finally, we will visualize the Ranking of neighborhoods using python's Folium library."
   ]
  },
  {
   "cell_type": "markdown",
   "metadata": {},
   "source": [
    "Lets Start by importing the required Libraries."
   ]
  },
  {
   "cell_type": "code",
   "execution_count": 1,
   "metadata": {},
   "outputs": [
    {
     "name": "stdout",
     "output_type": "stream",
     "text": [
      "/opt/conda/envs/Python-3.7-main/lib/python3.7/site-packages/secretstorage/dhcrypto.py:16: CryptographyDeprecationWarning: int_from_bytes is deprecated, use int.from_bytes instead\n",
      "  from cryptography.utils import int_from_bytes\n",
      "/opt/conda/envs/Python-3.7-main/lib/python3.7/site-packages/secretstorage/util.py:25: CryptographyDeprecationWarning: int_from_bytes is deprecated, use int.from_bytes instead\n",
      "  from cryptography.utils import int_from_bytes\n",
      "Collecting geocoder\n",
      "  Downloading geocoder-1.38.1-py2.py3-none-any.whl (98 kB)\n",
      "\u001b[K     |████████████████████████████████| 98 kB 10.9 MB/s eta 0:00:01\n",
      "\u001b[?25hRequirement already satisfied: six in /opt/conda/envs/Python-3.7-main/lib/python3.7/site-packages (from geocoder) (1.15.0)\n",
      "Requirement already satisfied: requests in /opt/conda/envs/Python-3.7-main/lib/python3.7/site-packages (from geocoder) (2.24.0)\n",
      "Requirement already satisfied: click in /opt/conda/envs/Python-3.7-main/lib/python3.7/site-packages (from geocoder) (7.1.2)\n",
      "Collecting ratelim\n",
      "  Downloading ratelim-0.1.6-py2.py3-none-any.whl (4.0 kB)\n",
      "Requirement already satisfied: future in /opt/conda/envs/Python-3.7-main/lib/python3.7/site-packages (from geocoder) (0.18.2)\n",
      "Requirement already satisfied: chardet<4,>=3.0.2 in /opt/conda/envs/Python-3.7-main/lib/python3.7/site-packages (from requests->geocoder) (3.0.4)\n",
      "Requirement already satisfied: urllib3!=1.25.0,!=1.25.1,<1.26,>=1.21.1 in /opt/conda/envs/Python-3.7-main/lib/python3.7/site-packages (from requests->geocoder) (1.25.9)\n",
      "Requirement already satisfied: idna<3,>=2.5 in /opt/conda/envs/Python-3.7-main/lib/python3.7/site-packages (from requests->geocoder) (2.9)\n",
      "Requirement already satisfied: certifi>=2017.4.17 in /opt/conda/envs/Python-3.7-main/lib/python3.7/site-packages (from requests->geocoder) (2020.12.5)\n",
      "Requirement already satisfied: decorator in /opt/conda/envs/Python-3.7-main/lib/python3.7/site-packages (from ratelim->geocoder) (4.4.2)\n",
      "Installing collected packages: ratelim, geocoder\n",
      "Successfully installed geocoder-1.38.1 ratelim-0.1.6\n",
      "/opt/conda/envs/Python-3.7-main/lib/python3.7/site-packages/secretstorage/dhcrypto.py:16: CryptographyDeprecationWarning: int_from_bytes is deprecated, use int.from_bytes instead\n",
      "  from cryptography.utils import int_from_bytes\n",
      "/opt/conda/envs/Python-3.7-main/lib/python3.7/site-packages/secretstorage/util.py:25: CryptographyDeprecationWarning: int_from_bytes is deprecated, use int.from_bytes instead\n",
      "  from cryptography.utils import int_from_bytes\n",
      "Collecting folium\n",
      "  Downloading folium-0.12.1-py2.py3-none-any.whl (94 kB)\n",
      "\u001b[K     |████████████████████████████████| 94 kB 6.6 MB/s  eta 0:00:01\n",
      "\u001b[?25hRequirement already satisfied: jinja2>=2.9 in /opt/conda/envs/Python-3.7-main/lib/python3.7/site-packages (from folium) (2.11.2)\n",
      "Collecting branca>=0.3.0\n",
      "  Downloading branca-0.4.2-py3-none-any.whl (24 kB)\n",
      "Requirement already satisfied: numpy in /opt/conda/envs/Python-3.7-main/lib/python3.7/site-packages (from folium) (1.18.5)\n",
      "Requirement already satisfied: requests in /opt/conda/envs/Python-3.7-main/lib/python3.7/site-packages (from folium) (2.24.0)\n",
      "Requirement already satisfied: MarkupSafe>=0.23 in /opt/conda/envs/Python-3.7-main/lib/python3.7/site-packages (from jinja2>=2.9->folium) (1.1.1)\n",
      "Requirement already satisfied: chardet<4,>=3.0.2 in /opt/conda/envs/Python-3.7-main/lib/python3.7/site-packages (from requests->folium) (3.0.4)\n",
      "Requirement already satisfied: certifi>=2017.4.17 in /opt/conda/envs/Python-3.7-main/lib/python3.7/site-packages (from requests->folium) (2020.12.5)\n",
      "Requirement already satisfied: urllib3!=1.25.0,!=1.25.1,<1.26,>=1.21.1 in /opt/conda/envs/Python-3.7-main/lib/python3.7/site-packages (from requests->folium) (1.25.9)\n",
      "Requirement already satisfied: idna<3,>=2.5 in /opt/conda/envs/Python-3.7-main/lib/python3.7/site-packages (from requests->folium) (2.9)\n",
      "Installing collected packages: branca, folium\n",
      "Successfully installed branca-0.4.2 folium-0.12.1\n",
      "/opt/conda/envs/Python-3.7-main/lib/python3.7/site-packages/secretstorage/dhcrypto.py:16: CryptographyDeprecationWarning: int_from_bytes is deprecated, use int.from_bytes instead\n",
      "  from cryptography.utils import int_from_bytes\n",
      "/opt/conda/envs/Python-3.7-main/lib/python3.7/site-packages/secretstorage/util.py:25: CryptographyDeprecationWarning: int_from_bytes is deprecated, use int.from_bytes instead\n",
      "  from cryptography.utils import int_from_bytes\n",
      "Collecting SomePackage\n",
      "  Downloading somepackage-1.2.3.tar.gz (8.6 kB)\n",
      "Building wheels for collected packages: SomePackage\n",
      "  Building wheel for SomePackage (setup.py) ... \u001b[?25ldone\n",
      "\u001b[?25h  Created wheel for SomePackage: filename=somepackage-1.2.3-py3-none-any.whl size=9289 sha256=bf4de82d51131468ef5ee6d8efaf23eef8a0a19fc572c270e9d33961001e3932\n",
      "  Stored in directory: /tmp/wsuser/.cache/pip/wheels/ac/60/3d/195deb8ad5768f322df5510ff4f686233d29243c709dc563ba\n",
      "Successfully built SomePackage\n",
      "Installing collected packages: SomePackage\n",
      "Successfully installed SomePackage-1.2.3\n",
      "/opt/conda/envs/Python-3.7-main/lib/python3.7/site-packages/secretstorage/dhcrypto.py:16: CryptographyDeprecationWarning: int_from_bytes is deprecated, use int.from_bytes instead\n",
      "  from cryptography.utils import int_from_bytes\n",
      "/opt/conda/envs/Python-3.7-main/lib/python3.7/site-packages/secretstorage/util.py:25: CryptographyDeprecationWarning: int_from_bytes is deprecated, use int.from_bytes instead\n",
      "  from cryptography.utils import int_from_bytes\n",
      "Requirement already satisfied: numpy in /opt/conda/envs/Python-3.7-main/lib/python3.7/site-packages (1.18.5)\n",
      "/opt/conda/envs/Python-3.7-main/lib/python3.7/site-packages/secretstorage/dhcrypto.py:16: CryptographyDeprecationWarning: int_from_bytes is deprecated, use int.from_bytes instead\n",
      "  from cryptography.utils import int_from_bytes\n",
      "/opt/conda/envs/Python-3.7-main/lib/python3.7/site-packages/secretstorage/util.py:25: CryptographyDeprecationWarning: int_from_bytes is deprecated, use int.from_bytes instead\n",
      "  from cryptography.utils import int_from_bytes\n",
      "Requirement already satisfied: BeautifulSoup4 in /opt/conda/envs/Python-3.7-main/lib/python3.7/site-packages (4.9.1)\n",
      "Requirement already satisfied: soupsieve>1.2 in /opt/conda/envs/Python-3.7-main/lib/python3.7/site-packages (from BeautifulSoup4) (2.0.1)\n",
      "/opt/conda/envs/Python-3.7-main/lib/python3.7/site-packages/secretstorage/dhcrypto.py:16: CryptographyDeprecationWarning: int_from_bytes is deprecated, use int.from_bytes instead\n",
      "  from cryptography.utils import int_from_bytes\n",
      "/opt/conda/envs/Python-3.7-main/lib/python3.7/site-packages/secretstorage/util.py:25: CryptographyDeprecationWarning: int_from_bytes is deprecated, use int.from_bytes instead\n",
      "  from cryptography.utils import int_from_bytes\n",
      "Collecting wikipedia\n",
      "  Downloading wikipedia-1.4.0.tar.gz (27 kB)\n",
      "Requirement already satisfied: beautifulsoup4 in /opt/conda/envs/Python-3.7-main/lib/python3.7/site-packages (from wikipedia) (4.9.1)\n",
      "Requirement already satisfied: requests<3.0.0,>=2.0.0 in /opt/conda/envs/Python-3.7-main/lib/python3.7/site-packages (from wikipedia) (2.24.0)\n",
      "Requirement already satisfied: soupsieve>1.2 in /opt/conda/envs/Python-3.7-main/lib/python3.7/site-packages (from beautifulsoup4->wikipedia) (2.0.1)\n",
      "Requirement already satisfied: idna<3,>=2.5 in /opt/conda/envs/Python-3.7-main/lib/python3.7/site-packages (from requests<3.0.0,>=2.0.0->wikipedia) (2.9)\n",
      "Requirement already satisfied: urllib3!=1.25.0,!=1.25.1,<1.26,>=1.21.1 in /opt/conda/envs/Python-3.7-main/lib/python3.7/site-packages (from requests<3.0.0,>=2.0.0->wikipedia) (1.25.9)\n",
      "Requirement already satisfied: chardet<4,>=3.0.2 in /opt/conda/envs/Python-3.7-main/lib/python3.7/site-packages (from requests<3.0.0,>=2.0.0->wikipedia) (3.0.4)\n",
      "Requirement already satisfied: certifi>=2017.4.17 in /opt/conda/envs/Python-3.7-main/lib/python3.7/site-packages (from requests<3.0.0,>=2.0.0->wikipedia) (2020.12.5)\n",
      "Building wheels for collected packages: wikipedia\n",
      "  Building wheel for wikipedia (setup.py) ... \u001b[?25ldone\n",
      "\u001b[?25h  Created wheel for wikipedia: filename=wikipedia-1.4.0-py3-none-any.whl size=11685 sha256=4281bd28d9e7c9ee874922901d867289c8d8ddf32b963ee13b71cc2425e0f9ff\n",
      "  Stored in directory: /tmp/wsuser/.cache/pip/wheels/15/93/6d/5b2c68b8a64c7a7a04947b4ed6d89fb557dcc6bc27d1d7f3ba\n",
      "Successfully built wikipedia\n",
      "Installing collected packages: wikipedia\n",
      "Successfully installed wikipedia-1.4.0\n",
      "/opt/conda/envs/Python-3.7-main/lib/python3.7/site-packages/secretstorage/dhcrypto.py:16: CryptographyDeprecationWarning: int_from_bytes is deprecated, use int.from_bytes instead\n",
      "  from cryptography.utils import int_from_bytes\n",
      "/opt/conda/envs/Python-3.7-main/lib/python3.7/site-packages/secretstorage/util.py:25: CryptographyDeprecationWarning: int_from_bytes is deprecated, use int.from_bytes instead\n",
      "  from cryptography.utils import int_from_bytes\n",
      "Collecting bs4\n",
      "  Downloading bs4-0.0.1.tar.gz (1.1 kB)\n",
      "Requirement already satisfied: beautifulsoup4 in /opt/conda/envs/Python-3.7-main/lib/python3.7/site-packages (from bs4) (4.9.1)\n",
      "Requirement already satisfied: soupsieve>1.2 in /opt/conda/envs/Python-3.7-main/lib/python3.7/site-packages (from beautifulsoup4->bs4) (2.0.1)\n",
      "Building wheels for collected packages: bs4\n",
      "  Building wheel for bs4 (setup.py) ... \u001b[?25ldone\n",
      "\u001b[?25h  Created wheel for bs4: filename=bs4-0.0.1-py3-none-any.whl size=1272 sha256=ee5277a290a64d94462ac2156f4d5a6831d29ba194ce4b853cec11df34b811c4\n",
      "  Stored in directory: /tmp/wsuser/.cache/pip/wheels/0a/9e/ba/20e5bbc1afef3a491f0b3bb74d508f99403aabe76eda2167ca\n",
      "Successfully built bs4\n",
      "Installing collected packages: bs4\n",
      "Successfully installed bs4-0.0.1\n",
      "/opt/conda/envs/Python-3.7-main/lib/python3.7/site-packages/secretstorage/dhcrypto.py:16: CryptographyDeprecationWarning: int_from_bytes is deprecated, use int.from_bytes instead\n",
      "  from cryptography.utils import int_from_bytes\n",
      "/opt/conda/envs/Python-3.7-main/lib/python3.7/site-packages/secretstorage/util.py:25: CryptographyDeprecationWarning: int_from_bytes is deprecated, use int.from_bytes instead\n",
      "  from cryptography.utils import int_from_bytes\n",
      "Requirement already satisfied: IPython in /opt/conda/envs/Python-3.7-main/lib/python3.7/site-packages (7.15.0)\n",
      "Requirement already satisfied: decorator in /opt/conda/envs/Python-3.7-main/lib/python3.7/site-packages (from IPython) (4.4.2)\n",
      "Requirement already satisfied: pexpect; sys_platform != \"win32\" in /opt/conda/envs/Python-3.7-main/lib/python3.7/site-packages (from IPython) (4.8.0)\n",
      "Requirement already satisfied: setuptools>=18.5 in /opt/conda/envs/Python-3.7-main/lib/python3.7/site-packages (from IPython) (47.3.1.post20200622)\n",
      "Requirement already satisfied: pygments in /opt/conda/envs/Python-3.7-main/lib/python3.7/site-packages (from IPython) (2.6.1)\n",
      "Requirement already satisfied: backcall in /opt/conda/envs/Python-3.7-main/lib/python3.7/site-packages (from IPython) (0.2.0)\n",
      "Requirement already satisfied: prompt-toolkit!=3.0.0,!=3.0.1,<3.1.0,>=2.0.0 in /opt/conda/envs/Python-3.7-main/lib/python3.7/site-packages (from IPython) (3.0.5)\n",
      "Requirement already satisfied: jedi>=0.10 in /opt/conda/envs/Python-3.7-main/lib/python3.7/site-packages (from IPython) (0.17.1)\n",
      "Requirement already satisfied: traitlets>=4.2 in /opt/conda/envs/Python-3.7-main/lib/python3.7/site-packages (from IPython) (4.3.3)\n",
      "Requirement already satisfied: pickleshare in /opt/conda/envs/Python-3.7-main/lib/python3.7/site-packages (from IPython) (0.7.5)\n",
      "Requirement already satisfied: ptyprocess>=0.5 in /opt/conda/envs/Python-3.7-main/lib/python3.7/site-packages (from pexpect; sys_platform != \"win32\"->IPython) (0.6.0)\n",
      "Requirement already satisfied: wcwidth in /opt/conda/envs/Python-3.7-main/lib/python3.7/site-packages (from prompt-toolkit!=3.0.0,!=3.0.1,<3.1.0,>=2.0.0->IPython) (0.2.4)\n",
      "Requirement already satisfied: parso<0.8.0,>=0.7.0 in /opt/conda/envs/Python-3.7-main/lib/python3.7/site-packages (from jedi>=0.10->IPython) (0.7.0)\n",
      "Requirement already satisfied: ipython-genutils in /opt/conda/envs/Python-3.7-main/lib/python3.7/site-packages (from traitlets>=4.2->IPython) (0.2.0)\n",
      "Requirement already satisfied: six in /opt/conda/envs/Python-3.7-main/lib/python3.7/site-packages (from traitlets>=4.2->IPython) (1.15.0)\n",
      "/opt/conda/envs/Python-3.7-main/lib/python3.7/site-packages/secretstorage/dhcrypto.py:16: CryptographyDeprecationWarning: int_from_bytes is deprecated, use int.from_bytes instead\n",
      "  from cryptography.utils import int_from_bytes\n",
      "/opt/conda/envs/Python-3.7-main/lib/python3.7/site-packages/secretstorage/util.py:25: CryptographyDeprecationWarning: int_from_bytes is deprecated, use int.from_bytes instead\n",
      "  from cryptography.utils import int_from_bytes\n",
      "Requirement already satisfied: lxml in /opt/conda/envs/Python-3.7-main/lib/python3.7/site-packages (4.5.1)\n",
      "/opt/conda/envs/Python-3.7-main/lib/python3.7/site-packages/secretstorage/dhcrypto.py:16: CryptographyDeprecationWarning: int_from_bytes is deprecated, use int.from_bytes instead\n",
      "  from cryptography.utils import int_from_bytes\n",
      "/opt/conda/envs/Python-3.7-main/lib/python3.7/site-packages/secretstorage/util.py:25: CryptographyDeprecationWarning: int_from_bytes is deprecated, use int.from_bytes instead\n",
      "  from cryptography.utils import int_from_bytes\n",
      "Collecting Nominatim\n",
      "  Downloading nominatim-0.1.tar.gz (1.7 kB)\n",
      "Building wheels for collected packages: Nominatim\n",
      "  Building wheel for Nominatim (setup.py) ... \u001b[?25ldone\n",
      "\u001b[?25h  Created wheel for Nominatim: filename=nominatim-0.1-py3-none-any.whl size=2363 sha256=1a667ad5dd668343e14353e4baedb2e4bee6aacf08f5903064b6b1d138853fc5\n",
      "  Stored in directory: /tmp/wsuser/.cache/pip/wheels/37/00/9e/d904c390bfb174830ad3dcfd62af5544cee7d88bed4f8acedd\n",
      "Successfully built Nominatim\n",
      "Installing collected packages: Nominatim\n",
      "Successfully installed Nominatim-0.1\n",
      "/opt/conda/envs/Python-3.7-main/lib/python3.7/site-packages/secretstorage/dhcrypto.py:16: CryptographyDeprecationWarning: int_from_bytes is deprecated, use int.from_bytes instead\n",
      "  from cryptography.utils import int_from_bytes\n",
      "/opt/conda/envs/Python-3.7-main/lib/python3.7/site-packages/secretstorage/util.py:25: CryptographyDeprecationWarning: int_from_bytes is deprecated, use int.from_bytes instead\n",
      "  from cryptography.utils import int_from_bytes\n",
      "Requirement already satisfied: geopy in /opt/conda/envs/Python-3.7-main/lib/python3.7/site-packages (2.0.0)\n",
      "Requirement already satisfied: geographiclib<2,>=1.49 in /opt/conda/envs/Python-3.7-main/lib/python3.7/site-packages (from geopy) (1.50)\n",
      "Packages installed.\n"
     ]
    }
   ],
   "source": [
    "import sys\n",
    "! pip install geocoder\n",
    "! pip install folium\n",
    "! pip install SomePackage\n",
    "! pip install numpy\n",
    "! pip install BeautifulSoup4\n",
    "! pip install wikipedia\n",
    "! pip install bs4\n",
    "! pip install IPython\n",
    "! pip install lxml\n",
    "! pip install Nominatim\n",
    "! pip install geopy\n",
    "\n",
    "print('Packages installed.')"
   ]
  },
  {
   "cell_type": "code",
   "execution_count": 2,
   "metadata": {},
   "outputs": [
    {
     "name": "stdout",
     "output_type": "stream",
     "text": [
      "Libraries imported.\n"
     ]
    }
   ],
   "source": [
    "import pandas as pd\n",
    "import numpy as np\n",
    "\n",
    "pd.set_option('display.max_columns', None)\n",
    "pd.set_option('display.max_rows', None)\n",
    "\n",
    "import requests\n",
    "from bs4 import BeautifulSoup\n",
    "from geopy.geocoders import Nominatim # convert an address into latitude and longitude values\n",
    "#!conda install -c conda-forge folium\n",
    "\n",
    "import os\n",
    "import folium # map rendering library\n",
    "# Matplotlib and associated plotting modules\n",
    "\n",
    "import matplotlib.pyplot as plt\n",
    "import matplotlib.cm as cm\n",
    "import matplotlib.colors as colors\n",
    "import matplotlib as mp\n",
    "import re\n",
    "import csv\n",
    "%matplotlib inline\n",
    "\n",
    "\n",
    "print('Libraries imported.')"
   ]
  },
  {
   "cell_type": "markdown",
   "metadata": {},
   "source": [
    "Now we define a function to get the geocodes i.e latitude and longitude of a given location using geopy."
   ]
  },
  {
   "cell_type": "code",
   "execution_count": 3,
   "metadata": {},
   "outputs": [],
   "source": [
    "def geo_location(address):\n",
    "    # get geo location of address\n",
    "    address ='New York,USA'\n",
    "    geolocator = Nominatim(user_agent=\"ny_explorer\")\n",
    "    location = geolocator.geocode(address)\n",
    "    latitude = location.latitude\n",
    "    longitude = location.longitude\n",
    "    print('The geograpical coordinate of New York are {}, {}.'.format(latitude, longitude))"
   ]
  },
  {
   "cell_type": "markdown",
   "metadata": {},
   "source": [
    "We define a function to intract with FourSquare API and get top 100 venues within a radius of 1000 metres for a given latitude and longitude. Below function will return us the venue id , venue name and category."
   ]
  },
  {
   "cell_type": "code",
   "execution_count": 4,
   "metadata": {},
   "outputs": [],
   "source": [
    "def get_venues(lat,lng):\n",
    "    \n",
    "    #set variables\n",
    "    radius=1000\n",
    "    LIMIT=100\n",
    "    CLIENT_ID = '1CVX0P22PGNHR2GYDNEIYSSE5UZHVOGVTVADWQXJ5NF5BKJ1'#\n",
    "    CLIENT_SECRET = 'NU3QOJRDYYVJN0125XOZDZFQGLYVYSC5R5IEGBHXHL0SFFRO'#\n",
    "    VERSION = '20180604'# \n",
    "    \n",
    "    #url to fetch data from foursquare api\n",
    "    url = 'https://api.foursquare.com/v2/venues/explore?&client_id={}&client_secret={}&v={}&ll={},{}&radius={}&limit={}'.format(\n",
    "            CLIENT_ID, \n",
    "            CLIENT_SECRET, \n",
    "            VERSION, \n",
    "            lat, \n",
    "            lng, \n",
    "            radius, \n",
    "            LIMIT)\n",
    "    \n",
    "    # get all the data\n",
    "    results = requests.get(url).json()\n",
    "    venue_data=results[\"response\"]['groups'][0]['items']\n",
    "    venue_details=[]\n",
    "    for row in venue_data:\n",
    "        try:\n",
    "            venue_id=row['venue']['id']\n",
    "            venue_name=row['venue']['name']\n",
    "            venue_category=row['venue']['categories'][0]['name']\n",
    "            venue_details.append([venue_id,venue_name,venue_category])\n",
    "        except KeyError:\n",
    "            pass\n",
    "        \n",
    "    column_names=['ID','Name','Category']\n",
    "    df = pd.DataFrame(venue_details,columns=column_names)\n",
    "    return df"
   ]
  },
  {
   "cell_type": "markdown",
   "metadata": {},
   "source": [
    "Now we will define a function to get venue details like like count , rating , tip counts for a given venue id. This will be used for ranking."
   ]
  },
  {
   "cell_type": "code",
   "execution_count": 5,
   "metadata": {},
   "outputs": [],
   "source": [
    "def get_venue_details(venue_id):\n",
    "        \n",
    "    CLIENT_ID = '1CVX0P22PGNHR2GYDNEIYSSE5UZHVOGVTVADWQXJ5NF5BKJ1'#  \n",
    "    CLIENT_SECRET = 'NU3QOJRDYYVJN0125XOZDZFQGLYVYSC5R5IEGBHXHL0SFFRO'#  \n",
    "    VERSION = '20180604'#\n",
    "    \n",
    "   #url to fetch data from foursquare api\n",
    "    url = 'https://api.foursquare.com/v2/venues/{}?&client_id={}&client_secret={}&v={}'.format(\n",
    "            venue_id,\n",
    "            CLIENT_ID, \n",
    "            CLIENT_SECRET, \n",
    "            VERSION)\n",
    "    \n",
    "    # get all the data\n",
    "    results = requests.get(url).json()\n",
    "    venue_data=results['response']['venue']\n",
    "    venue_details=[]\n",
    "    try:\n",
    "        venue_id=venue_data['id']\n",
    "        venue_name=venue_data['name']\n",
    "        venue_likes=venue_data['likes']['count']\n",
    "        venue_rating=venue_data['rating']\n",
    "        venue_tips=venue_data['tips']['count']\n",
    "        venue_details.append([venue_id,venue_name,venue_likes,venue_rating,venue_tips])\n",
    "    except KeyError:\n",
    "        pass\n",
    "        \n",
    "    column_names=['ID','Name','Likes','Rating','Tips']\n",
    "    df = pd.DataFrame(venue_details,columns=column_names)\n",
    "    return df"
   ]
  },
  {
   "cell_type": "markdown",
   "metadata": {},
   "source": [
    "Now we define a funtion to get the new york city data such as Boroughs, Neighborhoods along with their latitude and longitude."
   ]
  },
  {
   "cell_type": "code",
   "execution_count": 6,
   "metadata": {},
   "outputs": [],
   "source": [
    "def get_new_york_data():\n",
    "    url='https://cocl.us/new_york_dataset'\n",
    "    resp=requests.get(url).json()\n",
    "    # all data is present in features label\n",
    "    features=resp['features']\n",
    "    \n",
    "    # define the dataframe columns\n",
    "    column_names = ['Borough', 'Neighborhood', 'Latitude', 'Longitude'] \n",
    "    # instantiate the dataframe\n",
    "    new_york_data = pd.DataFrame(columns=column_names)\n",
    "    \n",
    "    for data in features:\n",
    "        borough = data['properties']['borough'] \n",
    "        neighborhood_name = data['properties']['name']\n",
    "        \n",
    "        neighborhood_latlon = data['geometry']['coordinates']\n",
    "        neighborhood_lat = neighborhood_latlon[1]\n",
    "        neighborhood_lon = neighborhood_latlon[0]\n",
    "    \n",
    "        new_york_data = new_york_data.append({'Borough': borough,\n",
    "                                          'Neighborhood': neighborhood_name,\n",
    "                                          'Latitude': neighborhood_lat,\n",
    "                                          'Longitude': neighborhood_lon}, ignore_index=True)\n",
    "    \n",
    "    return new_york_data"
   ]
  },
  {
   "cell_type": "markdown",
   "metadata": {},
   "source": [
    "We will call the above funtion to get the new york city data."
   ]
  },
  {
   "cell_type": "code",
   "execution_count": 7,
   "metadata": {},
   "outputs": [
    {
     "data": {
      "text/html": [
       "<div>\n",
       "<style scoped>\n",
       "    .dataframe tbody tr th:only-of-type {\n",
       "        vertical-align: middle;\n",
       "    }\n",
       "\n",
       "    .dataframe tbody tr th {\n",
       "        vertical-align: top;\n",
       "    }\n",
       "\n",
       "    .dataframe thead th {\n",
       "        text-align: right;\n",
       "    }\n",
       "</style>\n",
       "<table border=\"1\" class=\"dataframe\">\n",
       "  <thead>\n",
       "    <tr style=\"text-align: right;\">\n",
       "      <th></th>\n",
       "      <th>Borough</th>\n",
       "      <th>Neighborhood</th>\n",
       "      <th>Latitude</th>\n",
       "      <th>Longitude</th>\n",
       "    </tr>\n",
       "  </thead>\n",
       "  <tbody>\n",
       "    <tr>\n",
       "      <th>0</th>\n",
       "      <td>Bronx</td>\n",
       "      <td>Wakefield</td>\n",
       "      <td>40.894705</td>\n",
       "      <td>-73.847201</td>\n",
       "    </tr>\n",
       "    <tr>\n",
       "      <th>1</th>\n",
       "      <td>Bronx</td>\n",
       "      <td>Co-op City</td>\n",
       "      <td>40.874294</td>\n",
       "      <td>-73.829939</td>\n",
       "    </tr>\n",
       "    <tr>\n",
       "      <th>2</th>\n",
       "      <td>Bronx</td>\n",
       "      <td>Eastchester</td>\n",
       "      <td>40.887556</td>\n",
       "      <td>-73.827806</td>\n",
       "    </tr>\n",
       "    <tr>\n",
       "      <th>3</th>\n",
       "      <td>Bronx</td>\n",
       "      <td>Fieldston</td>\n",
       "      <td>40.895437</td>\n",
       "      <td>-73.905643</td>\n",
       "    </tr>\n",
       "    <tr>\n",
       "      <th>4</th>\n",
       "      <td>Bronx</td>\n",
       "      <td>Riverdale</td>\n",
       "      <td>40.890834</td>\n",
       "      <td>-73.912585</td>\n",
       "    </tr>\n",
       "  </tbody>\n",
       "</table>\n",
       "</div>"
      ],
      "text/plain": [
       "  Borough Neighborhood   Latitude  Longitude\n",
       "0   Bronx    Wakefield  40.894705 -73.847201\n",
       "1   Bronx   Co-op City  40.874294 -73.829939\n",
       "2   Bronx  Eastchester  40.887556 -73.827806\n",
       "3   Bronx    Fieldston  40.895437 -73.905643\n",
       "4   Bronx    Riverdale  40.890834 -73.912585"
      ]
     },
     "execution_count": 7,
     "metadata": {},
     "output_type": "execute_result"
    }
   ],
   "source": [
    "new_york_data=get_new_york_data()\n",
    "new_york_data.head()"
   ]
  },
  {
   "cell_type": "code",
   "execution_count": 8,
   "metadata": {},
   "outputs": [
    {
     "data": {
      "text/plain": [
       "(306, 4)"
      ]
     },
     "execution_count": 8,
     "metadata": {},
     "output_type": "execute_result"
    }
   ],
   "source": [
    "new_york_data.shape"
   ]
  },
  {
   "cell_type": "markdown",
   "metadata": {},
   "source": [
    "The above result shows that there are 306 different Neighborhoods in New York.¶"
   ]
  },
  {
   "cell_type": "markdown",
   "metadata": {},
   "source": [
    "Now let create a BAR PLOT to show different Neighborhoods in New York."
   ]
  },
  {
   "cell_type": "code",
   "execution_count": 9,
   "metadata": {},
   "outputs": [
    {
     "data": {
      "image/png": "[encoded data removed]",
      "text/plain": [
       "<Figure size 800x500 with 1 Axes>"
      ]
     },
     "metadata": {
      "needs_background": "light"
     },
     "output_type": "display_data"
    }
   ],
   "source": [
    "plt.figure(figsize=(8,5), dpi = 100)\n",
    "# title\n",
    "plt.title('Number of Neighborhood for each Borough in New York City')\n",
    "#On x-axis\n",
    "plt.xlabel('Borough', fontsize = 12)\n",
    "#On y-axis\n",
    "plt.ylabel('No.of Neighborhood', fontsize=12)\n",
    "#giving a bar plot\n",
    "new_york_data.groupby('Borough')['Neighborhood'].count().plot(kind='bar')\n",
    "#legend\n",
    "plt.legend()\n",
    "#displays the plot\n",
    "plt.show()"
   ]
  },
  {
   "cell_type": "markdown",
   "metadata": {},
   "source": [
    "From the above Plot, we can see the Queens has the highest number of neighborhoods."
   ]
  },
  {
   "cell_type": "markdown",
   "metadata": {},
   "source": [
    "Next we will collect French restaurants for each Neighborhood."
   ]
  },
  {
   "cell_type": "code",
   "execution_count": 10,
   "metadata": {
    "scrolled": true
   },
   "outputs": [
    {
     "name": "stdout",
     "output_type": "stream",
     "text": [
      "( 1 / 306 ) French Resturants in Wakefield, Bronx:0\n",
      "( 1 / 306 ) French Resturants in Co-op City, Bronx:0\n",
      "( 1 / 306 ) French Resturants in Eastchester, Bronx:0\n",
      "( 1 / 306 ) French Resturants in Fieldston, Bronx:0\n",
      "( 1 / 306 ) French Resturants in Riverdale, Bronx:0\n",
      "( 1 / 306 ) French Resturants in Kingsbridge, Bronx:0\n",
      "( 1 / 306 ) French Resturants in Marble Hill, Manhattan:0\n",
      "( 1 / 306 ) French Resturants in Woodlawn, Bronx:0\n",
      "( 1 / 306 ) French Resturants in Norwood, Bronx:0\n",
      "( 1 / 306 ) French Resturants in Williamsbridge, Bronx:0\n",
      "( 1 / 306 ) French Resturants in Baychester, Bronx:0\n",
      "( 1 / 306 ) French Resturants in Pelham Parkway, Bronx:0\n",
      "( 1 / 306 ) French Resturants in City Island, Bronx:1\n",
      "( 2 / 306 ) French Resturants in Bedford Park, Bronx:0\n",
      "( 2 / 306 ) French Resturants in University Heights, Bronx:0\n",
      "( 2 / 306 ) French Resturants in Morris Heights, Bronx:0\n",
      "( 2 / 306 ) French Resturants in Fordham, Bronx:0\n",
      "( 2 / 306 ) French Resturants in East Tremont, Bronx:0\n",
      "( 2 / 306 ) French Resturants in West Farms, Bronx:0\n",
      "( 2 / 306 ) French Resturants in High  Bridge, Bronx:0\n",
      "( 2 / 306 ) French Resturants in Melrose, Bronx:0\n",
      "( 2 / 306 ) French Resturants in Mott Haven, Bronx:0\n",
      "( 2 / 306 ) French Resturants in Port Morris, Bronx:0\n",
      "( 2 / 306 ) French Resturants in Longwood, Bronx:0\n",
      "( 2 / 306 ) French Resturants in Hunts Point, Bronx:0\n",
      "( 2 / 306 ) French Resturants in Morrisania, Bronx:0\n",
      "( 2 / 306 ) French Resturants in Soundview, Bronx:0\n",
      "( 2 / 306 ) French Resturants in Clason Point, Bronx:0\n",
      "( 2 / 306 ) French Resturants in Throgs Neck, Bronx:0\n",
      "( 2 / 306 ) French Resturants in Country Club, Bronx:0\n",
      "( 2 / 306 ) French Resturants in Parkchester, Bronx:0\n",
      "( 2 / 306 ) French Resturants in Westchester Square, Bronx:0\n",
      "( 2 / 306 ) French Resturants in Van Nest, Bronx:0\n",
      "( 2 / 306 ) French Resturants in Morris Park, Bronx:0\n",
      "( 2 / 306 ) French Resturants in Belmont, Bronx:0\n",
      "( 2 / 306 ) French Resturants in Spuyten Duyvil, Bronx:0\n",
      "( 2 / 306 ) French Resturants in North Riverdale, Bronx:0\n",
      "( 2 / 306 ) French Resturants in Pelham Bay, Bronx:0\n",
      "( 2 / 306 ) French Resturants in Schuylerville, Bronx:0\n",
      "( 2 / 306 ) French Resturants in Edgewater Park, Bronx:0\n",
      "( 2 / 306 ) French Resturants in Castle Hill, Bronx:0\n",
      "( 2 / 306 ) French Resturants in Olinville, Bronx:0\n",
      "( 2 / 306 ) French Resturants in Pelham Gardens, Bronx:0\n",
      "( 2 / 306 ) French Resturants in Concourse, Bronx:0\n",
      "( 2 / 306 ) French Resturants in Unionport, Bronx:0\n",
      "( 2 / 306 ) French Resturants in Edenwald, Bronx:0\n",
      "( 2 / 306 ) French Resturants in Bay Ridge, Brooklyn:0\n",
      "( 2 / 306 ) French Resturants in Bensonhurst, Brooklyn:0\n",
      "( 2 / 306 ) French Resturants in Sunset Park, Brooklyn:0\n",
      "( 2 / 306 ) French Resturants in Greenpoint, Brooklyn:3\n",
      "( 5 / 306 ) French Resturants in Gravesend, Brooklyn:0\n",
      "( 5 / 306 ) French Resturants in Brighton Beach, Brooklyn:0\n",
      "( 5 / 306 ) French Resturants in Sheepshead Bay, Brooklyn:0\n",
      "( 5 / 306 ) French Resturants in Manhattan Terrace, Brooklyn:0\n",
      "( 5 / 306 ) French Resturants in Flatbush, Brooklyn:0\n",
      "( 5 / 306 ) French Resturants in Crown Heights, Brooklyn:0\n",
      "( 5 / 306 ) French Resturants in East Flatbush, Brooklyn:0\n",
      "( 5 / 306 ) French Resturants in Kensington, Brooklyn:0\n",
      "( 5 / 306 ) French Resturants in Windsor Terrace, Brooklyn:1\n",
      "( 6 / 306 ) French Resturants in Prospect Heights, Brooklyn:0\n",
      "( 6 / 306 ) French Resturants in Brownsville, Brooklyn:0\n",
      "( 6 / 306 ) French Resturants in Williamsburg, Brooklyn:0\n",
      "( 6 / 306 ) French Resturants in Bushwick, Brooklyn:2\n",
      "( 8 / 306 ) French Resturants in Bedford Stuyvesant, Brooklyn:2\n",
      "( 10 / 306 ) French Resturants in Brooklyn Heights, Brooklyn:1\n",
      "( 11 / 306 ) French Resturants in Cobble Hill, Brooklyn:1\n",
      "( 12 / 306 ) French Resturants in Carroll Gardens, Brooklyn:2\n",
      "( 14 / 306 ) French Resturants in Red Hook, Brooklyn:0\n",
      "( 14 / 306 ) French Resturants in Gowanus, Brooklyn:1\n",
      "( 15 / 306 ) French Resturants in Fort Greene, Brooklyn:1\n",
      "( 16 / 306 ) French Resturants in Park Slope, Brooklyn:0\n",
      "( 16 / 306 ) French Resturants in Cypress Hills, Brooklyn:0\n",
      "( 16 / 306 ) French Resturants in East New York, Brooklyn:0\n",
      "( 16 / 306 ) French Resturants in Starrett City, Brooklyn:0\n",
      "( 16 / 306 ) French Resturants in Canarsie, Brooklyn:0\n",
      "( 16 / 306 ) French Resturants in Flatlands, Brooklyn:0\n",
      "( 16 / 306 ) French Resturants in Mill Island, Brooklyn:0\n",
      "( 16 / 306 ) French Resturants in Manhattan Beach, Brooklyn:0\n",
      "( 16 / 306 ) French Resturants in Coney Island, Brooklyn:0\n",
      "( 16 / 306 ) French Resturants in Bath Beach, Brooklyn:0\n",
      "( 16 / 306 ) French Resturants in Borough Park, Brooklyn:0\n",
      "( 16 / 306 ) French Resturants in Dyker Heights, Brooklyn:0\n",
      "( 16 / 306 ) French Resturants in Gerritsen Beach, Brooklyn:0\n",
      "( 16 / 306 ) French Resturants in Marine Park, Brooklyn:0\n",
      "( 16 / 306 ) French Resturants in Clinton Hill, Brooklyn:1\n",
      "( 17 / 306 ) French Resturants in Sea Gate, Brooklyn:0\n",
      "( 17 / 306 ) French Resturants in Downtown, Brooklyn:3\n",
      "( 20 / 306 ) French Resturants in Boerum Hill, Brooklyn:2\n",
      "( 22 / 306 ) French Resturants in Prospect Lefferts Gardens, Brooklyn:0\n",
      "( 22 / 306 ) French Resturants in Ocean Hill, Brooklyn:0\n",
      "( 22 / 306 ) French Resturants in City Line, Brooklyn:0\n",
      "( 22 / 306 ) French Resturants in Bergen Beach, Brooklyn:0\n",
      "( 22 / 306 ) French Resturants in Midwood, Brooklyn:0\n",
      "( 22 / 306 ) French Resturants in Prospect Park South, Brooklyn:0\n",
      "( 22 / 306 ) French Resturants in Georgetown, Brooklyn:0\n",
      "( 22 / 306 ) French Resturants in East Williamsburg, Brooklyn:0\n",
      "( 22 / 306 ) French Resturants in North Side, Brooklyn:1\n",
      "( 23 / 306 ) French Resturants in South Side, Brooklyn:0\n",
      "( 23 / 306 ) French Resturants in Ocean Parkway, Brooklyn:0\n",
      "( 23 / 306 ) French Resturants in Fort Hamilton, Brooklyn:0\n",
      "( 23 / 306 ) French Resturants in Chinatown, Manhattan:1\n",
      "( 24 / 306 ) French Resturants in Washington Heights, Manhattan:0\n",
      "( 24 / 306 ) French Resturants in Inwood, Manhattan:0\n",
      "( 24 / 306 ) French Resturants in Hamilton Heights, Manhattan:0\n",
      "( 24 / 306 ) French Resturants in Manhattanville, Manhattan:1\n",
      "( 25 / 306 ) French Resturants in Central Harlem, Manhattan:3\n",
      "( 28 / 306 ) French Resturants in East Harlem, Manhattan:1\n",
      "( 29 / 306 ) French Resturants in Upper East Side, Manhattan:1\n",
      "( 30 / 306 ) French Resturants in Yorkville, Manhattan:1\n",
      "( 31 / 306 ) French Resturants in Lenox Hill, Manhattan:3\n",
      "( 34 / 306 ) French Resturants in Roosevelt Island, Manhattan:1\n",
      "( 35 / 306 ) French Resturants in Upper West Side, Manhattan:0\n",
      "( 35 / 306 ) French Resturants in Lincoln Square, Manhattan:5\n",
      "( 40 / 306 ) French Resturants in Clinton, Manhattan:2\n",
      "( 42 / 306 ) French Resturants in Midtown, Manhattan:1\n",
      "( 43 / 306 ) French Resturants in Murray Hill, Manhattan:1\n",
      "( 44 / 306 ) French Resturants in Chelsea, Manhattan:3\n",
      "( 47 / 306 ) French Resturants in Greenwich Village, Manhattan:2\n",
      "( 49 / 306 ) French Resturants in East Village, Manhattan:0\n",
      "( 49 / 306 ) French Resturants in Lower East Side, Manhattan:2\n",
      "( 51 / 306 ) French Resturants in Tribeca, Manhattan:3\n",
      "( 54 / 306 ) French Resturants in Little Italy, Manhattan:1\n",
      "( 55 / 306 ) French Resturants in Soho, Manhattan:2\n",
      "( 57 / 306 ) French Resturants in West Village, Manhattan:3\n",
      "( 60 / 306 ) French Resturants in Manhattan Valley, Manhattan:1\n",
      "( 61 / 306 ) French Resturants in Morningside Heights, Manhattan:0\n",
      "( 61 / 306 ) French Resturants in Gramercy, Manhattan:0\n",
      "( 61 / 306 ) French Resturants in Battery Park City, Manhattan:1\n",
      "( 62 / 306 ) French Resturants in Financial District, Manhattan:1\n",
      "( 63 / 306 ) French Resturants in Astoria, Queens:0\n",
      "( 63 / 306 ) French Resturants in Woodside, Queens:0\n",
      "( 63 / 306 ) French Resturants in Jackson Heights, Queens:0\n",
      "( 63 / 306 ) French Resturants in Elmhurst, Queens:0\n",
      "( 63 / 306 ) French Resturants in Howard Beach, Queens:0\n",
      "( 63 / 306 ) French Resturants in Corona, Queens:0\n",
      "( 63 / 306 ) French Resturants in Forest Hills, Queens:0\n",
      "( 63 / 306 ) French Resturants in Kew Gardens, Queens:0\n",
      "( 63 / 306 ) French Resturants in Richmond Hill, Queens:0\n",
      "( 63 / 306 ) French Resturants in Flushing, Queens:0\n",
      "( 63 / 306 ) French Resturants in Long Island City, Queens:0\n",
      "( 63 / 306 ) French Resturants in Sunnyside, Queens:0\n",
      "( 63 / 306 ) French Resturants in East Elmhurst, Queens:0\n",
      "( 63 / 306 ) French Resturants in Maspeth, Queens:0\n",
      "( 63 / 306 ) French Resturants in Ridgewood, Queens:0\n",
      "( 63 / 306 ) French Resturants in Glendale, Queens:0\n",
      "( 63 / 306 ) French Resturants in Rego Park, Queens:0\n",
      "( 63 / 306 ) French Resturants in Woodhaven, Queens:0\n",
      "( 63 / 306 ) French Resturants in Ozone Park, Queens:0\n",
      "( 63 / 306 ) French Resturants in South Ozone Park, Queens:0\n",
      "( 63 / 306 ) French Resturants in College Point, Queens:0\n",
      "( 63 / 306 ) French Resturants in Whitestone, Queens:0\n",
      "( 63 / 306 ) French Resturants in Bayside, Queens:0\n",
      "( 63 / 306 ) French Resturants in Auburndale, Queens:0\n",
      "( 63 / 306 ) French Resturants in Little Neck, Queens:1\n",
      "( 64 / 306 ) French Resturants in Douglaston, Queens:1\n",
      "( 65 / 306 ) French Resturants in Glen Oaks, Queens:0\n",
      "( 65 / 306 ) French Resturants in Bellerose, Queens:0\n",
      "( 65 / 306 ) French Resturants in Kew Gardens Hills, Queens:0\n",
      "( 65 / 306 ) French Resturants in Fresh Meadows, Queens:0\n",
      "( 65 / 306 ) French Resturants in Briarwood, Queens:0\n",
      "( 65 / 306 ) French Resturants in Jamaica Center, Queens:0\n",
      "( 65 / 306 ) French Resturants in Oakland Gardens, Queens:0\n",
      "( 65 / 306 ) French Resturants in Queens Village, Queens:0\n",
      "( 65 / 306 ) French Resturants in Hollis, Queens:0\n",
      "( 65 / 306 ) French Resturants in South Jamaica, Queens:0\n",
      "( 65 / 306 ) French Resturants in St. Albans, Queens:0\n",
      "( 65 / 306 ) French Resturants in Rochdale, Queens:0\n",
      "( 65 / 306 ) French Resturants in Springfield Gardens, Queens:0\n",
      "( 65 / 306 ) French Resturants in Cambria Heights, Queens:0\n",
      "( 65 / 306 ) French Resturants in Rosedale, Queens:0\n",
      "( 65 / 306 ) French Resturants in Far Rockaway, Queens:0\n",
      "( 65 / 306 ) French Resturants in Broad Channel, Queens:0\n",
      "( 65 / 306 ) French Resturants in Breezy Point, Queens:0\n",
      "( 65 / 306 ) French Resturants in Steinway, Queens:0\n",
      "( 65 / 306 ) French Resturants in Beechhurst, Queens:0\n",
      "( 65 / 306 ) French Resturants in Bay Terrace, Queens:0\n",
      "( 65 / 306 ) French Resturants in Edgemere, Queens:0\n",
      "( 65 / 306 ) French Resturants in Arverne, Queens:1\n",
      "( 66 / 306 ) French Resturants in Rockaway Beach, Queens:0\n",
      "( 66 / 306 ) French Resturants in Neponsit, Queens:0\n",
      "( 66 / 306 ) French Resturants in Murray Hill, Queens:0\n",
      "( 66 / 306 ) French Resturants in Floral Park, Queens:0\n",
      "( 66 / 306 ) French Resturants in Holliswood, Queens:0\n",
      "( 66 / 306 ) French Resturants in Jamaica Estates, Queens:0\n",
      "( 66 / 306 ) French Resturants in Queensboro Hill, Queens:0\n",
      "( 66 / 306 ) French Resturants in Hillcrest, Queens:0\n",
      "( 66 / 306 ) French Resturants in Ravenswood, Queens:1\n",
      "( 67 / 306 ) French Resturants in Lindenwood, Queens:0\n",
      "( 67 / 306 ) French Resturants in Laurelton, Queens:0\n",
      "( 67 / 306 ) French Resturants in Lefrak City, Queens:0\n",
      "( 67 / 306 ) French Resturants in Belle Harbor, Queens:0\n",
      "( 67 / 306 ) French Resturants in Rockaway Park, Queens:1\n",
      "( 68 / 306 ) French Resturants in Somerville, Queens:0\n",
      "( 68 / 306 ) French Resturants in Brookville, Queens:0\n",
      "( 68 / 306 ) French Resturants in Bellaire, Queens:0\n",
      "( 68 / 306 ) French Resturants in North Corona, Queens:0\n",
      "( 68 / 306 ) French Resturants in Forest Hills Gardens, Queens:0\n",
      "( 68 / 306 ) French Resturants in St. George, Staten Island:0\n",
      "( 68 / 306 ) French Resturants in New Brighton, Staten Island:0\n",
      "( 68 / 306 ) French Resturants in Stapleton, Staten Island:0\n",
      "( 68 / 306 ) French Resturants in Rosebank, Staten Island:0\n",
      "( 68 / 306 ) French Resturants in West Brighton, Staten Island:0\n",
      "( 68 / 306 ) French Resturants in Grymes Hill, Staten Island:0\n",
      "( 68 / 306 ) French Resturants in Todt Hill, Staten Island:0\n",
      "( 68 / 306 ) French Resturants in South Beach, Staten Island:0\n",
      "( 68 / 306 ) French Resturants in Port Richmond, Staten Island:0\n",
      "( 68 / 306 ) French Resturants in Mariner's Harbor, Staten Island:0\n",
      "( 68 / 306 ) French Resturants in Port Ivory, Staten Island:0\n",
      "( 68 / 306 ) French Resturants in Castleton Corners, Staten Island:0\n",
      "( 68 / 306 ) French Resturants in New Springville, Staten Island:0\n",
      "( 68 / 306 ) French Resturants in Travis, Staten Island:0\n",
      "( 68 / 306 ) French Resturants in New Dorp, Staten Island:1\n",
      "( 69 / 306 ) French Resturants in Oakwood, Staten Island:0\n",
      "( 69 / 306 ) French Resturants in Great Kills, Staten Island:0\n",
      "( 69 / 306 ) French Resturants in Eltingville, Staten Island:0\n",
      "( 69 / 306 ) French Resturants in Annadale, Staten Island:0\n",
      "( 69 / 306 ) French Resturants in Woodrow, Staten Island:0\n",
      "( 69 / 306 ) French Resturants in Tottenville, Staten Island:0\n",
      "( 69 / 306 ) French Resturants in Tompkinsville, Staten Island:0\n",
      "( 69 / 306 ) French Resturants in Silver Lake, Staten Island:0\n",
      "( 69 / 306 ) French Resturants in Sunnyside, Staten Island:0\n",
      "( 69 / 306 ) French Resturants in Ditmas Park, Brooklyn:0\n",
      "( 69 / 306 ) French Resturants in Wingate, Brooklyn:0\n",
      "( 69 / 306 ) French Resturants in Rugby, Brooklyn:0\n",
      "( 69 / 306 ) French Resturants in Park Hill, Staten Island:0\n",
      "( 69 / 306 ) French Resturants in Westerleigh, Staten Island:0\n",
      "( 69 / 306 ) French Resturants in Graniteville, Staten Island:0\n",
      "( 69 / 306 ) French Resturants in Arlington, Staten Island:0\n",
      "( 69 / 306 ) French Resturants in Arrochar, Staten Island:0\n",
      "( 69 / 306 ) French Resturants in Grasmere, Staten Island:0\n",
      "( 69 / 306 ) French Resturants in Old Town, Staten Island:0\n",
      "( 69 / 306 ) French Resturants in Dongan Hills, Staten Island:0\n",
      "( 69 / 306 ) French Resturants in Midland Beach, Staten Island:0\n",
      "( 69 / 306 ) French Resturants in Grant City, Staten Island:1\n",
      "( 70 / 306 ) French Resturants in New Dorp Beach, Staten Island:0\n",
      "( 70 / 306 ) French Resturants in Bay Terrace, Staten Island:0\n",
      "( 70 / 306 ) French Resturants in Huguenot, Staten Island:0\n",
      "( 70 / 306 ) French Resturants in Pleasant Plains, Staten Island:0\n",
      "( 70 / 306 ) French Resturants in Butler Manor, Staten Island:0\n",
      "( 70 / 306 ) French Resturants in Charleston, Staten Island:0\n",
      "( 70 / 306 ) French Resturants in Rossville, Staten Island:0\n",
      "( 70 / 306 ) French Resturants in Arden Heights, Staten Island:0\n",
      "( 70 / 306 ) French Resturants in Greenridge, Staten Island:0\n",
      "( 70 / 306 ) French Resturants in Heartland Village, Staten Island:0\n",
      "( 70 / 306 ) French Resturants in Chelsea, Staten Island:0\n",
      "( 70 / 306 ) French Resturants in Bloomfield, Staten Island:0\n",
      "( 70 / 306 ) French Resturants in Bulls Head, Staten Island:0\n",
      "( 70 / 306 ) French Resturants in Carnegie Hill, Manhattan:2\n",
      "( 72 / 306 ) French Resturants in Noho, Manhattan:2\n",
      "( 74 / 306 ) French Resturants in Civic Center, Manhattan:4\n",
      "( 78 / 306 ) French Resturants in Midtown South, Manhattan:0\n",
      "( 78 / 306 ) French Resturants in Richmond Town, Staten Island:0\n",
      "( 78 / 306 ) French Resturants in Shore Acres, Staten Island:0\n",
      "( 78 / 306 ) French Resturants in Clifton, Staten Island:0\n",
      "( 78 / 306 ) French Resturants in Concord, Staten Island:0\n",
      "( 78 / 306 ) French Resturants in Emerson Hill, Staten Island:0\n",
      "( 78 / 306 ) French Resturants in Randall Manor, Staten Island:0\n",
      "( 78 / 306 ) French Resturants in Howland Hook, Staten Island:0\n",
      "( 78 / 306 ) French Resturants in Elm Park, Staten Island:0\n",
      "( 78 / 306 ) French Resturants in Remsen Village, Brooklyn:0\n",
      "( 78 / 306 ) French Resturants in New Lots, Brooklyn:0\n",
      "( 78 / 306 ) French Resturants in Paerdegat Basin, Brooklyn:0\n",
      "( 78 / 306 ) French Resturants in Mill Basin, Brooklyn:0\n",
      "( 78 / 306 ) French Resturants in Jamaica Hills, Queens:0\n",
      "( 78 / 306 ) French Resturants in Utopia, Queens:0\n",
      "( 78 / 306 ) French Resturants in Pomonok, Queens:0\n",
      "( 78 / 306 ) French Resturants in Astoria Heights, Queens:0\n",
      "( 78 / 306 ) French Resturants in Claremont Village, Bronx:0\n",
      "( 78 / 306 ) French Resturants in Concourse Village, Bronx:0\n",
      "( 78 / 306 ) French Resturants in Mount Eden, Bronx:0\n",
      "( 78 / 306 ) French Resturants in Mount Hope, Bronx:0\n",
      "( 78 / 306 ) French Resturants in Sutton Place, Manhattan:3\n",
      "( 81 / 306 ) French Resturants in Hunters Point, Queens:1\n",
      "( 82 / 306 ) French Resturants in Turtle Bay, Manhattan:2\n",
      "( 84 / 306 ) French Resturants in Tudor City, Manhattan:2\n",
      "( 86 / 306 ) French Resturants in Stuyvesant Town, Manhattan:0\n",
      "( 86 / 306 ) French Resturants in Flatiron, Manhattan:0\n",
      "( 86 / 306 ) French Resturants in Sunnyside Gardens, Queens:1\n",
      "( 87 / 306 ) French Resturants in Blissville, Queens:0\n",
      "( 87 / 306 ) French Resturants in Fulton Ferry, Brooklyn:0\n",
      "( 87 / 306 ) French Resturants in Vinegar Hill, Brooklyn:0\n",
      "( 87 / 306 ) French Resturants in Weeksville, Brooklyn:1\n",
      "( 88 / 306 ) French Resturants in Broadway Junction, Brooklyn:0\n",
      "( 88 / 306 ) French Resturants in Dumbo, Brooklyn:0\n",
      "( 88 / 306 ) French Resturants in Manor Heights, Staten Island:0\n",
      "( 88 / 306 ) French Resturants in Willowbrook, Staten Island:0\n",
      "( 88 / 306 ) French Resturants in Sandy Ground, Staten Island:0\n",
      "( 88 / 306 ) French Resturants in Egbertville, Staten Island:0\n",
      "( 88 / 306 ) French Resturants in Roxbury, Queens:0\n",
      "( 88 / 306 ) French Resturants in Homecrest, Brooklyn:0\n",
      "( 88 / 306 ) French Resturants in Middle Village, Queens:0\n",
      "( 88 / 306 ) French Resturants in Prince's Bay, Staten Island:0\n",
      "( 88 / 306 ) French Resturants in Lighthouse Hill, Staten Island:0\n",
      "( 88 / 306 ) French Resturants in Richmond Valley, Staten Island:0\n",
      "( 88 / 306 ) French Resturants in Malba, Queens:0\n",
      "( 88 / 306 ) French Resturants in Highland Park, Brooklyn:0\n",
      "( 88 / 306 ) French Resturants in Madison, Brooklyn:0\n",
      "( 88 / 306 ) French Resturants in Bronxdale, Bronx:0\n",
      "( 88 / 306 ) French Resturants in Allerton, Bronx:0\n",
      "( 88 / 306 ) French Resturants in Kingsbridge Heights, Bronx:0\n",
      "( 88 / 306 ) French Resturants in Erasmus, Brooklyn:0\n",
      "( 88 / 306 ) French Resturants in Hudson Yards, Manhattan:1\n",
      "( 89 / 306 ) French Resturants in Hammels, Queens:0\n",
      "( 89 / 306 ) French Resturants in Bayswater, Queens:0\n",
      "( 89 / 306 ) French Resturants in Queensbridge, Queens:0\n",
      "( 89 / 306 ) French Resturants in Fox Hills, Staten Island:0\n"
     ]
    }
   ],
   "source": [
    "# prepare neighborhood list that contains french restaurant\n",
    "column_names=['Borough', 'Neighborhood', 'ID','Name']\n",
    "french_rest_ny=pd.DataFrame(columns=column_names)\n",
    "count=1\n",
    "for row in new_york_data.values.tolist():\n",
    "    Borough, Neighborhood, Latitude, Longitude=row\n",
    "    venues = get_venues(Latitude,Longitude)\n",
    "    french_resturants=venues[venues['Category']=='French Restaurant']   \n",
    "    print('(',count,'/',len(new_york_data),')','French Resturants in '+Neighborhood+', '+Borough+':'+str(len(french_resturants)))\n",
    "    for resturant_detail in french_resturants.values.tolist():\n",
    "        id, name , category=resturant_detail\n",
    "        french_rest_ny = french_rest_ny.append({'Borough': Borough,\n",
    "                                                'Neighborhood': Neighborhood, \n",
    "                                                'ID': id,\n",
    "                                                'Name' : name}, ignore_index=True)\n",
    "        count+=1"
   ]
  },
  {
   "cell_type": "markdown",
   "metadata": {},
   "source": [
    "Now that we have got all the French resturants in new york city , we will analyze it."
   ]
  },
  {
   "cell_type": "code",
   "execution_count": 11,
   "metadata": {},
   "outputs": [
    {
     "data": {
      "text/html": [
       "<div>\n",
       "<style scoped>\n",
       "    .dataframe tbody tr th:only-of-type {\n",
       "        vertical-align: middle;\n",
       "    }\n",
       "\n",
       "    .dataframe tbody tr th {\n",
       "        vertical-align: top;\n",
       "    }\n",
       "\n",
       "    .dataframe thead th {\n",
       "        text-align: right;\n",
       "    }\n",
       "</style>\n",
       "<table border=\"1\" class=\"dataframe\">\n",
       "  <thead>\n",
       "    <tr style=\"text-align: right;\">\n",
       "      <th></th>\n",
       "      <th>Borough</th>\n",
       "      <th>Neighborhood</th>\n",
       "      <th>ID</th>\n",
       "      <th>Name</th>\n",
       "    </tr>\n",
       "  </thead>\n",
       "  <tbody>\n",
       "    <tr>\n",
       "      <th>0</th>\n",
       "      <td>Bronx</td>\n",
       "      <td>City Island</td>\n",
       "      <td>4d7aa83ee540f04d66ba16dc</td>\n",
       "      <td>Bistro SK</td>\n",
       "    </tr>\n",
       "    <tr>\n",
       "      <th>1</th>\n",
       "      <td>Brooklyn</td>\n",
       "      <td>Greenpoint</td>\n",
       "      <td>5bf358689fca56002c251a87</td>\n",
       "      <td>Citroën</td>\n",
       "    </tr>\n",
       "    <tr>\n",
       "      <th>2</th>\n",
       "      <td>Brooklyn</td>\n",
       "      <td>Greenpoint</td>\n",
       "      <td>58fd34584382ab70ad90083e</td>\n",
       "      <td>Chez Ma Tante</td>\n",
       "    </tr>\n",
       "    <tr>\n",
       "      <th>3</th>\n",
       "      <td>Brooklyn</td>\n",
       "      <td>Greenpoint</td>\n",
       "      <td>4bcf1883c564ef3ba33beff0</td>\n",
       "      <td>Le Gamin</td>\n",
       "    </tr>\n",
       "    <tr>\n",
       "      <th>4</th>\n",
       "      <td>Brooklyn</td>\n",
       "      <td>Windsor Terrace</td>\n",
       "      <td>4e7d174cb6340a4da75a2cca</td>\n",
       "      <td>Le Paddock</td>\n",
       "    </tr>\n",
       "  </tbody>\n",
       "</table>\n",
       "</div>"
      ],
      "text/plain": [
       "    Borough     Neighborhood                        ID           Name\n",
       "0     Bronx      City Island  4d7aa83ee540f04d66ba16dc      Bistro SK\n",
       "1  Brooklyn       Greenpoint  5bf358689fca56002c251a87        Citroën\n",
       "2  Brooklyn       Greenpoint  58fd34584382ab70ad90083e  Chez Ma Tante\n",
       "3  Brooklyn       Greenpoint  4bcf1883c564ef3ba33beff0       Le Gamin\n",
       "4  Brooklyn  Windsor Terrace  4e7d174cb6340a4da75a2cca     Le Paddock"
      ]
     },
     "execution_count": 11,
     "metadata": {},
     "output_type": "execute_result"
    }
   ],
   "source": [
    "french_rest_ny.head()"
   ]
  },
  {
   "cell_type": "code",
   "execution_count": 12,
   "metadata": {},
   "outputs": [
    {
     "data": {
      "text/plain": [
       "(88, 4)"
      ]
     },
     "execution_count": 12,
     "metadata": {},
     "output_type": "execute_result"
    }
   ],
   "source": [
    "french_rest_ny.shape"
   ]
  },
  {
   "cell_type": "markdown",
   "metadata": {},
   "source": [
    "From the above result, we see that there are 84 French Resturants across New York City.\n"
   ]
  },
  {
   "cell_type": "markdown",
   "metadata": {},
   "source": [
    "Now let create a BAR PLOT to show Number of French Resturants for each Borough in New York City."
   ]
  },
  {
   "cell_type": "code",
   "execution_count": 13,
   "metadata": {},
   "outputs": [
    {
     "data": {
      "image/png": "[encoded data removed]",
      "text/plain": [
       "<Figure size 900x500 with 1 Axes>"
      ]
     },
     "metadata": {
      "needs_background": "light"
     },
     "output_type": "display_data"
    }
   ],
   "source": [
    "plt.figure(figsize=(9,5), dpi = 100)\n",
    "# title\n",
    "plt.title('Number of French Resturants for each Borough in New York City')\n",
    "#On x-axis\n",
    "plt.xlabel('Borough', fontsize = 12)\n",
    "#On y-axis\n",
    "plt.ylabel('No.of French Resturants', fontsize=12)\n",
    "#giving a bar plot\n",
    "french_rest_ny.groupby('Borough')['ID'].count().plot(kind='bar')\n",
    "#legend\n",
    "plt.legend()\n",
    "#displays the plot\n",
    "plt.show()"
   ]
  },
  {
   "cell_type": "markdown",
   "metadata": {},
   "source": [
    "From the Plot, we can see that MANHATTHAN has highest number of French resturants."
   ]
  },
  {
   "cell_type": "code",
   "execution_count": 14,
   "metadata": {},
   "outputs": [
    {
     "data": {
      "image/png": "[encoded data removed]",
      "text/plain": [
       "<Figure size 900x500 with 1 Axes>"
      ]
     },
     "metadata": {
      "needs_background": "light"
     },
     "output_type": "display_data"
    }
   ],
   "source": [
    "plt.figure(figsize=(9,5), dpi = 100)\n",
    "# title\n",
    "plt.title('Number of French Resturants for each Neighborhood in New York City')\n",
    "#On x-axis\n",
    "plt.xlabel('Neighborhood', fontsize = 12)\n",
    "#On y-axis\n",
    "plt.ylabel('No.of French Resturants', fontsize=12)\n",
    "#giving a bar plot\n",
    "french_rest_ny.groupby('Neighborhood')['ID'].count().nlargest(5).plot(kind='bar')\n",
    "#legend\n",
    "plt.legend()\n",
    "#displays the plot\n",
    "plt.show()"
   ]
  },
  {
   "cell_type": "code",
   "execution_count": 15,
   "metadata": {},
   "outputs": [
    {
     "data": {
      "text/html": [
       "<div>\n",
       "<style scoped>\n",
       "    .dataframe tbody tr th:only-of-type {\n",
       "        vertical-align: middle;\n",
       "    }\n",
       "\n",
       "    .dataframe tbody tr th {\n",
       "        vertical-align: top;\n",
       "    }\n",
       "\n",
       "    .dataframe thead th {\n",
       "        text-align: right;\n",
       "    }\n",
       "</style>\n",
       "<table border=\"1\" class=\"dataframe\">\n",
       "  <thead>\n",
       "    <tr style=\"text-align: right;\">\n",
       "      <th></th>\n",
       "      <th>Borough</th>\n",
       "      <th>Neighborhood</th>\n",
       "      <th>ID</th>\n",
       "      <th>Name</th>\n",
       "    </tr>\n",
       "  </thead>\n",
       "  <tbody>\n",
       "    <tr>\n",
       "      <th>34</th>\n",
       "      <td>Manhattan</td>\n",
       "      <td>Lincoln Square</td>\n",
       "      <td>414ccc00f964a520d21c1fe3</td>\n",
       "      <td>Cafe Luxembourg</td>\n",
       "    </tr>\n",
       "    <tr>\n",
       "      <th>35</th>\n",
       "      <td>Manhattan</td>\n",
       "      <td>Lincoln Square</td>\n",
       "      <td>478cd1f3f964a520444d1fe3</td>\n",
       "      <td>Bar Boulud</td>\n",
       "    </tr>\n",
       "    <tr>\n",
       "      <th>36</th>\n",
       "      <td>Manhattan</td>\n",
       "      <td>Lincoln Square</td>\n",
       "      <td>3fd66200f964a520bee91ee3</td>\n",
       "      <td>Jean-Georges</td>\n",
       "    </tr>\n",
       "    <tr>\n",
       "      <th>37</th>\n",
       "      <td>Manhattan</td>\n",
       "      <td>Lincoln Square</td>\n",
       "      <td>49e7897ff964a520b6641fe3</td>\n",
       "      <td>Nougatine at Jean Georges</td>\n",
       "    </tr>\n",
       "    <tr>\n",
       "      <th>38</th>\n",
       "      <td>Manhattan</td>\n",
       "      <td>Lincoln Square</td>\n",
       "      <td>41f19780f964a520101f1fe3</td>\n",
       "      <td>Per Se</td>\n",
       "    </tr>\n",
       "  </tbody>\n",
       "</table>\n",
       "</div>"
      ],
      "text/plain": [
       "      Borough    Neighborhood                        ID  \\\n",
       "34  Manhattan  Lincoln Square  414ccc00f964a520d21c1fe3   \n",
       "35  Manhattan  Lincoln Square  478cd1f3f964a520444d1fe3   \n",
       "36  Manhattan  Lincoln Square  3fd66200f964a520bee91ee3   \n",
       "37  Manhattan  Lincoln Square  49e7897ff964a520b6641fe3   \n",
       "38  Manhattan  Lincoln Square  41f19780f964a520101f1fe3   \n",
       "\n",
       "                         Name  \n",
       "34            Cafe Luxembourg  \n",
       "35                 Bar Boulud  \n",
       "36               Jean-Georges  \n",
       "37  Nougatine at Jean Georges  \n",
       "38                     Per Se  "
      ]
     },
     "execution_count": 15,
     "metadata": {},
     "output_type": "execute_result"
    }
   ],
   "source": [
    "french_rest_ny[french_rest_ny['Neighborhood']=='Lincoln Square']"
   ]
  },
  {
   "cell_type": "markdown",
   "metadata": {},
   "source": [
    "We can see that, Lincoln Square in Manhattan has the highest number of French Resturants with a total count of 5.¶"
   ]
  },
  {
   "cell_type": "markdown",
   "metadata": {},
   "source": [
    "Now we will get the ranking of each resturant for further analysis."
   ]
  },
  {
   "cell_type": "code",
   "execution_count": 16,
   "metadata": {},
   "outputs": [
    {
     "name": "stdout",
     "output_type": "stream",
     "text": [
      "                         ID       Name  Likes  Rating  Tips\n",
      "0  4d7aa83ee540f04d66ba16dc  Bistro SK     12     7.5     7\n",
      "( 1 / 88 ) processed\n",
      "                         ID     Name  Likes  Rating  Tips\n",
      "0  5bf358689fca56002c251a87  Citroën     25     8.4     3\n",
      "( 2 / 88 ) processed\n",
      "                         ID           Name  Likes  Rating  Tips\n",
      "0  58fd34584382ab70ad90083e  Chez Ma Tante    224     9.1    60\n",
      "( 3 / 88 ) processed\n",
      "                         ID      Name  Likes  Rating  Tips\n",
      "0  4bcf1883c564ef3ba33beff0  Le Gamin    161     7.8    73\n",
      "( 4 / 88 ) processed\n",
      "                         ID        Name  Likes  Rating  Tips\n",
      "0  4e7d174cb6340a4da75a2cca  Le Paddock    141     8.8    56\n",
      "( 5 / 88 ) processed\n",
      "                         ID       Name  Likes  Rating  Tips\n",
      "0  55e47d26498e44d12c7c004e  Le Garage     99     8.3    25\n",
      "( 6 / 88 ) processed\n",
      "                         ID       Name  Likes  Rating  Tips\n",
      "0  50b99e4ae4b0c22ba9633dfd  Mominette    342     8.2    81\n",
      "( 7 / 88 ) processed\n",
      "                         ID           Name  Likes  Rating  Tips\n",
      "0  5b5cb5468ad62e002cdc39d5  Madame Poupon      8     8.3     5\n",
      "( 8 / 88 ) processed\n",
      "                         ID            Name  Likes  Rating  Tips\n",
      "0  5003007de4b06d50188aa593  Le Paris Dakar    148     8.6    41\n",
      "( 9 / 88 ) processed\n",
      "                         ID      Name  Likes  Rating  Tips\n",
      "0  4f7f8b86e4b088077df30175  Chez Moi    204     8.5    76\n",
      "( 10 / 88 ) processed\n",
      "                         ID      Name  Likes  Rating  Tips\n",
      "0  4f7f8b86e4b088077df30175  Chez Moi    204     8.5    76\n",
      "( 11 / 88 ) processed\n",
      "                         ID      Name  Likes  Rating  Tips\n",
      "0  5df42352f93ca9000762ff64  Bar Bête     25     8.6     5\n",
      "( 12 / 88 ) processed\n",
      "                         ID          Name  Likes  Rating  Tips\n",
      "0  4e2ca88afa76bbf847e6886c  Jolie Bistro    216     8.3    79\n",
      "( 13 / 88 ) processed\n",
      "                         ID            Name  Likes  Rating  Tips\n",
      "0  51e7e612498e001aa73959dd  Olivier Bistro    109     7.8    39\n",
      "( 14 / 88 ) processed\n",
      "                         ID           Name  Likes  Rating  Tips\n",
      "0  5250553911d262bb0c732ee8  Cafe Paulette    220     8.6    53\n",
      "( 15 / 88 ) processed\n",
      "                         ID           Name  Likes  Rating  Tips\n",
      "0  5250553911d262bb0c732ee8  Cafe Paulette    220     8.6    53\n",
      "( 16 / 88 ) processed\n",
      "                         ID          Name  Likes  Rating  Tips\n",
      "0  530931a5498e4079544a5f13  French Louie    574     8.9   115\n",
      "( 17 / 88 ) processed\n",
      "                         ID                   Name  Likes  Rating  Tips\n",
      "0  4d20bc3af7a9a143bcab2f9f  The Little Sweet Café     69     7.9    32\n",
      "( 18 / 88 ) processed\n",
      "                         ID           Name  Likes  Rating  Tips\n",
      "0  5250553911d262bb0c732ee8  Cafe Paulette    220     8.6    53\n",
      "( 19 / 88 ) processed\n",
      "                         ID          Name  Likes  Rating  Tips\n",
      "0  530931a5498e4079544a5f13  French Louie    574     8.9   115\n",
      "( 20 / 88 ) processed\n",
      "                         ID       Name  Likes  Rating  Tips\n",
      "0  3fd66200f964a52058f11ee3  Bar Tabac    452     8.2   211\n",
      "( 21 / 88 ) processed\n",
      "                         ID      Name  Likes  Rating  Tips\n",
      "0  4554c3b0f964a520113d1fe3  Juliette    782     8.5   276\n",
      "( 22 / 88 ) processed\n",
      "                         ID                   Name  Likes  Rating  Tips\n",
      "0  558ddcbe498e892dbe0d3a8b  Les Enfants de Bohème     90     8.6    19\n",
      "( 23 / 88 ) processed\n",
      "                         ID           Name  Likes  Rating  Tips\n",
      "0  511a937ee88968b8acbba54b  Maison Harlem    289     8.6    88\n",
      "( 24 / 88 ) processed\n",
      "                         ID     Name  Likes  Rating  Tips\n",
      "0  4b80389ff964a520e95d30e3  Yatenga    104     8.5    62\n",
      "( 25 / 88 ) processed\n",
      "                         ID                Name  Likes  Rating  Tips\n",
      "0  59cc6158c0af57432b9fd02b  Renaissance Harlem     16     8.1     3\n",
      "( 26 / 88 ) processed\n",
      "                         ID           Name  Likes  Rating  Tips\n",
      "0  511a937ee88968b8acbba54b  Maison Harlem    289     8.6    88\n",
      "( 27 / 88 ) processed\n",
      "                         ID           Name  Likes  Rating  Tips\n",
      "0  553c1b00498e7eb81316bf1b  Mountain Bird     80     8.9    18\n",
      "( 28 / 88 ) processed\n",
      "                         ID   Name  Likes  Rating  Tips\n",
      "0  4408540af964a52055301fe3  Orsay    153     8.3    46\n",
      "( 29 / 88 ) processed\n",
      "                         ID           Name  Likes  Rating  Tips\n",
      "0  467ffefcf964a52019481fe3  Cafe D'Alsace    528     8.8   174\n",
      "( 30 / 88 ) processed\n",
      "                         ID   Name  Likes  Rating  Tips\n",
      "0  4408540af964a52055301fe3  Orsay    153     8.3    46\n",
      "( 31 / 88 ) processed\n",
      "                         ID              Name  Likes  Rating  Tips\n",
      "0  4d8e49c36174a0935ff2c4e3  Le Moulin A Cafe    159     8.5    64\n",
      "( 32 / 88 ) processed\n",
      "                         ID    Name  Likes  Rating  Tips\n",
      "0  3fd66200f964a520dee71ee3  Daniel    488     9.1   188\n",
      "( 33 / 88 ) processed\n",
      "                         ID              Name  Likes  Rating  Tips\n",
      "0  4d8e49c36174a0935ff2c4e3  Le Moulin A Cafe    159     8.5    64\n",
      "( 34 / 88 ) processed\n",
      "                         ID             Name  Likes  Rating  Tips\n",
      "0  414ccc00f964a520d21c1fe3  Cafe Luxembourg    303     8.6   100\n",
      "( 35 / 88 ) processed\n",
      "                         ID        Name  Likes  Rating  Tips\n",
      "0  478cd1f3f964a520444d1fe3  Bar Boulud    383     8.0   183\n",
      "( 36 / 88 ) processed\n",
      "                         ID          Name  Likes  Rating  Tips\n",
      "0  3fd66200f964a520bee91ee3  Jean-Georges    553     8.9   284\n",
      "( 37 / 88 ) processed\n",
      "                         ID                       Name  Likes  Rating  Tips\n",
      "0  49e7897ff964a520b6641fe3  Nougatine at Jean Georges    278     8.8   102\n",
      "( 38 / 88 ) processed\n",
      "                         ID    Name  Likes  Rating  Tips\n",
      "0  41f19780f964a520101f1fe3  Per Se    393     8.8   192\n",
      "( 39 / 88 ) processed\n",
      "                         ID            Name  Likes  Rating  Tips\n",
      "0  3fd66200f964a5208de91ee3  Chez Josephine    112     8.2    56\n",
      "( 40 / 88 ) processed\n",
      "                         ID       Name  Likes  Rating  Tips\n",
      "0  3fd66200f964a520b4e81ee3  Marseille    256     8.1   112\n",
      "( 41 / 88 ) processed\n",
      "                         ID              Name  Likes  Rating  Tips\n",
      "0  5552087d498eb30c149f785a  Gabriel Kreuther    155     8.9    76\n",
      "( 42 / 88 ) processed\n",
      "                         ID         Name  Likes  Rating  Tips\n",
      "0  4c408f9e6c1a95216050b96a  Le Parisien    138     8.5    67\n",
      "( 43 / 88 ) processed\n",
      "                         ID    Name  Likes  Rating  Tips\n",
      "0  5dcf67e642c0140007488570  Loulou     18     8.5     3\n",
      "( 44 / 88 ) processed\n",
      "                         ID                Name  Likes  Rating  Tips\n",
      "0  59c724adb3d8e220e8c71ab8  Intersect By Lexus     65     8.8    12\n",
      "( 45 / 88 ) processed\n",
      "                         ID    Name  Likes  Rating  Tips\n",
      "0  5ce5b1f1f5e9d7002c4ad547  Pastis    144     9.1    20\n",
      "( 46 / 88 ) processed\n",
      "                         ID                Name  Likes  Rating  Tips\n",
      "0  3fd66200f964a52006e61ee3  Raoul's Restaurant    392     9.1   154\n",
      "( 47 / 88 ) processed\n",
      "                         ID       Name  Likes  Rating  Tips\n",
      "0  3fd66200f964a52070e91ee3  Balthazar   3042     8.9  1049\n",
      "( 48 / 88 ) processed\n",
      "                         ID             Name  Likes  Rating  Tips\n",
      "0  5303f306498ebbca8f7e1158  Le French Diner     69     9.0    22\n",
      "( 49 / 88 ) processed\n",
      "                         ID     Name  Likes  Rating  Tips\n",
      "0  556b8dc2498eb674c015c301  Wildair    269     8.7    74\n",
      "( 50 / 88 ) processed\n",
      "No data available for id= 5abc33ccad17896edaca3d61\n",
      "( 51 / 88 ) processed\n",
      "No data available for id= 566c9c87498ef09a2940e605\n",
      "( 52 / 88 ) processed\n",
      "No data available for id= 3fd66200f964a52083e61ee3\n",
      "( 53 / 88 ) processed\n",
      "No data available for id= 3fd66200f964a52070e91ee3\n",
      "( 54 / 88 ) processed\n",
      "No data available for id= 3fd66200f964a52070e91ee3\n",
      "( 55 / 88 ) processed\n",
      "No data available for id= 3fd66200f964a52006e61ee3\n",
      "( 56 / 88 ) processed\n",
      "No data available for id= 4d0bf7e3f29c236ac675bfe7\n",
      "( 57 / 88 ) processed\n",
      "No data available for id= 4abe33aaf964a520f18b20e3\n",
      "( 58 / 88 ) processed\n",
      "No data available for id= 5ce5b1f1f5e9d7002c4ad547\n",
      "( 59 / 88 ) processed\n",
      "No data available for id= 44e86a78f964a5209c371fe3\n",
      "( 60 / 88 ) processed\n",
      "No data available for id= 5a47a5e4e679bc7b226989ca\n",
      "( 61 / 88 ) processed\n",
      "No data available for id= 5a47a5e4e679bc7b226989ca\n",
      "( 62 / 88 ) processed\n",
      "No data available for id= 4b428a19f964a52002d625e3\n",
      "( 63 / 88 ) processed\n",
      "No data available for id= 4b428a19f964a52002d625e3\n",
      "( 64 / 88 ) processed\n",
      "No data available for id= 5f78edd788b0165c622d34f5\n",
      "( 65 / 88 ) processed\n",
      "No data available for id= 467fc553f964a52016481fe3\n",
      "( 66 / 88 ) processed\n",
      "No data available for id= 4f71ce9de4b0a89fa4b084de\n",
      "( 67 / 88 ) processed\n",
      "No data available for id= 4da08c63bb206ea8da50defd\n",
      "( 68 / 88 ) processed\n",
      "No data available for id= 4da08c63bb206ea8da50defd\n",
      "( 69 / 88 ) processed\n",
      "No data available for id= 4b9d2218f964a5207e9236e3\n",
      "( 70 / 88 ) processed\n",
      "No data available for id= 467ffefcf964a52019481fe3\n",
      "( 71 / 88 ) processed\n",
      "No data available for id= 5303f306498ebbca8f7e1158\n",
      "( 72 / 88 ) processed\n",
      "No data available for id= 3fd66200f964a5202de51ee3\n",
      "( 73 / 88 ) processed\n",
      "No data available for id= 534c9d7b498e1bdd443a40e1\n",
      "( 74 / 88 ) processed\n",
      "No data available for id= 3fd66200f964a52083e61ee3\n",
      "( 75 / 88 ) processed\n",
      "No data available for id= 566c9c87498ef09a2940e605\n",
      "( 76 / 88 ) processed\n",
      "No data available for id= 5abc33ccad17896edaca3d61\n",
      "( 77 / 88 ) processed\n",
      "No data available for id= 4b70825df964a520e01e2de3\n",
      "( 78 / 88 ) processed\n",
      "No data available for id= 437bc800f964a520a22a1fe3\n",
      "( 79 / 88 ) processed\n",
      "No data available for id= 522b6da511d2a6f8f7a6798f\n",
      "( 80 / 88 ) processed\n",
      "No data available for id= 4a216706f964a520e27c1fe3\n",
      "( 81 / 88 ) processed\n",
      "No data available for id= 4a64fda8f964a52023c71fe3\n",
      "( 82 / 88 ) processed\n",
      "No data available for id= 5143a58229a6639d6cfd525c\n",
      "( 83 / 88 ) processed\n",
      "No data available for id= 533d99c8498e4ed0ad9db108\n",
      "( 84 / 88 ) processed\n",
      "No data available for id= 4c408f9e6c1a95216050b96a\n",
      "( 85 / 88 ) processed\n",
      "No data available for id= 57f57d5dcd1047e759ea8838\n",
      "( 86 / 88 ) processed\n",
      "No data available for id= 439591fcf964a5208c2b1fe3\n",
      "( 87 / 88 ) processed\n",
      "No data available for id= 3fd66200f964a5208de91ee3\n",
      "( 88 / 88 ) processed\n"
     ]
    }
   ],
   "source": [
    "# prepare neighborhood list that contains french resturants\n",
    "column_names=['Borough', 'Neighborhood', 'ID','Name','Likes','Rating','Tips']\n",
    "french_rest_stats_ny=pd.DataFrame(columns=column_names)\n",
    "count=1\n",
    "\n",
    "\n",
    "for row in french_rest_ny.values.tolist():\n",
    "    Borough,Neighborhood,ID,Name=row\n",
    "\n",
    "    # prepare neighborhood list that contains french resturants\n",
    "column_names=['Borough', 'Neighborhood', 'ID','Name','Likes','Rating','Tips']\n",
    "french_rest_stats_ny=pd.DataFrame(columns=column_names)\n",
    "count=1\n",
    "\n",
    "\n",
    "for row in french_rest_ny.values.tolist():\n",
    "    Borough,Neighborhood,ID,Name=row\n",
    "    try:\n",
    "        venue_details=get_venue_details(ID)\n",
    "        print(venue_details)\n",
    "        id,name,likes,rating,tips=venue_details.values.tolist()[0]\n",
    "    except (KeyError) as e:\n",
    "        print('No data available for id=',ID)\n",
    "        # we will assign 0 value for these resturants as they may have been \n",
    "        #recently opened or details does not exist in FourSquare Database\n",
    "        id,name,likes,rating,tips=[0]*5\n",
    "    print('(',count,'/',len(french_rest_ny),')','processed')\n",
    "    french_rest_stats_ny = french_rest_stats_ny.append({'Borough': Borough,\n",
    "                                                'Neighborhood': Neighborhood, \n",
    "                                                'ID': id,\n",
    "                                                'Name' : name,\n",
    "                                                'Likes' : likes,\n",
    "                                                'Rating' : rating,\n",
    "                                                'Tips' : tips\n",
    "                                               }, ignore_index=True)\n",
    "    count+=1"
   ]
  },
  {
   "cell_type": "code",
   "execution_count": 17,
   "metadata": {},
   "outputs": [
    {
     "data": {
      "text/html": [
       "<div>\n",
       "<style scoped>\n",
       "    .dataframe tbody tr th:only-of-type {\n",
       "        vertical-align: middle;\n",
       "    }\n",
       "\n",
       "    .dataframe tbody tr th {\n",
       "        vertical-align: top;\n",
       "    }\n",
       "\n",
       "    .dataframe thead th {\n",
       "        text-align: right;\n",
       "    }\n",
       "</style>\n",
       "<table border=\"1\" class=\"dataframe\">\n",
       "  <thead>\n",
       "    <tr style=\"text-align: right;\">\n",
       "      <th></th>\n",
       "      <th>Borough</th>\n",
       "      <th>Neighborhood</th>\n",
       "      <th>ID</th>\n",
       "      <th>Name</th>\n",
       "      <th>Likes</th>\n",
       "      <th>Rating</th>\n",
       "      <th>Tips</th>\n",
       "    </tr>\n",
       "  </thead>\n",
       "  <tbody>\n",
       "    <tr>\n",
       "      <th>0</th>\n",
       "      <td>Bronx</td>\n",
       "      <td>City Island</td>\n",
       "      <td>4d7aa83ee540f04d66ba16dc</td>\n",
       "      <td>Bistro SK</td>\n",
       "      <td>12</td>\n",
       "      <td>7.5</td>\n",
       "      <td>7</td>\n",
       "    </tr>\n",
       "    <tr>\n",
       "      <th>1</th>\n",
       "      <td>Brooklyn</td>\n",
       "      <td>Greenpoint</td>\n",
       "      <td>5bf358689fca56002c251a87</td>\n",
       "      <td>Citroën</td>\n",
       "      <td>25</td>\n",
       "      <td>8.4</td>\n",
       "      <td>3</td>\n",
       "    </tr>\n",
       "    <tr>\n",
       "      <th>2</th>\n",
       "      <td>Brooklyn</td>\n",
       "      <td>Greenpoint</td>\n",
       "      <td>58fd34584382ab70ad90083e</td>\n",
       "      <td>Chez Ma Tante</td>\n",
       "      <td>224</td>\n",
       "      <td>9.1</td>\n",
       "      <td>60</td>\n",
       "    </tr>\n",
       "    <tr>\n",
       "      <th>3</th>\n",
       "      <td>Brooklyn</td>\n",
       "      <td>Greenpoint</td>\n",
       "      <td>4bcf1883c564ef3ba33beff0</td>\n",
       "      <td>Le Gamin</td>\n",
       "      <td>161</td>\n",
       "      <td>7.8</td>\n",
       "      <td>73</td>\n",
       "    </tr>\n",
       "    <tr>\n",
       "      <th>4</th>\n",
       "      <td>Brooklyn</td>\n",
       "      <td>Windsor Terrace</td>\n",
       "      <td>4e7d174cb6340a4da75a2cca</td>\n",
       "      <td>Le Paddock</td>\n",
       "      <td>141</td>\n",
       "      <td>8.8</td>\n",
       "      <td>56</td>\n",
       "    </tr>\n",
       "  </tbody>\n",
       "</table>\n",
       "</div>"
      ],
      "text/plain": [
       "    Borough     Neighborhood                        ID           Name Likes  \\\n",
       "0     Bronx      City Island  4d7aa83ee540f04d66ba16dc      Bistro SK    12   \n",
       "1  Brooklyn       Greenpoint  5bf358689fca56002c251a87        Citroën    25   \n",
       "2  Brooklyn       Greenpoint  58fd34584382ab70ad90083e  Chez Ma Tante   224   \n",
       "3  Brooklyn       Greenpoint  4bcf1883c564ef3ba33beff0       Le Gamin   161   \n",
       "4  Brooklyn  Windsor Terrace  4e7d174cb6340a4da75a2cca     Le Paddock   141   \n",
       "\n",
       "   Rating Tips  \n",
       "0     7.5    7  \n",
       "1     8.4    3  \n",
       "2     9.1   60  \n",
       "3     7.8   73  \n",
       "4     8.8   56  "
      ]
     },
     "execution_count": 17,
     "metadata": {},
     "output_type": "execute_result"
    }
   ],
   "source": [
    "french_rest_stats_ny.head()"
   ]
  },
  {
   "cell_type": "code",
   "execution_count": 18,
   "metadata": {},
   "outputs": [
    {
     "data": {
      "text/plain": [
       "(88, 7)"
      ]
     },
     "execution_count": 18,
     "metadata": {},
     "output_type": "execute_result"
    }
   ],
   "source": [
    "french_rest_stats_ny.shape"
   ]
  },
  {
   "cell_type": "code",
   "execution_count": 19,
   "metadata": {},
   "outputs": [
    {
     "data": {
      "text/plain": [
       "(88, 4)"
      ]
     },
     "execution_count": 19,
     "metadata": {},
     "output_type": "execute_result"
    }
   ],
   "source": [
    "french_rest_ny.shape"
   ]
  },
  {
   "cell_type": "markdown",
   "metadata": {},
   "source": [
    "Now that we got data for all resturants Now lets save this data to a csv sheet. In case we by mistake modify it. As the number of calls to get details for venue are premium call and have limit of 500 per day, we will refer to saved data sheet csv if required."
   ]
  },
  {
   "cell_type": "code",
   "execution_count": 20,
   "metadata": {},
   "outputs": [],
   "source": [
    "french_rest_stats_ny.to_csv('french_rest_stats_ny.csv', index=False)"
   ]
  },
  {
   "cell_type": "markdown",
   "metadata": {},
   "source": [
    "Lets verify the data from saved csv file."
   ]
  },
  {
   "cell_type": "code",
   "execution_count": 21,
   "metadata": {},
   "outputs": [],
   "source": [
    "french_rest_stats_ny_csv=pd.read_csv('french_rest_stats_ny.csv')"
   ]
  },
  {
   "cell_type": "code",
   "execution_count": 22,
   "metadata": {},
   "outputs": [
    {
     "data": {
      "text/plain": [
       "(88, 7)"
      ]
     },
     "execution_count": 22,
     "metadata": {},
     "output_type": "execute_result"
    }
   ],
   "source": [
    "french_rest_stats_ny_csv.shape"
   ]
  },
  {
   "cell_type": "code",
   "execution_count": 23,
   "metadata": {},
   "outputs": [
    {
     "data": {
      "text/html": [
       "<div>\n",
       "<style scoped>\n",
       "    .dataframe tbody tr th:only-of-type {\n",
       "        vertical-align: middle;\n",
       "    }\n",
       "\n",
       "    .dataframe tbody tr th {\n",
       "        vertical-align: top;\n",
       "    }\n",
       "\n",
       "    .dataframe thead th {\n",
       "        text-align: right;\n",
       "    }\n",
       "</style>\n",
       "<table border=\"1\" class=\"dataframe\">\n",
       "  <thead>\n",
       "    <tr style=\"text-align: right;\">\n",
       "      <th></th>\n",
       "      <th>Borough</th>\n",
       "      <th>Neighborhood</th>\n",
       "      <th>ID</th>\n",
       "      <th>Name</th>\n",
       "      <th>Likes</th>\n",
       "      <th>Rating</th>\n",
       "      <th>Tips</th>\n",
       "    </tr>\n",
       "  </thead>\n",
       "  <tbody>\n",
       "    <tr>\n",
       "      <th>0</th>\n",
       "      <td>Bronx</td>\n",
       "      <td>City Island</td>\n",
       "      <td>4d7aa83ee540f04d66ba16dc</td>\n",
       "      <td>Bistro SK</td>\n",
       "      <td>12</td>\n",
       "      <td>7.5</td>\n",
       "      <td>7</td>\n",
       "    </tr>\n",
       "    <tr>\n",
       "      <th>1</th>\n",
       "      <td>Brooklyn</td>\n",
       "      <td>Greenpoint</td>\n",
       "      <td>5bf358689fca56002c251a87</td>\n",
       "      <td>Citroën</td>\n",
       "      <td>25</td>\n",
       "      <td>8.4</td>\n",
       "      <td>3</td>\n",
       "    </tr>\n",
       "    <tr>\n",
       "      <th>2</th>\n",
       "      <td>Brooklyn</td>\n",
       "      <td>Greenpoint</td>\n",
       "      <td>58fd34584382ab70ad90083e</td>\n",
       "      <td>Chez Ma Tante</td>\n",
       "      <td>224</td>\n",
       "      <td>9.1</td>\n",
       "      <td>60</td>\n",
       "    </tr>\n",
       "    <tr>\n",
       "      <th>3</th>\n",
       "      <td>Brooklyn</td>\n",
       "      <td>Greenpoint</td>\n",
       "      <td>4bcf1883c564ef3ba33beff0</td>\n",
       "      <td>Le Gamin</td>\n",
       "      <td>161</td>\n",
       "      <td>7.8</td>\n",
       "      <td>73</td>\n",
       "    </tr>\n",
       "    <tr>\n",
       "      <th>4</th>\n",
       "      <td>Brooklyn</td>\n",
       "      <td>Windsor Terrace</td>\n",
       "      <td>4e7d174cb6340a4da75a2cca</td>\n",
       "      <td>Le Paddock</td>\n",
       "      <td>141</td>\n",
       "      <td>8.8</td>\n",
       "      <td>56</td>\n",
       "    </tr>\n",
       "  </tbody>\n",
       "</table>\n",
       "</div>"
      ],
      "text/plain": [
       "    Borough     Neighborhood                        ID           Name  Likes  \\\n",
       "0     Bronx      City Island  4d7aa83ee540f04d66ba16dc      Bistro SK     12   \n",
       "1  Brooklyn       Greenpoint  5bf358689fca56002c251a87        Citroën     25   \n",
       "2  Brooklyn       Greenpoint  58fd34584382ab70ad90083e  Chez Ma Tante    224   \n",
       "3  Brooklyn       Greenpoint  4bcf1883c564ef3ba33beff0       Le Gamin    161   \n",
       "4  Brooklyn  Windsor Terrace  4e7d174cb6340a4da75a2cca     Le Paddock    141   \n",
       "\n",
       "   Rating  Tips  \n",
       "0     7.5     7  \n",
       "1     8.4     3  \n",
       "2     9.1    60  \n",
       "3     7.8    73  \n",
       "4     8.8    56  "
      ]
     },
     "execution_count": 23,
     "metadata": {},
     "output_type": "execute_result"
    }
   ],
   "source": [
    "french_rest_stats_ny_csv.head()"
   ]
  },
  {
   "cell_type": "code",
   "execution_count": 24,
   "metadata": {},
   "outputs": [
    {
     "name": "stdout",
     "output_type": "stream",
     "text": [
      "<class 'pandas.core.frame.DataFrame'>\n",
      "RangeIndex: 88 entries, 0 to 87\n",
      "Data columns (total 7 columns):\n",
      " #   Column        Non-Null Count  Dtype  \n",
      "---  ------        --------------  -----  \n",
      " 0   Borough       88 non-null     object \n",
      " 1   Neighborhood  88 non-null     object \n",
      " 2   ID            88 non-null     object \n",
      " 3   Name          88 non-null     object \n",
      " 4   Likes         88 non-null     object \n",
      " 5   Rating        88 non-null     float64\n",
      " 6   Tips          88 non-null     object \n",
      "dtypes: float64(1), object(6)\n",
      "memory usage: 4.9+ KB\n"
     ]
    }
   ],
   "source": [
    "french_rest_stats_ny.info()"
   ]
  },
  {
   "cell_type": "markdown",
   "metadata": {},
   "source": [
    "The Data type of 'Likes' and 'Tips' are of type 'String'. we will convert them into type 'Float' for further analysis."
   ]
  },
  {
   "cell_type": "code",
   "execution_count": 25,
   "metadata": {},
   "outputs": [],
   "source": [
    "french_rest_stats_ny['Likes']=french_rest_stats_ny['Likes'].astype('float64')\n",
    "french_rest_stats_ny['Tips']=french_rest_stats_ny['Tips'].astype('float64')"
   ]
  },
  {
   "cell_type": "code",
   "execution_count": 26,
   "metadata": {},
   "outputs": [
    {
     "name": "stdout",
     "output_type": "stream",
     "text": [
      "<class 'pandas.core.frame.DataFrame'>\n",
      "RangeIndex: 88 entries, 0 to 87\n",
      "Data columns (total 7 columns):\n",
      " #   Column        Non-Null Count  Dtype  \n",
      "---  ------        --------------  -----  \n",
      " 0   Borough       88 non-null     object \n",
      " 1   Neighborhood  88 non-null     object \n",
      " 2   ID            88 non-null     object \n",
      " 3   Name          88 non-null     object \n",
      " 4   Likes         88 non-null     float64\n",
      " 5   Rating        88 non-null     float64\n",
      " 6   Tips          88 non-null     float64\n",
      "dtypes: float64(3), object(4)\n",
      "memory usage: 4.9+ KB\n"
     ]
    }
   ],
   "source": [
    "french_rest_stats_ny.info()"
   ]
  },
  {
   "cell_type": "markdown",
   "metadata": {},
   "source": [
    "Now we will find the French restuarants with Maximum Likes, Maximum Ratings and Maximum Tips."
   ]
  },
  {
   "cell_type": "code",
   "execution_count": 27,
   "metadata": {},
   "outputs": [
    {
     "data": {
      "text/plain": [
       "Borough                        Manhattan\n",
       "Neighborhood           Greenwich Village\n",
       "ID              3fd66200f964a52070e91ee3\n",
       "Name                           Balthazar\n",
       "Likes                               3042\n",
       "Rating                               8.9\n",
       "Tips                                1049\n",
       "Name: 47, dtype: object"
      ]
     },
     "execution_count": 27,
     "metadata": {},
     "output_type": "execute_result"
    }
   ],
   "source": [
    "# Resturant with maximum Likes\n",
    "french_rest_stats_ny.iloc[french_rest_stats_ny['Likes'].idxmax()]"
   ]
  },
  {
   "cell_type": "code",
   "execution_count": 28,
   "metadata": {},
   "outputs": [
    {
     "data": {
      "text/plain": [
       "Borough                         Brooklyn\n",
       "Neighborhood                  Greenpoint\n",
       "ID              58fd34584382ab70ad90083e\n",
       "Name                       Chez Ma Tante\n",
       "Likes                                224\n",
       "Rating                               9.1\n",
       "Tips                                  60\n",
       "Name: 2, dtype: object"
      ]
     },
     "execution_count": 28,
     "metadata": {},
     "output_type": "execute_result"
    }
   ],
   "source": [
    "# Resturant with maximum Rating\n",
    "french_rest_stats_ny.iloc[french_rest_stats_ny['Rating'].idxmax()]"
   ]
  },
  {
   "cell_type": "code",
   "execution_count": 29,
   "metadata": {},
   "outputs": [
    {
     "data": {
      "text/plain": [
       "Borough                        Manhattan\n",
       "Neighborhood           Greenwich Village\n",
       "ID              3fd66200f964a52070e91ee3\n",
       "Name                           Balthazar\n",
       "Likes                               3042\n",
       "Rating                               8.9\n",
       "Tips                                1049\n",
       "Name: 47, dtype: object"
      ]
     },
     "execution_count": 29,
     "metadata": {},
     "output_type": "execute_result"
    }
   ],
   "source": [
    "# Resturant with maximum Tips\n",
    "french_rest_stats_ny.iloc[french_rest_stats_ny['Tips'].idxmax()]"
   ]
  },
  {
   "cell_type": "markdown",
   "metadata": {},
   "source": [
    "Next lets visualize neighborhood with maximum average rating of resturants."
   ]
  },
  {
   "cell_type": "code",
   "execution_count": 30,
   "metadata": {},
   "outputs": [],
   "source": [
    "ny_neighborhood_stats=french_rest_stats_ny.groupby('Neighborhood',as_index=False).mean()[['Neighborhood','Rating']]\n",
    "ny_neighborhood_stats.columns=['Neighborhood','Average Rating']"
   ]
  },
  {
   "cell_type": "code",
   "execution_count": 31,
   "metadata": {},
   "outputs": [
    {
     "data": {
      "text/html": [
       "<div>\n",
       "<style scoped>\n",
       "    .dataframe tbody tr th:only-of-type {\n",
       "        vertical-align: middle;\n",
       "    }\n",
       "\n",
       "    .dataframe tbody tr th {\n",
       "        vertical-align: top;\n",
       "    }\n",
       "\n",
       "    .dataframe thead th {\n",
       "        text-align: right;\n",
       "    }\n",
       "</style>\n",
       "<table border=\"1\" class=\"dataframe\">\n",
       "  <thead>\n",
       "    <tr style=\"text-align: right;\">\n",
       "      <th></th>\n",
       "      <th>Neighborhood</th>\n",
       "      <th>Average Rating</th>\n",
       "    </tr>\n",
       "  </thead>\n",
       "  <tbody>\n",
       "    <tr>\n",
       "      <th>24</th>\n",
       "      <td>Greenwich Village</td>\n",
       "      <td>9.000000</td>\n",
       "    </tr>\n",
       "    <tr>\n",
       "      <th>18</th>\n",
       "      <td>East Harlem</td>\n",
       "      <td>8.900000</td>\n",
       "    </tr>\n",
       "    <tr>\n",
       "      <th>34</th>\n",
       "      <td>Midtown</td>\n",
       "      <td>8.900000</td>\n",
       "    </tr>\n",
       "    <tr>\n",
       "      <th>31</th>\n",
       "      <td>Lower East Side</td>\n",
       "      <td>8.850000</td>\n",
       "    </tr>\n",
       "    <tr>\n",
       "      <th>52</th>\n",
       "      <td>Yorkville</td>\n",
       "      <td>8.800000</td>\n",
       "    </tr>\n",
       "    <tr>\n",
       "      <th>51</th>\n",
       "      <td>Windsor Terrace</td>\n",
       "      <td>8.800000</td>\n",
       "    </tr>\n",
       "    <tr>\n",
       "      <th>9</th>\n",
       "      <td>Chelsea</td>\n",
       "      <td>8.800000</td>\n",
       "    </tr>\n",
       "    <tr>\n",
       "      <th>27</th>\n",
       "      <td>Lenox Hill</td>\n",
       "      <td>8.633333</td>\n",
       "    </tr>\n",
       "    <tr>\n",
       "      <th>28</th>\n",
       "      <td>Lincoln Square</td>\n",
       "      <td>8.620000</td>\n",
       "    </tr>\n",
       "    <tr>\n",
       "      <th>33</th>\n",
       "      <td>Manhattanville</td>\n",
       "      <td>8.600000</td>\n",
       "    </tr>\n",
       "  </tbody>\n",
       "</table>\n",
       "</div>"
      ],
      "text/plain": [
       "         Neighborhood  Average Rating\n",
       "24  Greenwich Village        9.000000\n",
       "18        East Harlem        8.900000\n",
       "34            Midtown        8.900000\n",
       "31    Lower East Side        8.850000\n",
       "52          Yorkville        8.800000\n",
       "51    Windsor Terrace        8.800000\n",
       "9             Chelsea        8.800000\n",
       "27         Lenox Hill        8.633333\n",
       "28     Lincoln Square        8.620000\n",
       "33     Manhattanville        8.600000"
      ]
     },
     "execution_count": 31,
     "metadata": {},
     "output_type": "execute_result"
    }
   ],
   "source": [
    "ny_neighborhood_stats.sort_values(['Average Rating'],ascending=False).head(10)"
   ]
  },
  {
   "cell_type": "markdown",
   "metadata": {},
   "source": [
    "Above are the top neighborhoods with top average rating of French restaurants "
   ]
  },
  {
   "cell_type": "markdown",
   "metadata": {},
   "source": [
    "Similarly we will find the average rating of French restaurants for each Borough."
   ]
  },
  {
   "cell_type": "code",
   "execution_count": 32,
   "metadata": {
    "scrolled": true
   },
   "outputs": [],
   "source": [
    "ny_borough_stats=french_rest_stats_ny.groupby('Borough',as_index=False).mean()[['Borough','Rating']]\n",
    "ny_borough_stats.columns=['Borough','Average Rating']"
   ]
  },
  {
   "cell_type": "code",
   "execution_count": 33,
   "metadata": {},
   "outputs": [
    {
     "data": {
      "text/html": [
       "<div>\n",
       "<style scoped>\n",
       "    .dataframe tbody tr th:only-of-type {\n",
       "        vertical-align: middle;\n",
       "    }\n",
       "\n",
       "    .dataframe tbody tr th {\n",
       "        vertical-align: top;\n",
       "    }\n",
       "\n",
       "    .dataframe thead th {\n",
       "        text-align: right;\n",
       "    }\n",
       "</style>\n",
       "<table border=\"1\" class=\"dataframe\">\n",
       "  <thead>\n",
       "    <tr style=\"text-align: right;\">\n",
       "      <th></th>\n",
       "      <th>Borough</th>\n",
       "      <th>Average Rating</th>\n",
       "    </tr>\n",
       "  </thead>\n",
       "  <tbody>\n",
       "    <tr>\n",
       "      <th>1</th>\n",
       "      <td>Brooklyn</td>\n",
       "      <td>8.063636</td>\n",
       "    </tr>\n",
       "    <tr>\n",
       "      <th>0</th>\n",
       "      <td>Bronx</td>\n",
       "      <td>7.500000</td>\n",
       "    </tr>\n",
       "    <tr>\n",
       "      <th>2</th>\n",
       "      <td>Manhattan</td>\n",
       "      <td>4.316071</td>\n",
       "    </tr>\n",
       "    <tr>\n",
       "      <th>3</th>\n",
       "      <td>Queens</td>\n",
       "      <td>0.000000</td>\n",
       "    </tr>\n",
       "    <tr>\n",
       "      <th>4</th>\n",
       "      <td>Staten Island</td>\n",
       "      <td>0.000000</td>\n",
       "    </tr>\n",
       "  </tbody>\n",
       "</table>\n",
       "</div>"
      ],
      "text/plain": [
       "         Borough  Average Rating\n",
       "1       Brooklyn        8.063636\n",
       "0          Bronx        7.500000\n",
       "2      Manhattan        4.316071\n",
       "3         Queens        0.000000\n",
       "4  Staten Island        0.000000"
      ]
     },
     "execution_count": 33,
     "metadata": {},
     "output_type": "execute_result"
    }
   ],
   "source": [
    "ny_borough_stats.sort_values(['Average Rating'],ascending=False).head()"
   ]
  },
  {
   "cell_type": "markdown",
   "metadata": {},
   "source": [
    "Let's Visualize it."
   ]
  },
  {
   "cell_type": "code",
   "execution_count": 34,
   "metadata": {},
   "outputs": [
    {
     "data": {
      "image/png": "[encoded data removed]",
      "text/plain": [
       "<Figure size 900x500 with 1 Axes>"
      ]
     },
     "metadata": {
      "needs_background": "light"
     },
     "output_type": "display_data"
    }
   ],
   "source": [
    "plt.figure(figsize=(9,5), dpi = 100)\n",
    "# title\n",
    "plt.title('Average rating of French Resturants for each Borough')\n",
    "#On x-axis\n",
    "plt.xlabel('Borough', fontsize = 12)\n",
    "#On y-axis\n",
    "plt.ylabel('Average Rating', fontsize=12)\n",
    "#giving a bar plot\n",
    "french_rest_stats_ny.groupby('Borough').mean()['Rating'].plot(kind='bar')\n",
    "#legend\n",
    "plt.legend()\n",
    "#displays the plot\n",
    "plt.show()"
   ]
  },
  {
   "cell_type": "markdown",
   "metadata": {},
   "source": [
    "We will consider all the neighborhoods with average rating greater or equal 8.0 to visualize on map."
   ]
  },
  {
   "cell_type": "code",
   "execution_count": 35,
   "metadata": {},
   "outputs": [],
   "source": [
    "ny_neighborhood_stats=ny_neighborhood_stats[ny_neighborhood_stats['Average Rating']>=8.0] "
   ]
  },
  {
   "cell_type": "code",
   "execution_count": 36,
   "metadata": {},
   "outputs": [
    {
     "data": {
      "text/html": [
       "<div>\n",
       "<style scoped>\n",
       "    .dataframe tbody tr th:only-of-type {\n",
       "        vertical-align: middle;\n",
       "    }\n",
       "\n",
       "    .dataframe tbody tr th {\n",
       "        vertical-align: top;\n",
       "    }\n",
       "\n",
       "    .dataframe thead th {\n",
       "        text-align: right;\n",
       "    }\n",
       "</style>\n",
       "<table border=\"1\" class=\"dataframe\">\n",
       "  <thead>\n",
       "    <tr style=\"text-align: right;\">\n",
       "      <th></th>\n",
       "      <th>Neighborhood</th>\n",
       "      <th>Average Rating</th>\n",
       "    </tr>\n",
       "  </thead>\n",
       "  <tbody>\n",
       "    <tr>\n",
       "      <th>2</th>\n",
       "      <td>Bedford Stuyvesant</td>\n",
       "      <td>8.450000</td>\n",
       "    </tr>\n",
       "    <tr>\n",
       "      <th>3</th>\n",
       "      <td>Boerum Hill</td>\n",
       "      <td>8.550000</td>\n",
       "    </tr>\n",
       "    <tr>\n",
       "      <th>4</th>\n",
       "      <td>Brooklyn Heights</td>\n",
       "      <td>8.500000</td>\n",
       "    </tr>\n",
       "    <tr>\n",
       "      <th>5</th>\n",
       "      <td>Bushwick</td>\n",
       "      <td>8.250000</td>\n",
       "    </tr>\n",
       "    <tr>\n",
       "      <th>7</th>\n",
       "      <td>Carroll Gardens</td>\n",
       "      <td>8.450000</td>\n",
       "    </tr>\n",
       "    <tr>\n",
       "      <th>8</th>\n",
       "      <td>Central Harlem</td>\n",
       "      <td>8.400000</td>\n",
       "    </tr>\n",
       "    <tr>\n",
       "      <th>9</th>\n",
       "      <td>Chelsea</td>\n",
       "      <td>8.800000</td>\n",
       "    </tr>\n",
       "    <tr>\n",
       "      <th>10</th>\n",
       "      <td>Chinatown</td>\n",
       "      <td>8.600000</td>\n",
       "    </tr>\n",
       "    <tr>\n",
       "      <th>13</th>\n",
       "      <td>Clinton</td>\n",
       "      <td>8.150000</td>\n",
       "    </tr>\n",
       "    <tr>\n",
       "      <th>14</th>\n",
       "      <td>Clinton Hill</td>\n",
       "      <td>8.600000</td>\n",
       "    </tr>\n",
       "    <tr>\n",
       "      <th>15</th>\n",
       "      <td>Cobble Hill</td>\n",
       "      <td>8.500000</td>\n",
       "    </tr>\n",
       "    <tr>\n",
       "      <th>17</th>\n",
       "      <td>Downtown</td>\n",
       "      <td>8.466667</td>\n",
       "    </tr>\n",
       "    <tr>\n",
       "      <th>18</th>\n",
       "      <td>East Harlem</td>\n",
       "      <td>8.900000</td>\n",
       "    </tr>\n",
       "    <tr>\n",
       "      <th>20</th>\n",
       "      <td>Fort Greene</td>\n",
       "      <td>8.600000</td>\n",
       "    </tr>\n",
       "    <tr>\n",
       "      <th>23</th>\n",
       "      <td>Greenpoint</td>\n",
       "      <td>8.433333</td>\n",
       "    </tr>\n",
       "    <tr>\n",
       "      <th>24</th>\n",
       "      <td>Greenwich Village</td>\n",
       "      <td>9.000000</td>\n",
       "    </tr>\n",
       "    <tr>\n",
       "      <th>27</th>\n",
       "      <td>Lenox Hill</td>\n",
       "      <td>8.633333</td>\n",
       "    </tr>\n",
       "    <tr>\n",
       "      <th>28</th>\n",
       "      <td>Lincoln Square</td>\n",
       "      <td>8.620000</td>\n",
       "    </tr>\n",
       "    <tr>\n",
       "      <th>31</th>\n",
       "      <td>Lower East Side</td>\n",
       "      <td>8.850000</td>\n",
       "    </tr>\n",
       "    <tr>\n",
       "      <th>33</th>\n",
       "      <td>Manhattanville</td>\n",
       "      <td>8.600000</td>\n",
       "    </tr>\n",
       "    <tr>\n",
       "      <th>34</th>\n",
       "      <td>Midtown</td>\n",
       "      <td>8.900000</td>\n",
       "    </tr>\n",
       "    <tr>\n",
       "      <th>35</th>\n",
       "      <td>Murray Hill</td>\n",
       "      <td>8.500000</td>\n",
       "    </tr>\n",
       "    <tr>\n",
       "      <th>38</th>\n",
       "      <td>North Side</td>\n",
       "      <td>8.500000</td>\n",
       "    </tr>\n",
       "    <tr>\n",
       "      <th>41</th>\n",
       "      <td>Roosevelt Island</td>\n",
       "      <td>8.500000</td>\n",
       "    </tr>\n",
       "    <tr>\n",
       "      <th>48</th>\n",
       "      <td>Upper East Side</td>\n",
       "      <td>8.300000</td>\n",
       "    </tr>\n",
       "    <tr>\n",
       "      <th>51</th>\n",
       "      <td>Windsor Terrace</td>\n",
       "      <td>8.800000</td>\n",
       "    </tr>\n",
       "    <tr>\n",
       "      <th>52</th>\n",
       "      <td>Yorkville</td>\n",
       "      <td>8.800000</td>\n",
       "    </tr>\n",
       "  </tbody>\n",
       "</table>\n",
       "</div>"
      ],
      "text/plain": [
       "          Neighborhood  Average Rating\n",
       "2   Bedford Stuyvesant        8.450000\n",
       "3          Boerum Hill        8.550000\n",
       "4     Brooklyn Heights        8.500000\n",
       "5             Bushwick        8.250000\n",
       "7      Carroll Gardens        8.450000\n",
       "8       Central Harlem        8.400000\n",
       "9              Chelsea        8.800000\n",
       "10           Chinatown        8.600000\n",
       "13             Clinton        8.150000\n",
       "14        Clinton Hill        8.600000\n",
       "15         Cobble Hill        8.500000\n",
       "17            Downtown        8.466667\n",
       "18         East Harlem        8.900000\n",
       "20         Fort Greene        8.600000\n",
       "23          Greenpoint        8.433333\n",
       "24   Greenwich Village        9.000000\n",
       "27          Lenox Hill        8.633333\n",
       "28      Lincoln Square        8.620000\n",
       "31     Lower East Side        8.850000\n",
       "33      Manhattanville        8.600000\n",
       "34             Midtown        8.900000\n",
       "35         Murray Hill        8.500000\n",
       "38          North Side        8.500000\n",
       "41    Roosevelt Island        8.500000\n",
       "48     Upper East Side        8.300000\n",
       "51     Windsor Terrace        8.800000\n",
       "52           Yorkville        8.800000"
      ]
     },
     "execution_count": 36,
     "metadata": {},
     "output_type": "execute_result"
    }
   ],
   "source": [
    "ny_neighborhood_stats"
   ]
  },
  {
   "cell_type": "markdown",
   "metadata": {},
   "source": [
    "We will join this dataset to original new york data to get lonitude and latitude."
   ]
  },
  {
   "cell_type": "code",
   "execution_count": 37,
   "metadata": {},
   "outputs": [],
   "source": [
    "ny_neighborhood_stats=pd.merge(ny_neighborhood_stats,new_york_data, on='Neighborhood')"
   ]
  },
  {
   "cell_type": "code",
   "execution_count": 38,
   "metadata": {},
   "outputs": [],
   "source": [
    "ny_neighborhood_stats=ny_neighborhood_stats[['Borough','Neighborhood','Latitude','Longitude','Average Rating']]"
   ]
  },
  {
   "cell_type": "code",
   "execution_count": 39,
   "metadata": {},
   "outputs": [
    {
     "data": {
      "text/html": [
       "<div>\n",
       "<style scoped>\n",
       "    .dataframe tbody tr th:only-of-type {\n",
       "        vertical-align: middle;\n",
       "    }\n",
       "\n",
       "    .dataframe tbody tr th {\n",
       "        vertical-align: top;\n",
       "    }\n",
       "\n",
       "    .dataframe thead th {\n",
       "        text-align: right;\n",
       "    }\n",
       "</style>\n",
       "<table border=\"1\" class=\"dataframe\">\n",
       "  <thead>\n",
       "    <tr style=\"text-align: right;\">\n",
       "      <th></th>\n",
       "      <th>Borough</th>\n",
       "      <th>Neighborhood</th>\n",
       "      <th>Latitude</th>\n",
       "      <th>Longitude</th>\n",
       "      <th>Average Rating</th>\n",
       "    </tr>\n",
       "  </thead>\n",
       "  <tbody>\n",
       "    <tr>\n",
       "      <th>16</th>\n",
       "      <td>Manhattan</td>\n",
       "      <td>Greenwich Village</td>\n",
       "      <td>40.726933</td>\n",
       "      <td>-73.999914</td>\n",
       "      <td>9.000000</td>\n",
       "    </tr>\n",
       "    <tr>\n",
       "      <th>13</th>\n",
       "      <td>Manhattan</td>\n",
       "      <td>East Harlem</td>\n",
       "      <td>40.792249</td>\n",
       "      <td>-73.944182</td>\n",
       "      <td>8.900000</td>\n",
       "    </tr>\n",
       "    <tr>\n",
       "      <th>21</th>\n",
       "      <td>Manhattan</td>\n",
       "      <td>Midtown</td>\n",
       "      <td>40.754691</td>\n",
       "      <td>-73.981669</td>\n",
       "      <td>8.900000</td>\n",
       "    </tr>\n",
       "    <tr>\n",
       "      <th>19</th>\n",
       "      <td>Manhattan</td>\n",
       "      <td>Lower East Side</td>\n",
       "      <td>40.717807</td>\n",
       "      <td>-73.980890</td>\n",
       "      <td>8.850000</td>\n",
       "    </tr>\n",
       "    <tr>\n",
       "      <th>28</th>\n",
       "      <td>Manhattan</td>\n",
       "      <td>Yorkville</td>\n",
       "      <td>40.775930</td>\n",
       "      <td>-73.947118</td>\n",
       "      <td>8.800000</td>\n",
       "    </tr>\n",
       "    <tr>\n",
       "      <th>27</th>\n",
       "      <td>Brooklyn</td>\n",
       "      <td>Windsor Terrace</td>\n",
       "      <td>40.656946</td>\n",
       "      <td>-73.980073</td>\n",
       "      <td>8.800000</td>\n",
       "    </tr>\n",
       "    <tr>\n",
       "      <th>6</th>\n",
       "      <td>Manhattan</td>\n",
       "      <td>Chelsea</td>\n",
       "      <td>40.744035</td>\n",
       "      <td>-74.003116</td>\n",
       "      <td>8.800000</td>\n",
       "    </tr>\n",
       "    <tr>\n",
       "      <th>7</th>\n",
       "      <td>Staten Island</td>\n",
       "      <td>Chelsea</td>\n",
       "      <td>40.594726</td>\n",
       "      <td>-74.189560</td>\n",
       "      <td>8.800000</td>\n",
       "    </tr>\n",
       "    <tr>\n",
       "      <th>17</th>\n",
       "      <td>Manhattan</td>\n",
       "      <td>Lenox Hill</td>\n",
       "      <td>40.768113</td>\n",
       "      <td>-73.958860</td>\n",
       "      <td>8.633333</td>\n",
       "    </tr>\n",
       "    <tr>\n",
       "      <th>18</th>\n",
       "      <td>Manhattan</td>\n",
       "      <td>Lincoln Square</td>\n",
       "      <td>40.773529</td>\n",
       "      <td>-73.985338</td>\n",
       "      <td>8.620000</td>\n",
       "    </tr>\n",
       "  </tbody>\n",
       "</table>\n",
       "</div>"
      ],
      "text/plain": [
       "          Borough       Neighborhood   Latitude  Longitude  Average Rating\n",
       "16      Manhattan  Greenwich Village  40.726933 -73.999914        9.000000\n",
       "13      Manhattan        East Harlem  40.792249 -73.944182        8.900000\n",
       "21      Manhattan            Midtown  40.754691 -73.981669        8.900000\n",
       "19      Manhattan    Lower East Side  40.717807 -73.980890        8.850000\n",
       "28      Manhattan          Yorkville  40.775930 -73.947118        8.800000\n",
       "27       Brooklyn    Windsor Terrace  40.656946 -73.980073        8.800000\n",
       "6       Manhattan            Chelsea  40.744035 -74.003116        8.800000\n",
       "7   Staten Island            Chelsea  40.594726 -74.189560        8.800000\n",
       "17      Manhattan         Lenox Hill  40.768113 -73.958860        8.633333\n",
       "18      Manhattan     Lincoln Square  40.773529 -73.985338        8.620000"
      ]
     },
     "execution_count": 39,
     "metadata": {},
     "output_type": "execute_result"
    }
   ],
   "source": [
    "ny_neighborhood_stats.sort_values(['Average Rating'],ascending=False).head(10)"
   ]
  },
  {
   "cell_type": "markdown",
   "metadata": {},
   "source": [
    "Finally, Let's show this data on a map."
   ]
  },
  {
   "cell_type": "code",
   "execution_count": 40,
   "metadata": {},
   "outputs": [
    {
     "name": "stdout",
     "output_type": "stream",
     "text": [
      "The geograpical coordinate of New York are 40.7127281, -74.0060152.\n"
     ]
    }
   ],
   "source": [
    "ny_map = folium.Map(location=geo_location('New York'), zoom_start=12)"
   ]
  },
  {
   "cell_type": "code",
   "execution_count": 41,
   "metadata": {},
   "outputs": [],
   "source": [
    "# instantiate a feature group for the incidents in the dataframe\n",
    "incidents = folium.map.FeatureGroup()\n",
    "\n",
    "# loop through the 100 crimes and add each to the incidents feature group\n",
    "for lat, lng, in ny_neighborhood_stats[['Latitude','Longitude']].values:\n",
    "    incidents.add_child(\n",
    "        folium.CircleMarker(\n",
    "            [lat, lng],\n",
    "            radius=10, # define how big you want the circle markers to be\n",
    "            color='yellow',\n",
    "            fill=True,\n",
    "            fill_color='blue',\n",
    "            fill_opacity=0.6\n",
    "        )\n",
    "    )"
   ]
  },
  {
   "cell_type": "markdown",
   "metadata": {},
   "source": [
    "Lets add a new field to dataframe for labeling purpose."
   ]
  },
  {
   "cell_type": "code",
   "execution_count": 42,
   "metadata": {
    "scrolled": true
   },
   "outputs": [],
   "source": [
    "ny_neighborhood_stats['Label']=ny_neighborhood_stats['Neighborhood']+', '+ny_neighborhood_stats['Borough']+'('+ny_neighborhood_stats['Average Rating'].map(str)+')'"
   ]
  },
  {
   "cell_type": "markdown",
   "metadata": {},
   "source": [
    "Best neighbourhoods in New York that has highest average rating for French Restaurants."
   ]
  },
  {
   "cell_type": "code",
   "execution_count": 43,
   "metadata": {},
   "outputs": [
    {
     "data": {
      "text/html": [
       "<div style=\"width:100%;\"><div style=\"position:relative;width:100%;height:0;padding-bottom:60%;\"><span style=\"color:#565656\">Make this Notebook Trusted to load map: File -> Trust Notebook</span><iframe src=\"about:blank\" style=\"position:absolute;width:100%;height:100%;left:0;top:0;border:none !important;\" data-html=%3C%21DOCTYPE%20html%3E%0A%3Chead%3E%20%20%20%20%0A%20%20%20%20%3Cmeta%20http-equiv%3D%22content-type%22%20content%3D%22text/html%3B%20charset%3DUTF-8%22%20/%3E%0A%20%20%20%20%0A%20%20%20%20%20%20%20%20%3Cscript%3E%0A%20%20%20%20%20%20%20%20%20%20%20%20L_NO_TOUCH%20%3D%20false%3B%0A%20%20%20%20%20%20%20%20%20%20%20%20L_DISABLE_3D%20%3D%20false%3B%0A%20%20%20%20%20%20%20%20%3C/script%3E%0A%20%20%20%20%0A%20%20%20%20%3Cstyle%3Ehtml%2C%20body%20%7Bwidth%3A%20100%25%3Bheight%3A%20100%25%3Bmargin%3A%200%3Bpadding%3A%200%3B%7D%3C/style%3E%0A%20%20%20%20%3Cstyle%3E%23map%20%7Bposition%3Aabsolute%3Btop%3A0%3Bbottom%3A0%3Bright%3A0%3Bleft%3A0%3B%7D%3C/style%3E%0A%20%20%20%20%3Cscript%20src%3D%22https%3A//cdn.jsdelivr.net/npm/leaflet%401.6.0/dist/leaflet.js%22%3E%3C/script%3E%0A%20%20%20%20%3Cscript%20src%3D%22https%3A//code.jquery.com/jquery-1.12.4.min.js%22%3E%3C/script%3E%0A%20%20%20%20%3Cscript%20src%3D%22https%3A//maxcdn.bootstrapcdn.com/bootstrap/3.2.0/js/bootstrap.min.js%22%3E%3C/script%3E%0A%20%20%20%20%3Cscript%20src%3D%22https%3A//cdnjs.cloudflare.com/ajax/libs/Leaflet.awesome-markers/2.0.2/leaflet.awesome-markers.js%22%3E%3C/script%3E%0A%20%20%20%20%3Clink%20rel%3D%22stylesheet%22%20href%3D%22https%3A//cdn.jsdelivr.net/npm/leaflet%401.6.0/dist/leaflet.css%22/%3E%0A%20%20%20%20%3Clink%20rel%3D%22stylesheet%22%20href%3D%22https%3A//maxcdn.bootstrapcdn.com/bootstrap/3.2.0/css/bootstrap.min.css%22/%3E%0A%20%20%20%20%3Clink%20rel%3D%22stylesheet%22%20href%3D%22https%3A//maxcdn.bootstrapcdn.com/bootstrap/3.2.0/css/bootstrap-theme.min.css%22/%3E%0A%20%20%20%20%3Clink%20rel%3D%22stylesheet%22%20href%3D%22https%3A//maxcdn.bootstrapcdn.com/font-awesome/4.6.3/css/font-awesome.min.css%22/%3E%0A%20%20%20%20%3Clink%20rel%3D%22stylesheet%22%20href%3D%22https%3A//cdnjs.cloudflare.com/ajax/libs/Leaflet.awesome-markers/2.0.2/leaflet.awesome-markers.css%22/%3E%0A%20%20%20%20%3Clink%20rel%3D%22stylesheet%22%20href%3D%22https%3A//cdn.jsdelivr.net/gh/python-visualization/folium/folium/templates/leaflet.awesome.rotate.min.css%22/%3E%0A%20%20%20%20%0A%20%20%20%20%20%20%20%20%20%20%20%20%3Cmeta%20name%3D%22viewport%22%20content%3D%22width%3Ddevice-width%2C%0A%20%20%20%20%20%20%20%20%20%20%20%20%20%20%20%20initial-scale%3D1.0%2C%20maximum-scale%3D1.0%2C%20user-scalable%3Dno%22%20/%3E%0A%20%20%20%20%20%20%20%20%20%20%20%20%3Cstyle%3E%0A%20%20%20%20%20%20%20%20%20%20%20%20%20%20%20%20%23map_7c607eefeb544b35a3eede1967c0cd77%20%7B%0A%20%20%20%20%20%20%20%20%20%20%20%20%20%20%20%20%20%20%20%20position%3A%20relative%3B%0A%20%20%20%20%20%20%20%20%20%20%20%20%20%20%20%20%20%20%20%20width%3A%20100.0%25%3B%0A%20%20%20%20%20%20%20%20%20%20%20%20%20%20%20%20%20%20%20%20height%3A%20100.0%25%3B%0A%20%20%20%20%20%20%20%20%20%20%20%20%20%20%20%20%20%20%20%20left%3A%200.0%25%3B%0A%20%20%20%20%20%20%20%20%20%20%20%20%20%20%20%20%20%20%20%20top%3A%200.0%25%3B%0A%20%20%20%20%20%20%20%20%20%20%20%20%20%20%20%20%7D%0A%20%20%20%20%20%20%20%20%20%20%20%20%3C/style%3E%0A%20%20%20%20%20%20%20%20%0A%3C/head%3E%0A%3Cbody%3E%20%20%20%20%0A%20%20%20%20%0A%20%20%20%20%20%20%20%20%20%20%20%20%3Cdiv%20class%3D%22folium-map%22%20id%3D%22map_7c607eefeb544b35a3eede1967c0cd77%22%20%3E%3C/div%3E%0A%20%20%20%20%20%20%20%20%0A%3C/body%3E%0A%3Cscript%3E%20%20%20%20%0A%20%20%20%20%0A%20%20%20%20%20%20%20%20%20%20%20%20var%20map_7c607eefeb544b35a3eede1967c0cd77%20%3D%20L.map%28%0A%20%20%20%20%20%20%20%20%20%20%20%20%20%20%20%20%22map_7c607eefeb544b35a3eede1967c0cd77%22%2C%0A%20%20%20%20%20%20%20%20%20%20%20%20%20%20%20%20%7B%0A%20%20%20%20%20%20%20%20%20%20%20%20%20%20%20%20%20%20%20%20center%3A%20%5B0%2C%200%5D%2C%0A%20%20%20%20%20%20%20%20%20%20%20%20%20%20%20%20%20%20%20%20crs%3A%20L.CRS.EPSG3857%2C%0A%20%20%20%20%20%20%20%20%20%20%20%20%20%20%20%20%20%20%20%20zoom%3A%201%2C%0A%20%20%20%20%20%20%20%20%20%20%20%20%20%20%20%20%20%20%20%20zoomControl%3A%20true%2C%0A%20%20%20%20%20%20%20%20%20%20%20%20%20%20%20%20%20%20%20%20preferCanvas%3A%20false%2C%0A%20%20%20%20%20%20%20%20%20%20%20%20%20%20%20%20%7D%0A%20%20%20%20%20%20%20%20%20%20%20%20%29%3B%0A%0A%20%20%20%20%20%20%20%20%20%20%20%20%0A%0A%20%20%20%20%20%20%20%20%0A%20%20%20%20%0A%20%20%20%20%20%20%20%20%20%20%20%20var%20tile_layer_7e2f8f5b30dd4ad199e7cec5db916b2b%20%3D%20L.tileLayer%28%0A%20%20%20%20%20%20%20%20%20%20%20%20%20%20%20%20%22https%3A//%7Bs%7D.tile.openstreetmap.org/%7Bz%7D/%7Bx%7D/%7By%7D.png%22%2C%0A%20%20%20%20%20%20%20%20%20%20%20%20%20%20%20%20%7B%22attribution%22%3A%20%22Data%20by%20%5Cu0026copy%3B%20%5Cu003ca%20href%3D%5C%22http%3A//openstreetmap.org%5C%22%5Cu003eOpenStreetMap%5Cu003c/a%5Cu003e%2C%20under%20%5Cu003ca%20href%3D%5C%22http%3A//www.openstreetmap.org/copyright%5C%22%5Cu003eODbL%5Cu003c/a%5Cu003e.%22%2C%20%22detectRetina%22%3A%20false%2C%20%22maxNativeZoom%22%3A%2018%2C%20%22maxZoom%22%3A%2018%2C%20%22minZoom%22%3A%200%2C%20%22noWrap%22%3A%20false%2C%20%22opacity%22%3A%201%2C%20%22subdomains%22%3A%20%22abc%22%2C%20%22tms%22%3A%20false%7D%0A%20%20%20%20%20%20%20%20%20%20%20%20%29.addTo%28map_7c607eefeb544b35a3eede1967c0cd77%29%3B%0A%20%20%20%20%20%20%20%20%0A%20%20%20%20%0A%20%20%20%20%20%20%20%20%20%20%20%20var%20marker_fd85df1c0f574f6aa8ad3bd46611d642%20%3D%20L.marker%28%0A%20%20%20%20%20%20%20%20%20%20%20%20%20%20%20%20%5B40.687231607720456%2C%20-73.94178488690297%5D%2C%0A%20%20%20%20%20%20%20%20%20%20%20%20%20%20%20%20%7B%7D%0A%20%20%20%20%20%20%20%20%20%20%20%20%29.addTo%28map_7c607eefeb544b35a3eede1967c0cd77%29%3B%0A%20%20%20%20%20%20%20%20%0A%20%20%20%20%0A%20%20%20%20%20%20%20%20var%20popup_bbb78cf7b59545b2b96915141dd746d5%20%3D%20L.popup%28%7B%22maxWidth%22%3A%20%22100%25%22%7D%29%3B%0A%0A%20%20%20%20%20%20%20%20%0A%20%20%20%20%20%20%20%20%20%20%20%20var%20html_203d26f432ce47fcb8b64befd1a40fe7%20%3D%20%24%28%60%3Cdiv%20id%3D%22html_203d26f432ce47fcb8b64befd1a40fe7%22%20style%3D%22width%3A%20100.0%25%3B%20height%3A%20100.0%25%3B%22%3EBedford%20Stuyvesant%2C%20Brooklyn%288.45%29%3C/div%3E%60%29%5B0%5D%3B%0A%20%20%20%20%20%20%20%20%20%20%20%20popup_bbb78cf7b59545b2b96915141dd746d5.setContent%28html_203d26f432ce47fcb8b64befd1a40fe7%29%3B%0A%20%20%20%20%20%20%20%20%0A%0A%20%20%20%20%20%20%20%20marker_fd85df1c0f574f6aa8ad3bd46611d642.bindPopup%28popup_bbb78cf7b59545b2b96915141dd746d5%29%0A%20%20%20%20%20%20%20%20%3B%0A%0A%20%20%20%20%20%20%20%20%0A%20%20%20%20%0A%20%20%20%20%0A%20%20%20%20%20%20%20%20%20%20%20%20var%20marker_ca52fbfc5f93451c808aac55aae5bb2d%20%3D%20L.marker%28%0A%20%20%20%20%20%20%20%20%20%20%20%20%20%20%20%20%5B40.685682912091444%2C%20-73.98374824115798%5D%2C%0A%20%20%20%20%20%20%20%20%20%20%20%20%20%20%20%20%7B%7D%0A%20%20%20%20%20%20%20%20%20%20%20%20%29.addTo%28map_7c607eefeb544b35a3eede1967c0cd77%29%3B%0A%20%20%20%20%20%20%20%20%0A%20%20%20%20%0A%20%20%20%20%20%20%20%20var%20popup_943e5b99d68344b3bb1cd0872bb973e7%20%3D%20L.popup%28%7B%22maxWidth%22%3A%20%22100%25%22%7D%29%3B%0A%0A%20%20%20%20%20%20%20%20%0A%20%20%20%20%20%20%20%20%20%20%20%20var%20html_2fb7a44fada34393b89470b4546418f6%20%3D%20%24%28%60%3Cdiv%20id%3D%22html_2fb7a44fada34393b89470b4546418f6%22%20style%3D%22width%3A%20100.0%25%3B%20height%3A%20100.0%25%3B%22%3EBoerum%20Hill%2C%20Brooklyn%288.55%29%3C/div%3E%60%29%5B0%5D%3B%0A%20%20%20%20%20%20%20%20%20%20%20%20popup_943e5b99d68344b3bb1cd0872bb973e7.setContent%28html_2fb7a44fada34393b89470b4546418f6%29%3B%0A%20%20%20%20%20%20%20%20%0A%0A%20%20%20%20%20%20%20%20marker_ca52fbfc5f93451c808aac55aae5bb2d.bindPopup%28popup_943e5b99d68344b3bb1cd0872bb973e7%29%0A%20%20%20%20%20%20%20%20%3B%0A%0A%20%20%20%20%20%20%20%20%0A%20%20%20%20%0A%20%20%20%20%0A%20%20%20%20%20%20%20%20%20%20%20%20var%20marker_7c2d1aef376640869da46f82b6b1d8ca%20%3D%20L.marker%28%0A%20%20%20%20%20%20%20%20%20%20%20%20%20%20%20%20%5B40.695863722724084%2C%20-73.99378225496424%5D%2C%0A%20%20%20%20%20%20%20%20%20%20%20%20%20%20%20%20%7B%7D%0A%20%20%20%20%20%20%20%20%20%20%20%20%29.addTo%28map_7c607eefeb544b35a3eede1967c0cd77%29%3B%0A%20%20%20%20%20%20%20%20%0A%20%20%20%20%0A%20%20%20%20%20%20%20%20var%20popup_eca3b40288554d98a633b16b8597f932%20%3D%20L.popup%28%7B%22maxWidth%22%3A%20%22100%25%22%7D%29%3B%0A%0A%20%20%20%20%20%20%20%20%0A%20%20%20%20%20%20%20%20%20%20%20%20var%20html_51e60b7fb7a546e6b82e77c376db582a%20%3D%20%24%28%60%3Cdiv%20id%3D%22html_51e60b7fb7a546e6b82e77c376db582a%22%20style%3D%22width%3A%20100.0%25%3B%20height%3A%20100.0%25%3B%22%3EBrooklyn%20Heights%2C%20Brooklyn%288.5%29%3C/div%3E%60%29%5B0%5D%3B%0A%20%20%20%20%20%20%20%20%20%20%20%20popup_eca3b40288554d98a633b16b8597f932.setContent%28html_51e60b7fb7a546e6b82e77c376db582a%29%3B%0A%20%20%20%20%20%20%20%20%0A%0A%20%20%20%20%20%20%20%20marker_7c2d1aef376640869da46f82b6b1d8ca.bindPopup%28popup_eca3b40288554d98a633b16b8597f932%29%0A%20%20%20%20%20%20%20%20%3B%0A%0A%20%20%20%20%20%20%20%20%0A%20%20%20%20%0A%20%20%20%20%0A%20%20%20%20%20%20%20%20%20%20%20%20var%20marker_1ffe6b592fb9413dbf63b03912a4e3d0%20%3D%20L.marker%28%0A%20%20%20%20%20%20%20%20%20%20%20%20%20%20%20%20%5B40.69811611017901%2C%20-73.92525797487045%5D%2C%0A%20%20%20%20%20%20%20%20%20%20%20%20%20%20%20%20%7B%7D%0A%20%20%20%20%20%20%20%20%20%20%20%20%29.addTo%28map_7c607eefeb544b35a3eede1967c0cd77%29%3B%0A%20%20%20%20%20%20%20%20%0A%20%20%20%20%0A%20%20%20%20%20%20%20%20var%20popup_7eaf949023cc4c47a6a5ed1b048a4af7%20%3D%20L.popup%28%7B%22maxWidth%22%3A%20%22100%25%22%7D%29%3B%0A%0A%20%20%20%20%20%20%20%20%0A%20%20%20%20%20%20%20%20%20%20%20%20var%20html_a37b324171dc416e86774194a92adb8a%20%3D%20%24%28%60%3Cdiv%20id%3D%22html_a37b324171dc416e86774194a92adb8a%22%20style%3D%22width%3A%20100.0%25%3B%20height%3A%20100.0%25%3B%22%3EBushwick%2C%20Brooklyn%288.25%29%3C/div%3E%60%29%5B0%5D%3B%0A%20%20%20%20%20%20%20%20%20%20%20%20popup_7eaf949023cc4c47a6a5ed1b048a4af7.setContent%28html_a37b324171dc416e86774194a92adb8a%29%3B%0A%20%20%20%20%20%20%20%20%0A%0A%20%20%20%20%20%20%20%20marker_1ffe6b592fb9413dbf63b03912a4e3d0.bindPopup%28popup_7eaf949023cc4c47a6a5ed1b048a4af7%29%0A%20%20%20%20%20%20%20%20%3B%0A%0A%20%20%20%20%20%20%20%20%0A%20%20%20%20%0A%20%20%20%20%0A%20%20%20%20%20%20%20%20%20%20%20%20var%20marker_0d9d0cc0a2fd417e9752b1f3cc84365a%20%3D%20L.marker%28%0A%20%20%20%20%20%20%20%20%20%20%20%20%20%20%20%20%5B40.680540231076485%2C%20-73.99465372828006%5D%2C%0A%20%20%20%20%20%20%20%20%20%20%20%20%20%20%20%20%7B%7D%0A%20%20%20%20%20%20%20%20%20%20%20%20%29.addTo%28map_7c607eefeb544b35a3eede1967c0cd77%29%3B%0A%20%20%20%20%20%20%20%20%0A%20%20%20%20%0A%20%20%20%20%20%20%20%20var%20popup_b39d2364269343fdbf82c2e62cbaf1ba%20%3D%20L.popup%28%7B%22maxWidth%22%3A%20%22100%25%22%7D%29%3B%0A%0A%20%20%20%20%20%20%20%20%0A%20%20%20%20%20%20%20%20%20%20%20%20var%20html_a9fbd4b88a954ec39f85646f5388e15e%20%3D%20%24%28%60%3Cdiv%20id%3D%22html_a9fbd4b88a954ec39f85646f5388e15e%22%20style%3D%22width%3A%20100.0%25%3B%20height%3A%20100.0%25%3B%22%3ECarroll%20Gardens%2C%20Brooklyn%288.45%29%3C/div%3E%60%29%5B0%5D%3B%0A%20%20%20%20%20%20%20%20%20%20%20%20popup_b39d2364269343fdbf82c2e62cbaf1ba.setContent%28html_a9fbd4b88a954ec39f85646f5388e15e%29%3B%0A%20%20%20%20%20%20%20%20%0A%0A%20%20%20%20%20%20%20%20marker_0d9d0cc0a2fd417e9752b1f3cc84365a.bindPopup%28popup_b39d2364269343fdbf82c2e62cbaf1ba%29%0A%20%20%20%20%20%20%20%20%3B%0A%0A%20%20%20%20%20%20%20%20%0A%20%20%20%20%0A%20%20%20%20%0A%20%20%20%20%20%20%20%20%20%20%20%20var%20marker_25e5ca7a03e14fce8100dc243211c083%20%3D%20L.marker%28%0A%20%20%20%20%20%20%20%20%20%20%20%20%20%20%20%20%5B40.81597606742414%2C%20-73.94321112603905%5D%2C%0A%20%20%20%20%20%20%20%20%20%20%20%20%20%20%20%20%7B%7D%0A%20%20%20%20%20%20%20%20%20%20%20%20%29.addTo%28map_7c607eefeb544b35a3eede1967c0cd77%29%3B%0A%20%20%20%20%20%20%20%20%0A%20%20%20%20%0A%20%20%20%20%20%20%20%20var%20popup_a4c44c314d83425e9e23a1cbf0aef0d0%20%3D%20L.popup%28%7B%22maxWidth%22%3A%20%22100%25%22%7D%29%3B%0A%0A%20%20%20%20%20%20%20%20%0A%20%20%20%20%20%20%20%20%20%20%20%20var%20html_f499f892d9ea4c20876d31ed0706d144%20%3D%20%24%28%60%3Cdiv%20id%3D%22html_f499f892d9ea4c20876d31ed0706d144%22%20style%3D%22width%3A%20100.0%25%3B%20height%3A%20100.0%25%3B%22%3ECentral%20Harlem%2C%20Manhattan%288.4%29%3C/div%3E%60%29%5B0%5D%3B%0A%20%20%20%20%20%20%20%20%20%20%20%20popup_a4c44c314d83425e9e23a1cbf0aef0d0.setContent%28html_f499f892d9ea4c20876d31ed0706d144%29%3B%0A%20%20%20%20%20%20%20%20%0A%0A%20%20%20%20%20%20%20%20marker_25e5ca7a03e14fce8100dc243211c083.bindPopup%28popup_a4c44c314d83425e9e23a1cbf0aef0d0%29%0A%20%20%20%20%20%20%20%20%3B%0A%0A%20%20%20%20%20%20%20%20%0A%20%20%20%20%0A%20%20%20%20%0A%20%20%20%20%20%20%20%20%20%20%20%20var%20marker_42028b3558b742a1a23b698ed1514523%20%3D%20L.marker%28%0A%20%20%20%20%20%20%20%20%20%20%20%20%20%20%20%20%5B40.744034706747975%2C%20-74.00311633472813%5D%2C%0A%20%20%20%20%20%20%20%20%20%20%20%20%20%20%20%20%7B%7D%0A%20%20%20%20%20%20%20%20%20%20%20%20%29.addTo%28map_7c607eefeb544b35a3eede1967c0cd77%29%3B%0A%20%20%20%20%20%20%20%20%0A%20%20%20%20%0A%20%20%20%20%20%20%20%20var%20popup_158e19aea4114a34ad5479dc689d20e1%20%3D%20L.popup%28%7B%22maxWidth%22%3A%20%22100%25%22%7D%29%3B%0A%0A%20%20%20%20%20%20%20%20%0A%20%20%20%20%20%20%20%20%20%20%20%20var%20html_9140cb342d1d469a9e626079bdab8a22%20%3D%20%24%28%60%3Cdiv%20id%3D%22html_9140cb342d1d469a9e626079bdab8a22%22%20style%3D%22width%3A%20100.0%25%3B%20height%3A%20100.0%25%3B%22%3EChelsea%2C%20Manhattan%288.799999999999999%29%3C/div%3E%60%29%5B0%5D%3B%0A%20%20%20%20%20%20%20%20%20%20%20%20popup_158e19aea4114a34ad5479dc689d20e1.setContent%28html_9140cb342d1d469a9e626079bdab8a22%29%3B%0A%20%20%20%20%20%20%20%20%0A%0A%20%20%20%20%20%20%20%20marker_42028b3558b742a1a23b698ed1514523.bindPopup%28popup_158e19aea4114a34ad5479dc689d20e1%29%0A%20%20%20%20%20%20%20%20%3B%0A%0A%20%20%20%20%20%20%20%20%0A%20%20%20%20%0A%20%20%20%20%0A%20%20%20%20%20%20%20%20%20%20%20%20var%20marker_6e57b697897f4ee98d2899d730c72e78%20%3D%20L.marker%28%0A%20%20%20%20%20%20%20%20%20%20%20%20%20%20%20%20%5B40.59472602746295%2C%20-74.1895604551969%5D%2C%0A%20%20%20%20%20%20%20%20%20%20%20%20%20%20%20%20%7B%7D%0A%20%20%20%20%20%20%20%20%20%20%20%20%29.addTo%28map_7c607eefeb544b35a3eede1967c0cd77%29%3B%0A%20%20%20%20%20%20%20%20%0A%20%20%20%20%0A%20%20%20%20%20%20%20%20var%20popup_073fb733153c4ae5b946524e39653d54%20%3D%20L.popup%28%7B%22maxWidth%22%3A%20%22100%25%22%7D%29%3B%0A%0A%20%20%20%20%20%20%20%20%0A%20%20%20%20%20%20%20%20%20%20%20%20var%20html_0f133b5e287e4838997f4ca4660a6f9c%20%3D%20%24%28%60%3Cdiv%20id%3D%22html_0f133b5e287e4838997f4ca4660a6f9c%22%20style%3D%22width%3A%20100.0%25%3B%20height%3A%20100.0%25%3B%22%3EChelsea%2C%20Staten%20Island%288.799999999999999%29%3C/div%3E%60%29%5B0%5D%3B%0A%20%20%20%20%20%20%20%20%20%20%20%20popup_073fb733153c4ae5b946524e39653d54.setContent%28html_0f133b5e287e4838997f4ca4660a6f9c%29%3B%0A%20%20%20%20%20%20%20%20%0A%0A%20%20%20%20%20%20%20%20marker_6e57b697897f4ee98d2899d730c72e78.bindPopup%28popup_073fb733153c4ae5b946524e39653d54%29%0A%20%20%20%20%20%20%20%20%3B%0A%0A%20%20%20%20%20%20%20%20%0A%20%20%20%20%0A%20%20%20%20%0A%20%20%20%20%20%20%20%20%20%20%20%20var%20marker_39caa024a58540979dd7aadd4ee94aa7%20%3D%20L.marker%28%0A%20%20%20%20%20%20%20%20%20%20%20%20%20%20%20%20%5B40.71561842231432%2C%20-73.99427936255978%5D%2C%0A%20%20%20%20%20%20%20%20%20%20%20%20%20%20%20%20%7B%7D%0A%20%20%20%20%20%20%20%20%20%20%20%20%29.addTo%28map_7c607eefeb544b35a3eede1967c0cd77%29%3B%0A%20%20%20%20%20%20%20%20%0A%20%20%20%20%0A%20%20%20%20%20%20%20%20var%20popup_9a017b254cfa45888d6b3278ba2b1b65%20%3D%20L.popup%28%7B%22maxWidth%22%3A%20%22100%25%22%7D%29%3B%0A%0A%20%20%20%20%20%20%20%20%0A%20%20%20%20%20%20%20%20%20%20%20%20var%20html_ba3be623b6f04bfba15bd880bc9e45dc%20%3D%20%24%28%60%3Cdiv%20id%3D%22html_ba3be623b6f04bfba15bd880bc9e45dc%22%20style%3D%22width%3A%20100.0%25%3B%20height%3A%20100.0%25%3B%22%3EChinatown%2C%20Manhattan%288.6%29%3C/div%3E%60%29%5B0%5D%3B%0A%20%20%20%20%20%20%20%20%20%20%20%20popup_9a017b254cfa45888d6b3278ba2b1b65.setContent%28html_ba3be623b6f04bfba15bd880bc9e45dc%29%3B%0A%20%20%20%20%20%20%20%20%0A%0A%20%20%20%20%20%20%20%20marker_39caa024a58540979dd7aadd4ee94aa7.bindPopup%28popup_9a017b254cfa45888d6b3278ba2b1b65%29%0A%20%20%20%20%20%20%20%20%3B%0A%0A%20%20%20%20%20%20%20%20%0A%20%20%20%20%0A%20%20%20%20%0A%20%20%20%20%20%20%20%20%20%20%20%20var%20marker_8ec8b8e8a60046458199db0b8040fd22%20%3D%20L.marker%28%0A%20%20%20%20%20%20%20%20%20%20%20%20%20%20%20%20%5B40.75910089146212%2C%20-73.99611936309479%5D%2C%0A%20%20%20%20%20%20%20%20%20%20%20%20%20%20%20%20%7B%7D%0A%20%20%20%20%20%20%20%20%20%20%20%20%29.addTo%28map_7c607eefeb544b35a3eede1967c0cd77%29%3B%0A%20%20%20%20%20%20%20%20%0A%20%20%20%20%0A%20%20%20%20%20%20%20%20var%20popup_a3f2bab039e84d89840ed111c1c28467%20%3D%20L.popup%28%7B%22maxWidth%22%3A%20%22100%25%22%7D%29%3B%0A%0A%20%20%20%20%20%20%20%20%0A%20%20%20%20%20%20%20%20%20%20%20%20var%20html_535e91914d49444a83361b73def7fd79%20%3D%20%24%28%60%3Cdiv%20id%3D%22html_535e91914d49444a83361b73def7fd79%22%20style%3D%22width%3A%20100.0%25%3B%20height%3A%20100.0%25%3B%22%3EClinton%2C%20Manhattan%288.149999999999999%29%3C/div%3E%60%29%5B0%5D%3B%0A%20%20%20%20%20%20%20%20%20%20%20%20popup_a3f2bab039e84d89840ed111c1c28467.setContent%28html_535e91914d49444a83361b73def7fd79%29%3B%0A%20%20%20%20%20%20%20%20%0A%0A%20%20%20%20%20%20%20%20marker_8ec8b8e8a60046458199db0b8040fd22.bindPopup%28popup_a3f2bab039e84d89840ed111c1c28467%29%0A%20%20%20%20%20%20%20%20%3B%0A%0A%20%20%20%20%20%20%20%20%0A%20%20%20%20%0A%20%20%20%20%0A%20%20%20%20%20%20%20%20%20%20%20%20var%20marker_0d151ee3a16848c494ba453ff1b0214d%20%3D%20L.marker%28%0A%20%20%20%20%20%20%20%20%20%20%20%20%20%20%20%20%5B40.693229421881504%2C%20-73.96784306216367%5D%2C%0A%20%20%20%20%20%20%20%20%20%20%20%20%20%20%20%20%7B%7D%0A%20%20%20%20%20%20%20%20%20%20%20%20%29.addTo%28map_7c607eefeb544b35a3eede1967c0cd77%29%3B%0A%20%20%20%20%20%20%20%20%0A%20%20%20%20%0A%20%20%20%20%20%20%20%20var%20popup_32f7bb7f51b946d3ac7aeab38f7d03da%20%3D%20L.popup%28%7B%22maxWidth%22%3A%20%22100%25%22%7D%29%3B%0A%0A%20%20%20%20%20%20%20%20%0A%20%20%20%20%20%20%20%20%20%20%20%20var%20html_aabaa790127a4b4d89c7dfa04b30f700%20%3D%20%24%28%60%3Cdiv%20id%3D%22html_aabaa790127a4b4d89c7dfa04b30f700%22%20style%3D%22width%3A%20100.0%25%3B%20height%3A%20100.0%25%3B%22%3EClinton%20Hill%2C%20Brooklyn%288.6%29%3C/div%3E%60%29%5B0%5D%3B%0A%20%20%20%20%20%20%20%20%20%20%20%20popup_32f7bb7f51b946d3ac7aeab38f7d03da.setContent%28html_aabaa790127a4b4d89c7dfa04b30f700%29%3B%0A%20%20%20%20%20%20%20%20%0A%0A%20%20%20%20%20%20%20%20marker_0d151ee3a16848c494ba453ff1b0214d.bindPopup%28popup_32f7bb7f51b946d3ac7aeab38f7d03da%29%0A%20%20%20%20%20%20%20%20%3B%0A%0A%20%20%20%20%20%20%20%20%0A%20%20%20%20%0A%20%20%20%20%0A%20%20%20%20%20%20%20%20%20%20%20%20var%20marker_6eeef4790d4b4ebdba8512c6138b9551%20%3D%20L.marker%28%0A%20%20%20%20%20%20%20%20%20%20%20%20%20%20%20%20%5B40.687919722485574%2C%20-73.99856139218463%5D%2C%0A%20%20%20%20%20%20%20%20%20%20%20%20%20%20%20%20%7B%7D%0A%20%20%20%20%20%20%20%20%20%20%20%20%29.addTo%28map_7c607eefeb544b35a3eede1967c0cd77%29%3B%0A%20%20%20%20%20%20%20%20%0A%20%20%20%20%0A%20%20%20%20%20%20%20%20var%20popup_067a5bf121d64d30aa2b74a353653531%20%3D%20L.popup%28%7B%22maxWidth%22%3A%20%22100%25%22%7D%29%3B%0A%0A%20%20%20%20%20%20%20%20%0A%20%20%20%20%20%20%20%20%20%20%20%20var%20html_60dcc9fd5fc64e1d807a022f29c0d9dd%20%3D%20%24%28%60%3Cdiv%20id%3D%22html_60dcc9fd5fc64e1d807a022f29c0d9dd%22%20style%3D%22width%3A%20100.0%25%3B%20height%3A%20100.0%25%3B%22%3ECobble%20Hill%2C%20Brooklyn%288.5%29%3C/div%3E%60%29%5B0%5D%3B%0A%20%20%20%20%20%20%20%20%20%20%20%20popup_067a5bf121d64d30aa2b74a353653531.setContent%28html_60dcc9fd5fc64e1d807a022f29c0d9dd%29%3B%0A%20%20%20%20%20%20%20%20%0A%0A%20%20%20%20%20%20%20%20marker_6eeef4790d4b4ebdba8512c6138b9551.bindPopup%28popup_067a5bf121d64d30aa2b74a353653531%29%0A%20%20%20%20%20%20%20%20%3B%0A%0A%20%20%20%20%20%20%20%20%0A%20%20%20%20%0A%20%20%20%20%0A%20%20%20%20%20%20%20%20%20%20%20%20var%20marker_5ab3004d8ca244daacfa94ca1b9ff2ac%20%3D%20L.marker%28%0A%20%20%20%20%20%20%20%20%20%20%20%20%20%20%20%20%5B40.69084402109802%2C%20-73.98346337431099%5D%2C%0A%20%20%20%20%20%20%20%20%20%20%20%20%20%20%20%20%7B%7D%0A%20%20%20%20%20%20%20%20%20%20%20%20%29.addTo%28map_7c607eefeb544b35a3eede1967c0cd77%29%3B%0A%20%20%20%20%20%20%20%20%0A%20%20%20%20%0A%20%20%20%20%20%20%20%20var%20popup_14fc9c18d2064a55a11b391284d4fbb8%20%3D%20L.popup%28%7B%22maxWidth%22%3A%20%22100%25%22%7D%29%3B%0A%0A%20%20%20%20%20%20%20%20%0A%20%20%20%20%20%20%20%20%20%20%20%20var%20html_6fa401d6856949cba9624f9a8b3a732d%20%3D%20%24%28%60%3Cdiv%20id%3D%22html_6fa401d6856949cba9624f9a8b3a732d%22%20style%3D%22width%3A%20100.0%25%3B%20height%3A%20100.0%25%3B%22%3EDowntown%2C%20Brooklyn%288.466666666666667%29%3C/div%3E%60%29%5B0%5D%3B%0A%20%20%20%20%20%20%20%20%20%20%20%20popup_14fc9c18d2064a55a11b391284d4fbb8.setContent%28html_6fa401d6856949cba9624f9a8b3a732d%29%3B%0A%20%20%20%20%20%20%20%20%0A%0A%20%20%20%20%20%20%20%20marker_5ab3004d8ca244daacfa94ca1b9ff2ac.bindPopup%28popup_14fc9c18d2064a55a11b391284d4fbb8%29%0A%20%20%20%20%20%20%20%20%3B%0A%0A%20%20%20%20%20%20%20%20%0A%20%20%20%20%0A%20%20%20%20%0A%20%20%20%20%20%20%20%20%20%20%20%20var%20marker_be14e7d30e5645678a40bbe6094e07ae%20%3D%20L.marker%28%0A%20%20%20%20%20%20%20%20%20%20%20%20%20%20%20%20%5B40.79224946663033%2C%20-73.94418223148524%5D%2C%0A%20%20%20%20%20%20%20%20%20%20%20%20%20%20%20%20%7B%7D%0A%20%20%20%20%20%20%20%20%20%20%20%20%29.addTo%28map_7c607eefeb544b35a3eede1967c0cd77%29%3B%0A%20%20%20%20%20%20%20%20%0A%20%20%20%20%0A%20%20%20%20%20%20%20%20var%20popup_49d681bdc0844b06a2cdebe628aa33cb%20%3D%20L.popup%28%7B%22maxWidth%22%3A%20%22100%25%22%7D%29%3B%0A%0A%20%20%20%20%20%20%20%20%0A%20%20%20%20%20%20%20%20%20%20%20%20var%20html_a3e1dbad38924a4d9805b17c0373eb1f%20%3D%20%24%28%60%3Cdiv%20id%3D%22html_a3e1dbad38924a4d9805b17c0373eb1f%22%20style%3D%22width%3A%20100.0%25%3B%20height%3A%20100.0%25%3B%22%3EEast%20Harlem%2C%20Manhattan%288.9%29%3C/div%3E%60%29%5B0%5D%3B%0A%20%20%20%20%20%20%20%20%20%20%20%20popup_49d681bdc0844b06a2cdebe628aa33cb.setContent%28html_a3e1dbad38924a4d9805b17c0373eb1f%29%3B%0A%20%20%20%20%20%20%20%20%0A%0A%20%20%20%20%20%20%20%20marker_be14e7d30e5645678a40bbe6094e07ae.bindPopup%28popup_49d681bdc0844b06a2cdebe628aa33cb%29%0A%20%20%20%20%20%20%20%20%3B%0A%0A%20%20%20%20%20%20%20%20%0A%20%20%20%20%0A%20%20%20%20%0A%20%20%20%20%20%20%20%20%20%20%20%20var%20marker_334028f6b30d4a31a466efba5900b6d6%20%3D%20L.marker%28%0A%20%20%20%20%20%20%20%20%20%20%20%20%20%20%20%20%5B40.68852726018977%2C%20-73.97290574369092%5D%2C%0A%20%20%20%20%20%20%20%20%20%20%20%20%20%20%20%20%7B%7D%0A%20%20%20%20%20%20%20%20%20%20%20%20%29.addTo%28map_7c607eefeb544b35a3eede1967c0cd77%29%3B%0A%20%20%20%20%20%20%20%20%0A%20%20%20%20%0A%20%20%20%20%20%20%20%20var%20popup_52e51f7c850e4f349468d993c5e8f2e8%20%3D%20L.popup%28%7B%22maxWidth%22%3A%20%22100%25%22%7D%29%3B%0A%0A%20%20%20%20%20%20%20%20%0A%20%20%20%20%20%20%20%20%20%20%20%20var%20html_13a5010a2cda419ca649141fcb0baba4%20%3D%20%24%28%60%3Cdiv%20id%3D%22html_13a5010a2cda419ca649141fcb0baba4%22%20style%3D%22width%3A%20100.0%25%3B%20height%3A%20100.0%25%3B%22%3EFort%20Greene%2C%20Brooklyn%288.6%29%3C/div%3E%60%29%5B0%5D%3B%0A%20%20%20%20%20%20%20%20%20%20%20%20popup_52e51f7c850e4f349468d993c5e8f2e8.setContent%28html_13a5010a2cda419ca649141fcb0baba4%29%3B%0A%20%20%20%20%20%20%20%20%0A%0A%20%20%20%20%20%20%20%20marker_334028f6b30d4a31a466efba5900b6d6.bindPopup%28popup_52e51f7c850e4f349468d993c5e8f2e8%29%0A%20%20%20%20%20%20%20%20%3B%0A%0A%20%20%20%20%20%20%20%20%0A%20%20%20%20%0A%20%20%20%20%0A%20%20%20%20%20%20%20%20%20%20%20%20var%20marker_10e67af5cd0444ea928550618ef0fe7c%20%3D%20L.marker%28%0A%20%20%20%20%20%20%20%20%20%20%20%20%20%20%20%20%5B40.7302009848647%2C%20-73.95424093127393%5D%2C%0A%20%20%20%20%20%20%20%20%20%20%20%20%20%20%20%20%7B%7D%0A%20%20%20%20%20%20%20%20%20%20%20%20%29.addTo%28map_7c607eefeb544b35a3eede1967c0cd77%29%3B%0A%20%20%20%20%20%20%20%20%0A%20%20%20%20%0A%20%20%20%20%20%20%20%20var%20popup_7d86deabcee74528ac4f37a76e973f5a%20%3D%20L.popup%28%7B%22maxWidth%22%3A%20%22100%25%22%7D%29%3B%0A%0A%20%20%20%20%20%20%20%20%0A%20%20%20%20%20%20%20%20%20%20%20%20var%20html_45bb62920be54bb6b7d32bde93f3f420%20%3D%20%24%28%60%3Cdiv%20id%3D%22html_45bb62920be54bb6b7d32bde93f3f420%22%20style%3D%22width%3A%20100.0%25%3B%20height%3A%20100.0%25%3B%22%3EGreenpoint%2C%20Brooklyn%288.433333333333334%29%3C/div%3E%60%29%5B0%5D%3B%0A%20%20%20%20%20%20%20%20%20%20%20%20popup_7d86deabcee74528ac4f37a76e973f5a.setContent%28html_45bb62920be54bb6b7d32bde93f3f420%29%3B%0A%20%20%20%20%20%20%20%20%0A%0A%20%20%20%20%20%20%20%20marker_10e67af5cd0444ea928550618ef0fe7c.bindPopup%28popup_7d86deabcee74528ac4f37a76e973f5a%29%0A%20%20%20%20%20%20%20%20%3B%0A%0A%20%20%20%20%20%20%20%20%0A%20%20%20%20%0A%20%20%20%20%0A%20%20%20%20%20%20%20%20%20%20%20%20var%20marker_06cf4d310a394051beb388accd56766f%20%3D%20L.marker%28%0A%20%20%20%20%20%20%20%20%20%20%20%20%20%20%20%20%5B40.72693288536128%2C%20-73.99991402945902%5D%2C%0A%20%20%20%20%20%20%20%20%20%20%20%20%20%20%20%20%7B%7D%0A%20%20%20%20%20%20%20%20%20%20%20%20%29.addTo%28map_7c607eefeb544b35a3eede1967c0cd77%29%3B%0A%20%20%20%20%20%20%20%20%0A%20%20%20%20%0A%20%20%20%20%20%20%20%20var%20popup_f028c53e1c9a42ea99c24d9a9f226f09%20%3D%20L.popup%28%7B%22maxWidth%22%3A%20%22100%25%22%7D%29%3B%0A%0A%20%20%20%20%20%20%20%20%0A%20%20%20%20%20%20%20%20%20%20%20%20var%20html_3e805a2cf4d248d9a1a20c9c5dfcb291%20%3D%20%24%28%60%3Cdiv%20id%3D%22html_3e805a2cf4d248d9a1a20c9c5dfcb291%22%20style%3D%22width%3A%20100.0%25%3B%20height%3A%20100.0%25%3B%22%3EGreenwich%20Village%2C%20Manhattan%289.0%29%3C/div%3E%60%29%5B0%5D%3B%0A%20%20%20%20%20%20%20%20%20%20%20%20popup_f028c53e1c9a42ea99c24d9a9f226f09.setContent%28html_3e805a2cf4d248d9a1a20c9c5dfcb291%29%3B%0A%20%20%20%20%20%20%20%20%0A%0A%20%20%20%20%20%20%20%20marker_06cf4d310a394051beb388accd56766f.bindPopup%28popup_f028c53e1c9a42ea99c24d9a9f226f09%29%0A%20%20%20%20%20%20%20%20%3B%0A%0A%20%20%20%20%20%20%20%20%0A%20%20%20%20%0A%20%20%20%20%0A%20%20%20%20%20%20%20%20%20%20%20%20var%20marker_1d5101baae2a40ac9c8ade5ecb468e85%20%3D%20L.marker%28%0A%20%20%20%20%20%20%20%20%20%20%20%20%20%20%20%20%5B40.76811265828733%2C%20-73.9588596881376%5D%2C%0A%20%20%20%20%20%20%20%20%20%20%20%20%20%20%20%20%7B%7D%0A%20%20%20%20%20%20%20%20%20%20%20%20%29.addTo%28map_7c607eefeb544b35a3eede1967c0cd77%29%3B%0A%20%20%20%20%20%20%20%20%0A%20%20%20%20%0A%20%20%20%20%20%20%20%20var%20popup_efb9be2a7d9d457b99cbdd1f32f6987d%20%3D%20L.popup%28%7B%22maxWidth%22%3A%20%22100%25%22%7D%29%3B%0A%0A%20%20%20%20%20%20%20%20%0A%20%20%20%20%20%20%20%20%20%20%20%20var%20html_ed0cf94a6b58497dbb6acaf334e45f74%20%3D%20%24%28%60%3Cdiv%20id%3D%22html_ed0cf94a6b58497dbb6acaf334e45f74%22%20style%3D%22width%3A%20100.0%25%3B%20height%3A%20100.0%25%3B%22%3ELenox%20Hill%2C%20Manhattan%288.633333333333333%29%3C/div%3E%60%29%5B0%5D%3B%0A%20%20%20%20%20%20%20%20%20%20%20%20popup_efb9be2a7d9d457b99cbdd1f32f6987d.setContent%28html_ed0cf94a6b58497dbb6acaf334e45f74%29%3B%0A%20%20%20%20%20%20%20%20%0A%0A%20%20%20%20%20%20%20%20marker_1d5101baae2a40ac9c8ade5ecb468e85.bindPopup%28popup_efb9be2a7d9d457b99cbdd1f32f6987d%29%0A%20%20%20%20%20%20%20%20%3B%0A%0A%20%20%20%20%20%20%20%20%0A%20%20%20%20%0A%20%20%20%20%0A%20%20%20%20%20%20%20%20%20%20%20%20var%20marker_81ae171438be4d0aadd5e8aafac02dba%20%3D%20L.marker%28%0A%20%20%20%20%20%20%20%20%20%20%20%20%20%20%20%20%5B40.77352888942166%2C%20-73.98533777001262%5D%2C%0A%20%20%20%20%20%20%20%20%20%20%20%20%20%20%20%20%7B%7D%0A%20%20%20%20%20%20%20%20%20%20%20%20%29.addTo%28map_7c607eefeb544b35a3eede1967c0cd77%29%3B%0A%20%20%20%20%20%20%20%20%0A%20%20%20%20%0A%20%20%20%20%20%20%20%20var%20popup_8425c1cf4dce49c7a2b052e6436a148f%20%3D%20L.popup%28%7B%22maxWidth%22%3A%20%22100%25%22%7D%29%3B%0A%0A%20%20%20%20%20%20%20%20%0A%20%20%20%20%20%20%20%20%20%20%20%20var%20html_32b37ea010f648e9a8228ee53a96506f%20%3D%20%24%28%60%3Cdiv%20id%3D%22html_32b37ea010f648e9a8228ee53a96506f%22%20style%3D%22width%3A%20100.0%25%3B%20height%3A%20100.0%25%3B%22%3ELincoln%20Square%2C%20Manhattan%288.62%29%3C/div%3E%60%29%5B0%5D%3B%0A%20%20%20%20%20%20%20%20%20%20%20%20popup_8425c1cf4dce49c7a2b052e6436a148f.setContent%28html_32b37ea010f648e9a8228ee53a96506f%29%3B%0A%20%20%20%20%20%20%20%20%0A%0A%20%20%20%20%20%20%20%20marker_81ae171438be4d0aadd5e8aafac02dba.bindPopup%28popup_8425c1cf4dce49c7a2b052e6436a148f%29%0A%20%20%20%20%20%20%20%20%3B%0A%0A%20%20%20%20%20%20%20%20%0A%20%20%20%20%0A%20%20%20%20%0A%20%20%20%20%20%20%20%20%20%20%20%20var%20marker_f5ddc8f2a361439e94353aeca3be601f%20%3D%20L.marker%28%0A%20%20%20%20%20%20%20%20%20%20%20%20%20%20%20%20%5B40.71780674892765%2C%20-73.98089031999291%5D%2C%0A%20%20%20%20%20%20%20%20%20%20%20%20%20%20%20%20%7B%7D%0A%20%20%20%20%20%20%20%20%20%20%20%20%29.addTo%28map_7c607eefeb544b35a3eede1967c0cd77%29%3B%0A%20%20%20%20%20%20%20%20%0A%20%20%20%20%0A%20%20%20%20%20%20%20%20var%20popup_582eb1dba8ff45b5827fb4936671711e%20%3D%20L.popup%28%7B%22maxWidth%22%3A%20%22100%25%22%7D%29%3B%0A%0A%20%20%20%20%20%20%20%20%0A%20%20%20%20%20%20%20%20%20%20%20%20var%20html_662ae16dda654d899231ab338a05c351%20%3D%20%24%28%60%3Cdiv%20id%3D%22html_662ae16dda654d899231ab338a05c351%22%20style%3D%22width%3A%20100.0%25%3B%20height%3A%20100.0%25%3B%22%3ELower%20East%20Side%2C%20Manhattan%288.85%29%3C/div%3E%60%29%5B0%5D%3B%0A%20%20%20%20%20%20%20%20%20%20%20%20popup_582eb1dba8ff45b5827fb4936671711e.setContent%28html_662ae16dda654d899231ab338a05c351%29%3B%0A%20%20%20%20%20%20%20%20%0A%0A%20%20%20%20%20%20%20%20marker_f5ddc8f2a361439e94353aeca3be601f.bindPopup%28popup_582eb1dba8ff45b5827fb4936671711e%29%0A%20%20%20%20%20%20%20%20%3B%0A%0A%20%20%20%20%20%20%20%20%0A%20%20%20%20%0A%20%20%20%20%0A%20%20%20%20%20%20%20%20%20%20%20%20var%20marker_47325405547e43fca44476fa1e677d66%20%3D%20L.marker%28%0A%20%20%20%20%20%20%20%20%20%20%20%20%20%20%20%20%5B40.8169344294978%2C%20-73.9573853935188%5D%2C%0A%20%20%20%20%20%20%20%20%20%20%20%20%20%20%20%20%7B%7D%0A%20%20%20%20%20%20%20%20%20%20%20%20%29.addTo%28map_7c607eefeb544b35a3eede1967c0cd77%29%3B%0A%20%20%20%20%20%20%20%20%0A%20%20%20%20%0A%20%20%20%20%20%20%20%20var%20popup_30f998bf7e8349c8b7efb654163bf3f6%20%3D%20L.popup%28%7B%22maxWidth%22%3A%20%22100%25%22%7D%29%3B%0A%0A%20%20%20%20%20%20%20%20%0A%20%20%20%20%20%20%20%20%20%20%20%20var%20html_707493fea82f49e68497f5c2ee6653db%20%3D%20%24%28%60%3Cdiv%20id%3D%22html_707493fea82f49e68497f5c2ee6653db%22%20style%3D%22width%3A%20100.0%25%3B%20height%3A%20100.0%25%3B%22%3EManhattanville%2C%20Manhattan%288.6%29%3C/div%3E%60%29%5B0%5D%3B%0A%20%20%20%20%20%20%20%20%20%20%20%20popup_30f998bf7e8349c8b7efb654163bf3f6.setContent%28html_707493fea82f49e68497f5c2ee6653db%29%3B%0A%20%20%20%20%20%20%20%20%0A%0A%20%20%20%20%20%20%20%20marker_47325405547e43fca44476fa1e677d66.bindPopup%28popup_30f998bf7e8349c8b7efb654163bf3f6%29%0A%20%20%20%20%20%20%20%20%3B%0A%0A%20%20%20%20%20%20%20%20%0A%20%20%20%20%0A%20%20%20%20%0A%20%20%20%20%20%20%20%20%20%20%20%20var%20marker_be6255fcff9042e1a461dfa245244276%20%3D%20L.marker%28%0A%20%20%20%20%20%20%20%20%20%20%20%20%20%20%20%20%5B40.75469110270623%2C%20-73.98166882730304%5D%2C%0A%20%20%20%20%20%20%20%20%20%20%20%20%20%20%20%20%7B%7D%0A%20%20%20%20%20%20%20%20%20%20%20%20%29.addTo%28map_7c607eefeb544b35a3eede1967c0cd77%29%3B%0A%20%20%20%20%20%20%20%20%0A%20%20%20%20%0A%20%20%20%20%20%20%20%20var%20popup_7378f442d2b04c51b2547d54ccd066b1%20%3D%20L.popup%28%7B%22maxWidth%22%3A%20%22100%25%22%7D%29%3B%0A%0A%20%20%20%20%20%20%20%20%0A%20%20%20%20%20%20%20%20%20%20%20%20var%20html_45ee90576df74626bd47a82883211f6c%20%3D%20%24%28%60%3Cdiv%20id%3D%22html_45ee90576df74626bd47a82883211f6c%22%20style%3D%22width%3A%20100.0%25%3B%20height%3A%20100.0%25%3B%22%3EMidtown%2C%20Manhattan%288.9%29%3C/div%3E%60%29%5B0%5D%3B%0A%20%20%20%20%20%20%20%20%20%20%20%20popup_7378f442d2b04c51b2547d54ccd066b1.setContent%28html_45ee90576df74626bd47a82883211f6c%29%3B%0A%20%20%20%20%20%20%20%20%0A%0A%20%20%20%20%20%20%20%20marker_be6255fcff9042e1a461dfa245244276.bindPopup%28popup_7378f442d2b04c51b2547d54ccd066b1%29%0A%20%20%20%20%20%20%20%20%3B%0A%0A%20%20%20%20%20%20%20%20%0A%20%20%20%20%0A%20%20%20%20%0A%20%20%20%20%20%20%20%20%20%20%20%20var%20marker_289c53eb0ce84be8b8be8cf4bf054659%20%3D%20L.marker%28%0A%20%20%20%20%20%20%20%20%20%20%20%20%20%20%20%20%5B40.748303077252174%2C%20-73.97833207924127%5D%2C%0A%20%20%20%20%20%20%20%20%20%20%20%20%20%20%20%20%7B%7D%0A%20%20%20%20%20%20%20%20%20%20%20%20%29.addTo%28map_7c607eefeb544b35a3eede1967c0cd77%29%3B%0A%20%20%20%20%20%20%20%20%0A%20%20%20%20%0A%20%20%20%20%20%20%20%20var%20popup_f432ce1135ac4576ae1751f0287ae5b5%20%3D%20L.popup%28%7B%22maxWidth%22%3A%20%22100%25%22%7D%29%3B%0A%0A%20%20%20%20%20%20%20%20%0A%20%20%20%20%20%20%20%20%20%20%20%20var%20html_cd24a62f0e96411e859550158b5e015b%20%3D%20%24%28%60%3Cdiv%20id%3D%22html_cd24a62f0e96411e859550158b5e015b%22%20style%3D%22width%3A%20100.0%25%3B%20height%3A%20100.0%25%3B%22%3EMurray%20Hill%2C%20Manhattan%288.5%29%3C/div%3E%60%29%5B0%5D%3B%0A%20%20%20%20%20%20%20%20%20%20%20%20popup_f432ce1135ac4576ae1751f0287ae5b5.setContent%28html_cd24a62f0e96411e859550158b5e015b%29%3B%0A%20%20%20%20%20%20%20%20%0A%0A%20%20%20%20%20%20%20%20marker_289c53eb0ce84be8b8be8cf4bf054659.bindPopup%28popup_f432ce1135ac4576ae1751f0287ae5b5%29%0A%20%20%20%20%20%20%20%20%3B%0A%0A%20%20%20%20%20%20%20%20%0A%20%20%20%20%0A%20%20%20%20%0A%20%20%20%20%20%20%20%20%20%20%20%20var%20marker_f48ba05bfce84255b285730c370f5d7d%20%3D%20L.marker%28%0A%20%20%20%20%20%20%20%20%20%20%20%20%20%20%20%20%5B40.764126122614066%2C%20-73.81276269135866%5D%2C%0A%20%20%20%20%20%20%20%20%20%20%20%20%20%20%20%20%7B%7D%0A%20%20%20%20%20%20%20%20%20%20%20%20%29.addTo%28map_7c607eefeb544b35a3eede1967c0cd77%29%3B%0A%20%20%20%20%20%20%20%20%0A%20%20%20%20%0A%20%20%20%20%20%20%20%20var%20popup_4b3bfd1ca6c54a1184cf4c714b9f4fd3%20%3D%20L.popup%28%7B%22maxWidth%22%3A%20%22100%25%22%7D%29%3B%0A%0A%20%20%20%20%20%20%20%20%0A%20%20%20%20%20%20%20%20%20%20%20%20var%20html_9b3e46e914084bc3a59432cba99406b0%20%3D%20%24%28%60%3Cdiv%20id%3D%22html_9b3e46e914084bc3a59432cba99406b0%22%20style%3D%22width%3A%20100.0%25%3B%20height%3A%20100.0%25%3B%22%3EMurray%20Hill%2C%20Queens%288.5%29%3C/div%3E%60%29%5B0%5D%3B%0A%20%20%20%20%20%20%20%20%20%20%20%20popup_4b3bfd1ca6c54a1184cf4c714b9f4fd3.setContent%28html_9b3e46e914084bc3a59432cba99406b0%29%3B%0A%20%20%20%20%20%20%20%20%0A%0A%20%20%20%20%20%20%20%20marker_f48ba05bfce84255b285730c370f5d7d.bindPopup%28popup_4b3bfd1ca6c54a1184cf4c714b9f4fd3%29%0A%20%20%20%20%20%20%20%20%3B%0A%0A%20%20%20%20%20%20%20%20%0A%20%20%20%20%0A%20%20%20%20%0A%20%20%20%20%20%20%20%20%20%20%20%20var%20marker_6bbadf3a216c4571b7ddaaf2765de15c%20%3D%20L.marker%28%0A%20%20%20%20%20%20%20%20%20%20%20%20%20%20%20%20%5B40.714822906532014%2C%20-73.95880857587582%5D%2C%0A%20%20%20%20%20%20%20%20%20%20%20%20%20%20%20%20%7B%7D%0A%20%20%20%20%20%20%20%20%20%20%20%20%29.addTo%28map_7c607eefeb544b35a3eede1967c0cd77%29%3B%0A%20%20%20%20%20%20%20%20%0A%20%20%20%20%0A%20%20%20%20%20%20%20%20var%20popup_8afb72b8f3df4502a1ed282e1e0d8460%20%3D%20L.popup%28%7B%22maxWidth%22%3A%20%22100%25%22%7D%29%3B%0A%0A%20%20%20%20%20%20%20%20%0A%20%20%20%20%20%20%20%20%20%20%20%20var%20html_2c47b2ecc57342898812e4451bfe80de%20%3D%20%24%28%60%3Cdiv%20id%3D%22html_2c47b2ecc57342898812e4451bfe80de%22%20style%3D%22width%3A%20100.0%25%3B%20height%3A%20100.0%25%3B%22%3ENorth%20Side%2C%20Brooklyn%288.5%29%3C/div%3E%60%29%5B0%5D%3B%0A%20%20%20%20%20%20%20%20%20%20%20%20popup_8afb72b8f3df4502a1ed282e1e0d8460.setContent%28html_2c47b2ecc57342898812e4451bfe80de%29%3B%0A%20%20%20%20%20%20%20%20%0A%0A%20%20%20%20%20%20%20%20marker_6bbadf3a216c4571b7ddaaf2765de15c.bindPopup%28popup_8afb72b8f3df4502a1ed282e1e0d8460%29%0A%20%20%20%20%20%20%20%20%3B%0A%0A%20%20%20%20%20%20%20%20%0A%20%20%20%20%0A%20%20%20%20%0A%20%20%20%20%20%20%20%20%20%20%20%20var%20marker_edefeb11b58e405894cdb9ac6e15b245%20%3D%20L.marker%28%0A%20%20%20%20%20%20%20%20%20%20%20%20%20%20%20%20%5B40.76215960576283%2C%20-73.94916769227953%5D%2C%0A%20%20%20%20%20%20%20%20%20%20%20%20%20%20%20%20%7B%7D%0A%20%20%20%20%20%20%20%20%20%20%20%20%29.addTo%28map_7c607eefeb544b35a3eede1967c0cd77%29%3B%0A%20%20%20%20%20%20%20%20%0A%20%20%20%20%0A%20%20%20%20%20%20%20%20var%20popup_29337abb5dcd481b85af2931e9bca7ad%20%3D%20L.popup%28%7B%22maxWidth%22%3A%20%22100%25%22%7D%29%3B%0A%0A%20%20%20%20%20%20%20%20%0A%20%20%20%20%20%20%20%20%20%20%20%20var%20html_ebdc0f8abd804833b98ccc966948e737%20%3D%20%24%28%60%3Cdiv%20id%3D%22html_ebdc0f8abd804833b98ccc966948e737%22%20style%3D%22width%3A%20100.0%25%3B%20height%3A%20100.0%25%3B%22%3ERoosevelt%20Island%2C%20Manhattan%288.5%29%3C/div%3E%60%29%5B0%5D%3B%0A%20%20%20%20%20%20%20%20%20%20%20%20popup_29337abb5dcd481b85af2931e9bca7ad.setContent%28html_ebdc0f8abd804833b98ccc966948e737%29%3B%0A%20%20%20%20%20%20%20%20%0A%0A%20%20%20%20%20%20%20%20marker_edefeb11b58e405894cdb9ac6e15b245.bindPopup%28popup_29337abb5dcd481b85af2931e9bca7ad%29%0A%20%20%20%20%20%20%20%20%3B%0A%0A%20%20%20%20%20%20%20%20%0A%20%20%20%20%0A%20%20%20%20%0A%20%20%20%20%20%20%20%20%20%20%20%20var%20marker_55b27a6b2d5c42f8abc10736bf15ecbe%20%3D%20L.marker%28%0A%20%20%20%20%20%20%20%20%20%20%20%20%20%20%20%20%5B40.775638573301805%2C%20-73.96050763135%5D%2C%0A%20%20%20%20%20%20%20%20%20%20%20%20%20%20%20%20%7B%7D%0A%20%20%20%20%20%20%20%20%20%20%20%20%29.addTo%28map_7c607eefeb544b35a3eede1967c0cd77%29%3B%0A%20%20%20%20%20%20%20%20%0A%20%20%20%20%0A%20%20%20%20%20%20%20%20var%20popup_2a13c9ca85ad43698b535251c5737776%20%3D%20L.popup%28%7B%22maxWidth%22%3A%20%22100%25%22%7D%29%3B%0A%0A%20%20%20%20%20%20%20%20%0A%20%20%20%20%20%20%20%20%20%20%20%20var%20html_61d891d636474887a46083ae2d555cad%20%3D%20%24%28%60%3Cdiv%20id%3D%22html_61d891d636474887a46083ae2d555cad%22%20style%3D%22width%3A%20100.0%25%3B%20height%3A%20100.0%25%3B%22%3EUpper%20East%20Side%2C%20Manhattan%288.3%29%3C/div%3E%60%29%5B0%5D%3B%0A%20%20%20%20%20%20%20%20%20%20%20%20popup_2a13c9ca85ad43698b535251c5737776.setContent%28html_61d891d636474887a46083ae2d555cad%29%3B%0A%20%20%20%20%20%20%20%20%0A%0A%20%20%20%20%20%20%20%20marker_55b27a6b2d5c42f8abc10736bf15ecbe.bindPopup%28popup_2a13c9ca85ad43698b535251c5737776%29%0A%20%20%20%20%20%20%20%20%3B%0A%0A%20%20%20%20%20%20%20%20%0A%20%20%20%20%0A%20%20%20%20%0A%20%20%20%20%20%20%20%20%20%20%20%20var%20marker_0b693c90ca824e55ba3b8565ace30f7c%20%3D%20L.marker%28%0A%20%20%20%20%20%20%20%20%20%20%20%20%20%20%20%20%5B40.65694583575104%2C%20-73.98007340430172%5D%2C%0A%20%20%20%20%20%20%20%20%20%20%20%20%20%20%20%20%7B%7D%0A%20%20%20%20%20%20%20%20%20%20%20%20%29.addTo%28map_7c607eefeb544b35a3eede1967c0cd77%29%3B%0A%20%20%20%20%20%20%20%20%0A%20%20%20%20%0A%20%20%20%20%20%20%20%20var%20popup_790da9160a174f87898d23f9be20ba2d%20%3D%20L.popup%28%7B%22maxWidth%22%3A%20%22100%25%22%7D%29%3B%0A%0A%20%20%20%20%20%20%20%20%0A%20%20%20%20%20%20%20%20%20%20%20%20var%20html_99b49580529742dfab630ad212fb86a4%20%3D%20%24%28%60%3Cdiv%20id%3D%22html_99b49580529742dfab630ad212fb86a4%22%20style%3D%22width%3A%20100.0%25%3B%20height%3A%20100.0%25%3B%22%3EWindsor%20Terrace%2C%20Brooklyn%288.8%29%3C/div%3E%60%29%5B0%5D%3B%0A%20%20%20%20%20%20%20%20%20%20%20%20popup_790da9160a174f87898d23f9be20ba2d.setContent%28html_99b49580529742dfab630ad212fb86a4%29%3B%0A%20%20%20%20%20%20%20%20%0A%0A%20%20%20%20%20%20%20%20marker_0b693c90ca824e55ba3b8565ace30f7c.bindPopup%28popup_790da9160a174f87898d23f9be20ba2d%29%0A%20%20%20%20%20%20%20%20%3B%0A%0A%20%20%20%20%20%20%20%20%0A%20%20%20%20%0A%20%20%20%20%0A%20%20%20%20%20%20%20%20%20%20%20%20var%20marker_cf66c750b92e42a88e5bcc2464196abe%20%3D%20L.marker%28%0A%20%20%20%20%20%20%20%20%20%20%20%20%20%20%20%20%5B40.775929849884875%2C%20-73.94711784471826%5D%2C%0A%20%20%20%20%20%20%20%20%20%20%20%20%20%20%20%20%7B%7D%0A%20%20%20%20%20%20%20%20%20%20%20%20%29.addTo%28map_7c607eefeb544b35a3eede1967c0cd77%29%3B%0A%20%20%20%20%20%20%20%20%0A%20%20%20%20%0A%20%20%20%20%20%20%20%20var%20popup_cee9f09f97654737860497639a63203e%20%3D%20L.popup%28%7B%22maxWidth%22%3A%20%22100%25%22%7D%29%3B%0A%0A%20%20%20%20%20%20%20%20%0A%20%20%20%20%20%20%20%20%20%20%20%20var%20html_d5fba480fba24eb78780235ea79cd6a9%20%3D%20%24%28%60%3Cdiv%20id%3D%22html_d5fba480fba24eb78780235ea79cd6a9%22%20style%3D%22width%3A%20100.0%25%3B%20height%3A%20100.0%25%3B%22%3EYorkville%2C%20Manhattan%288.8%29%3C/div%3E%60%29%5B0%5D%3B%0A%20%20%20%20%20%20%20%20%20%20%20%20popup_cee9f09f97654737860497639a63203e.setContent%28html_d5fba480fba24eb78780235ea79cd6a9%29%3B%0A%20%20%20%20%20%20%20%20%0A%0A%20%20%20%20%20%20%20%20marker_cf66c750b92e42a88e5bcc2464196abe.bindPopup%28popup_cee9f09f97654737860497639a63203e%29%0A%20%20%20%20%20%20%20%20%3B%0A%0A%20%20%20%20%20%20%20%20%0A%20%20%20%20%0A%20%20%20%20%0A%20%20%20%20%20%20%20%20%20%20%20%20var%20feature_group_476a461d4ef44f5eafeb208bcb985037%20%3D%20L.featureGroup%28%0A%20%20%20%20%20%20%20%20%20%20%20%20%20%20%20%20%7B%7D%0A%20%20%20%20%20%20%20%20%20%20%20%20%29.addTo%28map_7c607eefeb544b35a3eede1967c0cd77%29%3B%0A%20%20%20%20%20%20%20%20%0A%20%20%20%20%0A%20%20%20%20%20%20%20%20%20%20%20%20var%20circle_marker_4b29cde997994d7a863233599790c9b1%20%3D%20L.circleMarker%28%0A%20%20%20%20%20%20%20%20%20%20%20%20%20%20%20%20%5B40.687231607720456%2C%20-73.94178488690297%5D%2C%0A%20%20%20%20%20%20%20%20%20%20%20%20%20%20%20%20%7B%22bubblingMouseEvents%22%3A%20true%2C%20%22color%22%3A%20%22yellow%22%2C%20%22dashArray%22%3A%20null%2C%20%22dashOffset%22%3A%20null%2C%20%22fill%22%3A%20true%2C%20%22fillColor%22%3A%20%22blue%22%2C%20%22fillOpacity%22%3A%200.6%2C%20%22fillRule%22%3A%20%22evenodd%22%2C%20%22lineCap%22%3A%20%22round%22%2C%20%22lineJoin%22%3A%20%22round%22%2C%20%22opacity%22%3A%201.0%2C%20%22radius%22%3A%2010%2C%20%22stroke%22%3A%20true%2C%20%22weight%22%3A%203%7D%0A%20%20%20%20%20%20%20%20%20%20%20%20%29.addTo%28feature_group_476a461d4ef44f5eafeb208bcb985037%29%3B%0A%20%20%20%20%20%20%20%20%0A%20%20%20%20%0A%20%20%20%20%20%20%20%20%20%20%20%20var%20circle_marker_6789f432e8074123864b6a2dafa4db63%20%3D%20L.circleMarker%28%0A%20%20%20%20%20%20%20%20%20%20%20%20%20%20%20%20%5B40.685682912091444%2C%20-73.98374824115798%5D%2C%0A%20%20%20%20%20%20%20%20%20%20%20%20%20%20%20%20%7B%22bubblingMouseEvents%22%3A%20true%2C%20%22color%22%3A%20%22yellow%22%2C%20%22dashArray%22%3A%20null%2C%20%22dashOffset%22%3A%20null%2C%20%22fill%22%3A%20true%2C%20%22fillColor%22%3A%20%22blue%22%2C%20%22fillOpacity%22%3A%200.6%2C%20%22fillRule%22%3A%20%22evenodd%22%2C%20%22lineCap%22%3A%20%22round%22%2C%20%22lineJoin%22%3A%20%22round%22%2C%20%22opacity%22%3A%201.0%2C%20%22radius%22%3A%2010%2C%20%22stroke%22%3A%20true%2C%20%22weight%22%3A%203%7D%0A%20%20%20%20%20%20%20%20%20%20%20%20%29.addTo%28feature_group_476a461d4ef44f5eafeb208bcb985037%29%3B%0A%20%20%20%20%20%20%20%20%0A%20%20%20%20%0A%20%20%20%20%20%20%20%20%20%20%20%20var%20circle_marker_3387ff751afc458d9f9d360e0c85fc4f%20%3D%20L.circleMarker%28%0A%20%20%20%20%20%20%20%20%20%20%20%20%20%20%20%20%5B40.695863722724084%2C%20-73.99378225496424%5D%2C%0A%20%20%20%20%20%20%20%20%20%20%20%20%20%20%20%20%7B%22bubblingMouseEvents%22%3A%20true%2C%20%22color%22%3A%20%22yellow%22%2C%20%22dashArray%22%3A%20null%2C%20%22dashOffset%22%3A%20null%2C%20%22fill%22%3A%20true%2C%20%22fillColor%22%3A%20%22blue%22%2C%20%22fillOpacity%22%3A%200.6%2C%20%22fillRule%22%3A%20%22evenodd%22%2C%20%22lineCap%22%3A%20%22round%22%2C%20%22lineJoin%22%3A%20%22round%22%2C%20%22opacity%22%3A%201.0%2C%20%22radius%22%3A%2010%2C%20%22stroke%22%3A%20true%2C%20%22weight%22%3A%203%7D%0A%20%20%20%20%20%20%20%20%20%20%20%20%29.addTo%28feature_group_476a461d4ef44f5eafeb208bcb985037%29%3B%0A%20%20%20%20%20%20%20%20%0A%20%20%20%20%0A%20%20%20%20%20%20%20%20%20%20%20%20var%20circle_marker_ddf32ff83ac74f27960fe4fb822c9764%20%3D%20L.circleMarker%28%0A%20%20%20%20%20%20%20%20%20%20%20%20%20%20%20%20%5B40.69811611017901%2C%20-73.92525797487045%5D%2C%0A%20%20%20%20%20%20%20%20%20%20%20%20%20%20%20%20%7B%22bubblingMouseEvents%22%3A%20true%2C%20%22color%22%3A%20%22yellow%22%2C%20%22dashArray%22%3A%20null%2C%20%22dashOffset%22%3A%20null%2C%20%22fill%22%3A%20true%2C%20%22fillColor%22%3A%20%22blue%22%2C%20%22fillOpacity%22%3A%200.6%2C%20%22fillRule%22%3A%20%22evenodd%22%2C%20%22lineCap%22%3A%20%22round%22%2C%20%22lineJoin%22%3A%20%22round%22%2C%20%22opacity%22%3A%201.0%2C%20%22radius%22%3A%2010%2C%20%22stroke%22%3A%20true%2C%20%22weight%22%3A%203%7D%0A%20%20%20%20%20%20%20%20%20%20%20%20%29.addTo%28feature_group_476a461d4ef44f5eafeb208bcb985037%29%3B%0A%20%20%20%20%20%20%20%20%0A%20%20%20%20%0A%20%20%20%20%20%20%20%20%20%20%20%20var%20circle_marker_6cf02a0e87d744b1a2a3015e34c6978d%20%3D%20L.circleMarker%28%0A%20%20%20%20%20%20%20%20%20%20%20%20%20%20%20%20%5B40.680540231076485%2C%20-73.99465372828006%5D%2C%0A%20%20%20%20%20%20%20%20%20%20%20%20%20%20%20%20%7B%22bubblingMouseEvents%22%3A%20true%2C%20%22color%22%3A%20%22yellow%22%2C%20%22dashArray%22%3A%20null%2C%20%22dashOffset%22%3A%20null%2C%20%22fill%22%3A%20true%2C%20%22fillColor%22%3A%20%22blue%22%2C%20%22fillOpacity%22%3A%200.6%2C%20%22fillRule%22%3A%20%22evenodd%22%2C%20%22lineCap%22%3A%20%22round%22%2C%20%22lineJoin%22%3A%20%22round%22%2C%20%22opacity%22%3A%201.0%2C%20%22radius%22%3A%2010%2C%20%22stroke%22%3A%20true%2C%20%22weight%22%3A%203%7D%0A%20%20%20%20%20%20%20%20%20%20%20%20%29.addTo%28feature_group_476a461d4ef44f5eafeb208bcb985037%29%3B%0A%20%20%20%20%20%20%20%20%0A%20%20%20%20%0A%20%20%20%20%20%20%20%20%20%20%20%20var%20circle_marker_f3faea3d34a6407bab07da0b86499e6f%20%3D%20L.circleMarker%28%0A%20%20%20%20%20%20%20%20%20%20%20%20%20%20%20%20%5B40.81597606742414%2C%20-73.94321112603905%5D%2C%0A%20%20%20%20%20%20%20%20%20%20%20%20%20%20%20%20%7B%22bubblingMouseEvents%22%3A%20true%2C%20%22color%22%3A%20%22yellow%22%2C%20%22dashArray%22%3A%20null%2C%20%22dashOffset%22%3A%20null%2C%20%22fill%22%3A%20true%2C%20%22fillColor%22%3A%20%22blue%22%2C%20%22fillOpacity%22%3A%200.6%2C%20%22fillRule%22%3A%20%22evenodd%22%2C%20%22lineCap%22%3A%20%22round%22%2C%20%22lineJoin%22%3A%20%22round%22%2C%20%22opacity%22%3A%201.0%2C%20%22radius%22%3A%2010%2C%20%22stroke%22%3A%20true%2C%20%22weight%22%3A%203%7D%0A%20%20%20%20%20%20%20%20%20%20%20%20%29.addTo%28feature_group_476a461d4ef44f5eafeb208bcb985037%29%3B%0A%20%20%20%20%20%20%20%20%0A%20%20%20%20%0A%20%20%20%20%20%20%20%20%20%20%20%20var%20circle_marker_bec927c328144d3ea7827cb47b332197%20%3D%20L.circleMarker%28%0A%20%20%20%20%20%20%20%20%20%20%20%20%20%20%20%20%5B40.744034706747975%2C%20-74.00311633472813%5D%2C%0A%20%20%20%20%20%20%20%20%20%20%20%20%20%20%20%20%7B%22bubblingMouseEvents%22%3A%20true%2C%20%22color%22%3A%20%22yellow%22%2C%20%22dashArray%22%3A%20null%2C%20%22dashOffset%22%3A%20null%2C%20%22fill%22%3A%20true%2C%20%22fillColor%22%3A%20%22blue%22%2C%20%22fillOpacity%22%3A%200.6%2C%20%22fillRule%22%3A%20%22evenodd%22%2C%20%22lineCap%22%3A%20%22round%22%2C%20%22lineJoin%22%3A%20%22round%22%2C%20%22opacity%22%3A%201.0%2C%20%22radius%22%3A%2010%2C%20%22stroke%22%3A%20true%2C%20%22weight%22%3A%203%7D%0A%20%20%20%20%20%20%20%20%20%20%20%20%29.addTo%28feature_group_476a461d4ef44f5eafeb208bcb985037%29%3B%0A%20%20%20%20%20%20%20%20%0A%20%20%20%20%0A%20%20%20%20%20%20%20%20%20%20%20%20var%20circle_marker_cb0ded2c2d214a1ba2d9b42cd839563b%20%3D%20L.circleMarker%28%0A%20%20%20%20%20%20%20%20%20%20%20%20%20%20%20%20%5B40.59472602746295%2C%20-74.1895604551969%5D%2C%0A%20%20%20%20%20%20%20%20%20%20%20%20%20%20%20%20%7B%22bubblingMouseEvents%22%3A%20true%2C%20%22color%22%3A%20%22yellow%22%2C%20%22dashArray%22%3A%20null%2C%20%22dashOffset%22%3A%20null%2C%20%22fill%22%3A%20true%2C%20%22fillColor%22%3A%20%22blue%22%2C%20%22fillOpacity%22%3A%200.6%2C%20%22fillRule%22%3A%20%22evenodd%22%2C%20%22lineCap%22%3A%20%22round%22%2C%20%22lineJoin%22%3A%20%22round%22%2C%20%22opacity%22%3A%201.0%2C%20%22radius%22%3A%2010%2C%20%22stroke%22%3A%20true%2C%20%22weight%22%3A%203%7D%0A%20%20%20%20%20%20%20%20%20%20%20%20%29.addTo%28feature_group_476a461d4ef44f5eafeb208bcb985037%29%3B%0A%20%20%20%20%20%20%20%20%0A%20%20%20%20%0A%20%20%20%20%20%20%20%20%20%20%20%20var%20circle_marker_70db1736333e45a6816c7e422ca9f5ee%20%3D%20L.circleMarker%28%0A%20%20%20%20%20%20%20%20%20%20%20%20%20%20%20%20%5B40.71561842231432%2C%20-73.99427936255978%5D%2C%0A%20%20%20%20%20%20%20%20%20%20%20%20%20%20%20%20%7B%22bubblingMouseEvents%22%3A%20true%2C%20%22color%22%3A%20%22yellow%22%2C%20%22dashArray%22%3A%20null%2C%20%22dashOffset%22%3A%20null%2C%20%22fill%22%3A%20true%2C%20%22fillColor%22%3A%20%22blue%22%2C%20%22fillOpacity%22%3A%200.6%2C%20%22fillRule%22%3A%20%22evenodd%22%2C%20%22lineCap%22%3A%20%22round%22%2C%20%22lineJoin%22%3A%20%22round%22%2C%20%22opacity%22%3A%201.0%2C%20%22radius%22%3A%2010%2C%20%22stroke%22%3A%20true%2C%20%22weight%22%3A%203%7D%0A%20%20%20%20%20%20%20%20%20%20%20%20%29.addTo%28feature_group_476a461d4ef44f5eafeb208bcb985037%29%3B%0A%20%20%20%20%20%20%20%20%0A%20%20%20%20%0A%20%20%20%20%20%20%20%20%20%20%20%20var%20circle_marker_ddc6d195d13b4e4c852723f404dc9510%20%3D%20L.circleMarker%28%0A%20%20%20%20%20%20%20%20%20%20%20%20%20%20%20%20%5B40.75910089146212%2C%20-73.99611936309479%5D%2C%0A%20%20%20%20%20%20%20%20%20%20%20%20%20%20%20%20%7B%22bubblingMouseEvents%22%3A%20true%2C%20%22color%22%3A%20%22yellow%22%2C%20%22dashArray%22%3A%20null%2C%20%22dashOffset%22%3A%20null%2C%20%22fill%22%3A%20true%2C%20%22fillColor%22%3A%20%22blue%22%2C%20%22fillOpacity%22%3A%200.6%2C%20%22fillRule%22%3A%20%22evenodd%22%2C%20%22lineCap%22%3A%20%22round%22%2C%20%22lineJoin%22%3A%20%22round%22%2C%20%22opacity%22%3A%201.0%2C%20%22radius%22%3A%2010%2C%20%22stroke%22%3A%20true%2C%20%22weight%22%3A%203%7D%0A%20%20%20%20%20%20%20%20%20%20%20%20%29.addTo%28feature_group_476a461d4ef44f5eafeb208bcb985037%29%3B%0A%20%20%20%20%20%20%20%20%0A%20%20%20%20%0A%20%20%20%20%20%20%20%20%20%20%20%20var%20circle_marker_692c31ce7c2a44c2b57ef079e43bdf73%20%3D%20L.circleMarker%28%0A%20%20%20%20%20%20%20%20%20%20%20%20%20%20%20%20%5B40.693229421881504%2C%20-73.96784306216367%5D%2C%0A%20%20%20%20%20%20%20%20%20%20%20%20%20%20%20%20%7B%22bubblingMouseEvents%22%3A%20true%2C%20%22color%22%3A%20%22yellow%22%2C%20%22dashArray%22%3A%20null%2C%20%22dashOffset%22%3A%20null%2C%20%22fill%22%3A%20true%2C%20%22fillColor%22%3A%20%22blue%22%2C%20%22fillOpacity%22%3A%200.6%2C%20%22fillRule%22%3A%20%22evenodd%22%2C%20%22lineCap%22%3A%20%22round%22%2C%20%22lineJoin%22%3A%20%22round%22%2C%20%22opacity%22%3A%201.0%2C%20%22radius%22%3A%2010%2C%20%22stroke%22%3A%20true%2C%20%22weight%22%3A%203%7D%0A%20%20%20%20%20%20%20%20%20%20%20%20%29.addTo%28feature_group_476a461d4ef44f5eafeb208bcb985037%29%3B%0A%20%20%20%20%20%20%20%20%0A%20%20%20%20%0A%20%20%20%20%20%20%20%20%20%20%20%20var%20circle_marker_1659a8d38ee94d0d96afb06ef81cc8ac%20%3D%20L.circleMarker%28%0A%20%20%20%20%20%20%20%20%20%20%20%20%20%20%20%20%5B40.687919722485574%2C%20-73.99856139218463%5D%2C%0A%20%20%20%20%20%20%20%20%20%20%20%20%20%20%20%20%7B%22bubblingMouseEvents%22%3A%20true%2C%20%22color%22%3A%20%22yellow%22%2C%20%22dashArray%22%3A%20null%2C%20%22dashOffset%22%3A%20null%2C%20%22fill%22%3A%20true%2C%20%22fillColor%22%3A%20%22blue%22%2C%20%22fillOpacity%22%3A%200.6%2C%20%22fillRule%22%3A%20%22evenodd%22%2C%20%22lineCap%22%3A%20%22round%22%2C%20%22lineJoin%22%3A%20%22round%22%2C%20%22opacity%22%3A%201.0%2C%20%22radius%22%3A%2010%2C%20%22stroke%22%3A%20true%2C%20%22weight%22%3A%203%7D%0A%20%20%20%20%20%20%20%20%20%20%20%20%29.addTo%28feature_group_476a461d4ef44f5eafeb208bcb985037%29%3B%0A%20%20%20%20%20%20%20%20%0A%20%20%20%20%0A%20%20%20%20%20%20%20%20%20%20%20%20var%20circle_marker_95156e044ee84e07a66caa556041caed%20%3D%20L.circleMarker%28%0A%20%20%20%20%20%20%20%20%20%20%20%20%20%20%20%20%5B40.69084402109802%2C%20-73.98346337431099%5D%2C%0A%20%20%20%20%20%20%20%20%20%20%20%20%20%20%20%20%7B%22bubblingMouseEvents%22%3A%20true%2C%20%22color%22%3A%20%22yellow%22%2C%20%22dashArray%22%3A%20null%2C%20%22dashOffset%22%3A%20null%2C%20%22fill%22%3A%20true%2C%20%22fillColor%22%3A%20%22blue%22%2C%20%22fillOpacity%22%3A%200.6%2C%20%22fillRule%22%3A%20%22evenodd%22%2C%20%22lineCap%22%3A%20%22round%22%2C%20%22lineJoin%22%3A%20%22round%22%2C%20%22opacity%22%3A%201.0%2C%20%22radius%22%3A%2010%2C%20%22stroke%22%3A%20true%2C%20%22weight%22%3A%203%7D%0A%20%20%20%20%20%20%20%20%20%20%20%20%29.addTo%28feature_group_476a461d4ef44f5eafeb208bcb985037%29%3B%0A%20%20%20%20%20%20%20%20%0A%20%20%20%20%0A%20%20%20%20%20%20%20%20%20%20%20%20var%20circle_marker_dbc980048aaf4cb18b84c2534b248ecd%20%3D%20L.circleMarker%28%0A%20%20%20%20%20%20%20%20%20%20%20%20%20%20%20%20%5B40.79224946663033%2C%20-73.94418223148524%5D%2C%0A%20%20%20%20%20%20%20%20%20%20%20%20%20%20%20%20%7B%22bubblingMouseEvents%22%3A%20true%2C%20%22color%22%3A%20%22yellow%22%2C%20%22dashArray%22%3A%20null%2C%20%22dashOffset%22%3A%20null%2C%20%22fill%22%3A%20true%2C%20%22fillColor%22%3A%20%22blue%22%2C%20%22fillOpacity%22%3A%200.6%2C%20%22fillRule%22%3A%20%22evenodd%22%2C%20%22lineCap%22%3A%20%22round%22%2C%20%22lineJoin%22%3A%20%22round%22%2C%20%22opacity%22%3A%201.0%2C%20%22radius%22%3A%2010%2C%20%22stroke%22%3A%20true%2C%20%22weight%22%3A%203%7D%0A%20%20%20%20%20%20%20%20%20%20%20%20%29.addTo%28feature_group_476a461d4ef44f5eafeb208bcb985037%29%3B%0A%20%20%20%20%20%20%20%20%0A%20%20%20%20%0A%20%20%20%20%20%20%20%20%20%20%20%20var%20circle_marker_ce616fd5189f40e5bbff0314b1060774%20%3D%20L.circleMarker%28%0A%20%20%20%20%20%20%20%20%20%20%20%20%20%20%20%20%5B40.68852726018977%2C%20-73.97290574369092%5D%2C%0A%20%20%20%20%20%20%20%20%20%20%20%20%20%20%20%20%7B%22bubblingMouseEvents%22%3A%20true%2C%20%22color%22%3A%20%22yellow%22%2C%20%22dashArray%22%3A%20null%2C%20%22dashOffset%22%3A%20null%2C%20%22fill%22%3A%20true%2C%20%22fillColor%22%3A%20%22blue%22%2C%20%22fillOpacity%22%3A%200.6%2C%20%22fillRule%22%3A%20%22evenodd%22%2C%20%22lineCap%22%3A%20%22round%22%2C%20%22lineJoin%22%3A%20%22round%22%2C%20%22opacity%22%3A%201.0%2C%20%22radius%22%3A%2010%2C%20%22stroke%22%3A%20true%2C%20%22weight%22%3A%203%7D%0A%20%20%20%20%20%20%20%20%20%20%20%20%29.addTo%28feature_group_476a461d4ef44f5eafeb208bcb985037%29%3B%0A%20%20%20%20%20%20%20%20%0A%20%20%20%20%0A%20%20%20%20%20%20%20%20%20%20%20%20var%20circle_marker_518716dc3e994e94a470d7f96cff3510%20%3D%20L.circleMarker%28%0A%20%20%20%20%20%20%20%20%20%20%20%20%20%20%20%20%5B40.7302009848647%2C%20-73.95424093127393%5D%2C%0A%20%20%20%20%20%20%20%20%20%20%20%20%20%20%20%20%7B%22bubblingMouseEvents%22%3A%20true%2C%20%22color%22%3A%20%22yellow%22%2C%20%22dashArray%22%3A%20null%2C%20%22dashOffset%22%3A%20null%2C%20%22fill%22%3A%20true%2C%20%22fillColor%22%3A%20%22blue%22%2C%20%22fillOpacity%22%3A%200.6%2C%20%22fillRule%22%3A%20%22evenodd%22%2C%20%22lineCap%22%3A%20%22round%22%2C%20%22lineJoin%22%3A%20%22round%22%2C%20%22opacity%22%3A%201.0%2C%20%22radius%22%3A%2010%2C%20%22stroke%22%3A%20true%2C%20%22weight%22%3A%203%7D%0A%20%20%20%20%20%20%20%20%20%20%20%20%29.addTo%28feature_group_476a461d4ef44f5eafeb208bcb985037%29%3B%0A%20%20%20%20%20%20%20%20%0A%20%20%20%20%0A%20%20%20%20%20%20%20%20%20%20%20%20var%20circle_marker_dc0372c134be4842a6f3dd78023b14fc%20%3D%20L.circleMarker%28%0A%20%20%20%20%20%20%20%20%20%20%20%20%20%20%20%20%5B40.72693288536128%2C%20-73.99991402945902%5D%2C%0A%20%20%20%20%20%20%20%20%20%20%20%20%20%20%20%20%7B%22bubblingMouseEvents%22%3A%20true%2C%20%22color%22%3A%20%22yellow%22%2C%20%22dashArray%22%3A%20null%2C%20%22dashOffset%22%3A%20null%2C%20%22fill%22%3A%20true%2C%20%22fillColor%22%3A%20%22blue%22%2C%20%22fillOpacity%22%3A%200.6%2C%20%22fillRule%22%3A%20%22evenodd%22%2C%20%22lineCap%22%3A%20%22round%22%2C%20%22lineJoin%22%3A%20%22round%22%2C%20%22opacity%22%3A%201.0%2C%20%22radius%22%3A%2010%2C%20%22stroke%22%3A%20true%2C%20%22weight%22%3A%203%7D%0A%20%20%20%20%20%20%20%20%20%20%20%20%29.addTo%28feature_group_476a461d4ef44f5eafeb208bcb985037%29%3B%0A%20%20%20%20%20%20%20%20%0A%20%20%20%20%0A%20%20%20%20%20%20%20%20%20%20%20%20var%20circle_marker_20057d025a76457c9289f39c3f25de16%20%3D%20L.circleMarker%28%0A%20%20%20%20%20%20%20%20%20%20%20%20%20%20%20%20%5B40.76811265828733%2C%20-73.9588596881376%5D%2C%0A%20%20%20%20%20%20%20%20%20%20%20%20%20%20%20%20%7B%22bubblingMouseEvents%22%3A%20true%2C%20%22color%22%3A%20%22yellow%22%2C%20%22dashArray%22%3A%20null%2C%20%22dashOffset%22%3A%20null%2C%20%22fill%22%3A%20true%2C%20%22fillColor%22%3A%20%22blue%22%2C%20%22fillOpacity%22%3A%200.6%2C%20%22fillRule%22%3A%20%22evenodd%22%2C%20%22lineCap%22%3A%20%22round%22%2C%20%22lineJoin%22%3A%20%22round%22%2C%20%22opacity%22%3A%201.0%2C%20%22radius%22%3A%2010%2C%20%22stroke%22%3A%20true%2C%20%22weight%22%3A%203%7D%0A%20%20%20%20%20%20%20%20%20%20%20%20%29.addTo%28feature_group_476a461d4ef44f5eafeb208bcb985037%29%3B%0A%20%20%20%20%20%20%20%20%0A%20%20%20%20%0A%20%20%20%20%20%20%20%20%20%20%20%20var%20circle_marker_b36ee5beb1334efdafbc6d8f35ea2105%20%3D%20L.circleMarker%28%0A%20%20%20%20%20%20%20%20%20%20%20%20%20%20%20%20%5B40.77352888942166%2C%20-73.98533777001262%5D%2C%0A%20%20%20%20%20%20%20%20%20%20%20%20%20%20%20%20%7B%22bubblingMouseEvents%22%3A%20true%2C%20%22color%22%3A%20%22yellow%22%2C%20%22dashArray%22%3A%20null%2C%20%22dashOffset%22%3A%20null%2C%20%22fill%22%3A%20true%2C%20%22fillColor%22%3A%20%22blue%22%2C%20%22fillOpacity%22%3A%200.6%2C%20%22fillRule%22%3A%20%22evenodd%22%2C%20%22lineCap%22%3A%20%22round%22%2C%20%22lineJoin%22%3A%20%22round%22%2C%20%22opacity%22%3A%201.0%2C%20%22radius%22%3A%2010%2C%20%22stroke%22%3A%20true%2C%20%22weight%22%3A%203%7D%0A%20%20%20%20%20%20%20%20%20%20%20%20%29.addTo%28feature_group_476a461d4ef44f5eafeb208bcb985037%29%3B%0A%20%20%20%20%20%20%20%20%0A%20%20%20%20%0A%20%20%20%20%20%20%20%20%20%20%20%20var%20circle_marker_1fa1a8bc6d33416f9ffb9f809730ff3e%20%3D%20L.circleMarker%28%0A%20%20%20%20%20%20%20%20%20%20%20%20%20%20%20%20%5B40.71780674892765%2C%20-73.98089031999291%5D%2C%0A%20%20%20%20%20%20%20%20%20%20%20%20%20%20%20%20%7B%22bubblingMouseEvents%22%3A%20true%2C%20%22color%22%3A%20%22yellow%22%2C%20%22dashArray%22%3A%20null%2C%20%22dashOffset%22%3A%20null%2C%20%22fill%22%3A%20true%2C%20%22fillColor%22%3A%20%22blue%22%2C%20%22fillOpacity%22%3A%200.6%2C%20%22fillRule%22%3A%20%22evenodd%22%2C%20%22lineCap%22%3A%20%22round%22%2C%20%22lineJoin%22%3A%20%22round%22%2C%20%22opacity%22%3A%201.0%2C%20%22radius%22%3A%2010%2C%20%22stroke%22%3A%20true%2C%20%22weight%22%3A%203%7D%0A%20%20%20%20%20%20%20%20%20%20%20%20%29.addTo%28feature_group_476a461d4ef44f5eafeb208bcb985037%29%3B%0A%20%20%20%20%20%20%20%20%0A%20%20%20%20%0A%20%20%20%20%20%20%20%20%20%20%20%20var%20circle_marker_61bf5e7e3ebb433d821c5bc1753ec467%20%3D%20L.circleMarker%28%0A%20%20%20%20%20%20%20%20%20%20%20%20%20%20%20%20%5B40.8169344294978%2C%20-73.9573853935188%5D%2C%0A%20%20%20%20%20%20%20%20%20%20%20%20%20%20%20%20%7B%22bubblingMouseEvents%22%3A%20true%2C%20%22color%22%3A%20%22yellow%22%2C%20%22dashArray%22%3A%20null%2C%20%22dashOffset%22%3A%20null%2C%20%22fill%22%3A%20true%2C%20%22fillColor%22%3A%20%22blue%22%2C%20%22fillOpacity%22%3A%200.6%2C%20%22fillRule%22%3A%20%22evenodd%22%2C%20%22lineCap%22%3A%20%22round%22%2C%20%22lineJoin%22%3A%20%22round%22%2C%20%22opacity%22%3A%201.0%2C%20%22radius%22%3A%2010%2C%20%22stroke%22%3A%20true%2C%20%22weight%22%3A%203%7D%0A%20%20%20%20%20%20%20%20%20%20%20%20%29.addTo%28feature_group_476a461d4ef44f5eafeb208bcb985037%29%3B%0A%20%20%20%20%20%20%20%20%0A%20%20%20%20%0A%20%20%20%20%20%20%20%20%20%20%20%20var%20circle_marker_a5e8504150404935b63c821a016379e9%20%3D%20L.circleMarker%28%0A%20%20%20%20%20%20%20%20%20%20%20%20%20%20%20%20%5B40.75469110270623%2C%20-73.98166882730304%5D%2C%0A%20%20%20%20%20%20%20%20%20%20%20%20%20%20%20%20%7B%22bubblingMouseEvents%22%3A%20true%2C%20%22color%22%3A%20%22yellow%22%2C%20%22dashArray%22%3A%20null%2C%20%22dashOffset%22%3A%20null%2C%20%22fill%22%3A%20true%2C%20%22fillColor%22%3A%20%22blue%22%2C%20%22fillOpacity%22%3A%200.6%2C%20%22fillRule%22%3A%20%22evenodd%22%2C%20%22lineCap%22%3A%20%22round%22%2C%20%22lineJoin%22%3A%20%22round%22%2C%20%22opacity%22%3A%201.0%2C%20%22radius%22%3A%2010%2C%20%22stroke%22%3A%20true%2C%20%22weight%22%3A%203%7D%0A%20%20%20%20%20%20%20%20%20%20%20%20%29.addTo%28feature_group_476a461d4ef44f5eafeb208bcb985037%29%3B%0A%20%20%20%20%20%20%20%20%0A%20%20%20%20%0A%20%20%20%20%20%20%20%20%20%20%20%20var%20circle_marker_2dcb7c5211d34da88aba392582c37e78%20%3D%20L.circleMarker%28%0A%20%20%20%20%20%20%20%20%20%20%20%20%20%20%20%20%5B40.748303077252174%2C%20-73.97833207924127%5D%2C%0A%20%20%20%20%20%20%20%20%20%20%20%20%20%20%20%20%7B%22bubblingMouseEvents%22%3A%20true%2C%20%22color%22%3A%20%22yellow%22%2C%20%22dashArray%22%3A%20null%2C%20%22dashOffset%22%3A%20null%2C%20%22fill%22%3A%20true%2C%20%22fillColor%22%3A%20%22blue%22%2C%20%22fillOpacity%22%3A%200.6%2C%20%22fillRule%22%3A%20%22evenodd%22%2C%20%22lineCap%22%3A%20%22round%22%2C%20%22lineJoin%22%3A%20%22round%22%2C%20%22opacity%22%3A%201.0%2C%20%22radius%22%3A%2010%2C%20%22stroke%22%3A%20true%2C%20%22weight%22%3A%203%7D%0A%20%20%20%20%20%20%20%20%20%20%20%20%29.addTo%28feature_group_476a461d4ef44f5eafeb208bcb985037%29%3B%0A%20%20%20%20%20%20%20%20%0A%20%20%20%20%0A%20%20%20%20%20%20%20%20%20%20%20%20var%20circle_marker_abde1de90acd46069bd803638f59113b%20%3D%20L.circleMarker%28%0A%20%20%20%20%20%20%20%20%20%20%20%20%20%20%20%20%5B40.764126122614066%2C%20-73.81276269135866%5D%2C%0A%20%20%20%20%20%20%20%20%20%20%20%20%20%20%20%20%7B%22bubblingMouseEvents%22%3A%20true%2C%20%22color%22%3A%20%22yellow%22%2C%20%22dashArray%22%3A%20null%2C%20%22dashOffset%22%3A%20null%2C%20%22fill%22%3A%20true%2C%20%22fillColor%22%3A%20%22blue%22%2C%20%22fillOpacity%22%3A%200.6%2C%20%22fillRule%22%3A%20%22evenodd%22%2C%20%22lineCap%22%3A%20%22round%22%2C%20%22lineJoin%22%3A%20%22round%22%2C%20%22opacity%22%3A%201.0%2C%20%22radius%22%3A%2010%2C%20%22stroke%22%3A%20true%2C%20%22weight%22%3A%203%7D%0A%20%20%20%20%20%20%20%20%20%20%20%20%29.addTo%28feature_group_476a461d4ef44f5eafeb208bcb985037%29%3B%0A%20%20%20%20%20%20%20%20%0A%20%20%20%20%0A%20%20%20%20%20%20%20%20%20%20%20%20var%20circle_marker_8225ac8e4a8842bc993830a3dc65e0c3%20%3D%20L.circleMarker%28%0A%20%20%20%20%20%20%20%20%20%20%20%20%20%20%20%20%5B40.714822906532014%2C%20-73.95880857587582%5D%2C%0A%20%20%20%20%20%20%20%20%20%20%20%20%20%20%20%20%7B%22bubblingMouseEvents%22%3A%20true%2C%20%22color%22%3A%20%22yellow%22%2C%20%22dashArray%22%3A%20null%2C%20%22dashOffset%22%3A%20null%2C%20%22fill%22%3A%20true%2C%20%22fillColor%22%3A%20%22blue%22%2C%20%22fillOpacity%22%3A%200.6%2C%20%22fillRule%22%3A%20%22evenodd%22%2C%20%22lineCap%22%3A%20%22round%22%2C%20%22lineJoin%22%3A%20%22round%22%2C%20%22opacity%22%3A%201.0%2C%20%22radius%22%3A%2010%2C%20%22stroke%22%3A%20true%2C%20%22weight%22%3A%203%7D%0A%20%20%20%20%20%20%20%20%20%20%20%20%29.addTo%28feature_group_476a461d4ef44f5eafeb208bcb985037%29%3B%0A%20%20%20%20%20%20%20%20%0A%20%20%20%20%0A%20%20%20%20%20%20%20%20%20%20%20%20var%20circle_marker_6bc42a2c2b804cf6b5da459e82bd1523%20%3D%20L.circleMarker%28%0A%20%20%20%20%20%20%20%20%20%20%20%20%20%20%20%20%5B40.76215960576283%2C%20-73.94916769227953%5D%2C%0A%20%20%20%20%20%20%20%20%20%20%20%20%20%20%20%20%7B%22bubblingMouseEvents%22%3A%20true%2C%20%22color%22%3A%20%22yellow%22%2C%20%22dashArray%22%3A%20null%2C%20%22dashOffset%22%3A%20null%2C%20%22fill%22%3A%20true%2C%20%22fillColor%22%3A%20%22blue%22%2C%20%22fillOpacity%22%3A%200.6%2C%20%22fillRule%22%3A%20%22evenodd%22%2C%20%22lineCap%22%3A%20%22round%22%2C%20%22lineJoin%22%3A%20%22round%22%2C%20%22opacity%22%3A%201.0%2C%20%22radius%22%3A%2010%2C%20%22stroke%22%3A%20true%2C%20%22weight%22%3A%203%7D%0A%20%20%20%20%20%20%20%20%20%20%20%20%29.addTo%28feature_group_476a461d4ef44f5eafeb208bcb985037%29%3B%0A%20%20%20%20%20%20%20%20%0A%20%20%20%20%0A%20%20%20%20%20%20%20%20%20%20%20%20var%20circle_marker_a0202ed525ea4ce1a2ee0183bfcac16b%20%3D%20L.circleMarker%28%0A%20%20%20%20%20%20%20%20%20%20%20%20%20%20%20%20%5B40.775638573301805%2C%20-73.96050763135%5D%2C%0A%20%20%20%20%20%20%20%20%20%20%20%20%20%20%20%20%7B%22bubblingMouseEvents%22%3A%20true%2C%20%22color%22%3A%20%22yellow%22%2C%20%22dashArray%22%3A%20null%2C%20%22dashOffset%22%3A%20null%2C%20%22fill%22%3A%20true%2C%20%22fillColor%22%3A%20%22blue%22%2C%20%22fillOpacity%22%3A%200.6%2C%20%22fillRule%22%3A%20%22evenodd%22%2C%20%22lineCap%22%3A%20%22round%22%2C%20%22lineJoin%22%3A%20%22round%22%2C%20%22opacity%22%3A%201.0%2C%20%22radius%22%3A%2010%2C%20%22stroke%22%3A%20true%2C%20%22weight%22%3A%203%7D%0A%20%20%20%20%20%20%20%20%20%20%20%20%29.addTo%28feature_group_476a461d4ef44f5eafeb208bcb985037%29%3B%0A%20%20%20%20%20%20%20%20%0A%20%20%20%20%0A%20%20%20%20%20%20%20%20%20%20%20%20var%20circle_marker_ef81bbfacef045deab33b11db470dcff%20%3D%20L.circleMarker%28%0A%20%20%20%20%20%20%20%20%20%20%20%20%20%20%20%20%5B40.65694583575104%2C%20-73.98007340430172%5D%2C%0A%20%20%20%20%20%20%20%20%20%20%20%20%20%20%20%20%7B%22bubblingMouseEvents%22%3A%20true%2C%20%22color%22%3A%20%22yellow%22%2C%20%22dashArray%22%3A%20null%2C%20%22dashOffset%22%3A%20null%2C%20%22fill%22%3A%20true%2C%20%22fillColor%22%3A%20%22blue%22%2C%20%22fillOpacity%22%3A%200.6%2C%20%22fillRule%22%3A%20%22evenodd%22%2C%20%22lineCap%22%3A%20%22round%22%2C%20%22lineJoin%22%3A%20%22round%22%2C%20%22opacity%22%3A%201.0%2C%20%22radius%22%3A%2010%2C%20%22stroke%22%3A%20true%2C%20%22weight%22%3A%203%7D%0A%20%20%20%20%20%20%20%20%20%20%20%20%29.addTo%28feature_group_476a461d4ef44f5eafeb208bcb985037%29%3B%0A%20%20%20%20%20%20%20%20%0A%20%20%20%20%0A%20%20%20%20%20%20%20%20%20%20%20%20var%20circle_marker_3267fe6dcf534a54af27e20ff52c57e5%20%3D%20L.circleMarker%28%0A%20%20%20%20%20%20%20%20%20%20%20%20%20%20%20%20%5B40.775929849884875%2C%20-73.94711784471826%5D%2C%0A%20%20%20%20%20%20%20%20%20%20%20%20%20%20%20%20%7B%22bubblingMouseEvents%22%3A%20true%2C%20%22color%22%3A%20%22yellow%22%2C%20%22dashArray%22%3A%20null%2C%20%22dashOffset%22%3A%20null%2C%20%22fill%22%3A%20true%2C%20%22fillColor%22%3A%20%22blue%22%2C%20%22fillOpacity%22%3A%200.6%2C%20%22fillRule%22%3A%20%22evenodd%22%2C%20%22lineCap%22%3A%20%22round%22%2C%20%22lineJoin%22%3A%20%22round%22%2C%20%22opacity%22%3A%201.0%2C%20%22radius%22%3A%2010%2C%20%22stroke%22%3A%20true%2C%20%22weight%22%3A%203%7D%0A%20%20%20%20%20%20%20%20%20%20%20%20%29.addTo%28feature_group_476a461d4ef44f5eafeb208bcb985037%29%3B%0A%20%20%20%20%20%20%20%20%0A%3C/script%3E onload=\"this.contentDocument.open();this.contentDocument.write(    decodeURIComponent(this.getAttribute('data-html')));this.contentDocument.close();\" allowfullscreen webkitallowfullscreen mozallowfullscreen></iframe></div></div>"
      ],
      "text/plain": [
       "<folium.folium.Map at 0x7f45429259d0>"
      ]
     },
     "execution_count": 43,
     "metadata": {},
     "output_type": "execute_result"
    }
   ],
   "source": [
    "# add pop-up text to each marker on the map\n",
    "for lat, lng, label in ny_neighborhood_stats[['Latitude','Longitude','Label']].values:\n",
    "    folium.Marker([lat, lng], popup=label).add_to(ny_map)        \n",
    "# add incidents to map\n",
    "ny_map.add_child(incidents)"
   ]
  },
  {
   "cell_type": "markdown",
   "metadata": {},
   "source": [
    "Conclusion:"
   ]
  },
  {
   "cell_type": "code",
   "execution_count": null,
   "metadata": {},
   "outputs": [],
   "source": []
  },
  {
   "cell_type": "code",
   "execution_count": null,
   "metadata": {},
   "outputs": [],
   "source": []
  }
 ],
 "metadata": {
  "kernelspec": {
   "display_name": "Python 3.7",
   "language": "python",
   "name": "python3"
  },
  "language_info": {
   "codemirror_mode": {
    "name": "ipython",
    "version": 3
   },
   "file_extension": ".py",
   "mimetype": "text/x-python",
   "name": "python",
   "nbconvert_exporter": "python",
   "pygments_lexer": "ipython3",
   "version": "3.7.10"
  }
 },
 "nbformat": 4,
 "nbformat_minor": 1
}
